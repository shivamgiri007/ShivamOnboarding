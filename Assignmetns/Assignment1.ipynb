{
 "cells": [
  {
   "cell_type": "code",
   "execution_count": 1,
   "id": "33975c9c",
   "metadata": {},
   "outputs": [],
   "source": [
    "import getpass\n",
    "import os\n",
    "from langchain_openai import ChatOpenAI\n",
    "if not os.environ.get(\"OPENAI_API_KEY\"):\n",
    "  os.environ[\"OPENAI_API_KEY\"] = getpass.getpass(\"Enter API key for OpenAI: \")\n",
    "\n",
    "from langchain.chat_models import init_chat_model\n",
    "\n",
    "llm = ChatOpenAI(model=\"gpt-4o-mini\", temperature=0)"
   ]
  },
  {
   "cell_type": "code",
   "execution_count": 2,
   "id": "143dd067",
   "metadata": {},
   "outputs": [],
   "source": [
    "from datetime import datetime, timedelta\n",
    "from typing import List, Dict, Optional\n",
    "from langchain_core.tools import tool\n",
    "from langchain_core.prompts import ChatPromptTemplate\n",
    "from langchain_core.messages import AIMessage, HumanMessage, ToolMessage\n",
    "from pydantic import Field\n",
    "import json\n",
    "import re"
   ]
  },
  {
   "cell_type": "code",
   "execution_count": 3,
   "id": "72346948",
   "metadata": {},
   "outputs": [],
   "source": [
    "tasks = {\"high\":[],\"medium\":[],\"low\":[]}\n",
    "reminders = {\"high\":[],\"medium\":[],\"low\":[]}"
   ]
  },
  {
   "cell_type": "code",
   "execution_count": 4,
   "id": "f501831b",
   "metadata": {},
   "outputs": [],
   "source": [
    "from typing_extensions import Annotated\n",
    "from pydantic import BaseModel\n",
    "class addTask(BaseModel):\n",
    "    \"\"\"Adds a new task with a deadline. Deadline can be in natural language like 'Monday' or 'tomorrow'.\"\"\"\n",
    "    title: Annotated[str,...,\"Title of task.\"]\n",
    "    deadline: Annotated[str,...,\"Deadline of task.\"]\n",
    "    priority:Annotated[str,...,\"Priority of task.[High,Medium,Low]\"]=\"medium\"\n",
    "\n",
    "class setReminder(BaseModel):\n",
    "    \"\"\"Sets a reminder for a specific task at a given time with priority (high, medium, low).\"\"\"\n",
    "    task_title: Annotated[str,...,\"Title of task.\"]\n",
    "    reminder_time: Annotated[str,...,\"Reminder Time.\"]\n",
    "    priority:Annotated[str,...,\"Priority of task.[High,Medium,Low]\"]=\"medium\"\n",
    "\n",
    "class getQuery(BaseModel):\n",
    "    type:Annotated[str,...,\"task or reminder.\"]\n",
    "    priority:Optional[Annotated[str,...,\"priority of task[High,Medium,Low]\"]]\n",
    "\n"
   ]
  },
  {
   "cell_type": "code",
   "execution_count": 6,
   "id": "a49426fa",
   "metadata": {},
   "outputs": [],
   "source": [
    "@tool(args_schema=addTask)\n",
    "def add_task(title: str, deadline: str, priority: str) -> Dict:\n",
    "    \"\"\"Adds a new task with a deadline. Deadline can be in natural language like 'Monday' or 'tomorrow'.\"\"\"\n",
    "    priority = priority.lower()\n",
    "    if priority not in tasks:\n",
    "        return {\"error\": \"Invalid priority\"}\n",
    "    \n",
    "    task = {\n",
    "        \"title\": title,\n",
    "        \"deadline\": deadline,\n",
    "        \"priority\": priority,\n",
    "        \"created_at\": datetime.now().strftime(\"%Y-%m-%d %H:%M:%S\")\n",
    "    }\n",
    "    tasks[priority].append(task)\n",
    "    return task\n",
    "\n",
    "# Set reminder tool\n",
    "@tool(args_schema=setReminder)\n",
    "def set_reminder(task_title: str, reminder_time: str, priority: str) -> Dict:\n",
    "    \"\"\"Sets a reminder for a specific task at a given time with priority (high, medium, low).\"\"\"\n",
    "    priority = priority.lower()\n",
    "    if priority not in reminders:\n",
    "        return {\"error\": \"Invalid priority\"}\n",
    "    \n",
    "    reminder = {\n",
    "        \"task_title\": task_title,\n",
    "        \"reminder_time\": reminder_time,\n",
    "        \"priority\": priority,\n",
    "        \"created_at\": datetime.now().strftime(\"%Y-%m-%d %H:%M:%S\")\n",
    "    }\n",
    "    reminders[priority].append(reminder)\n",
    "    return reminder\n",
    "\n",
    "# Get query tool\n",
    "@tool(args_schema=getQuery)\n",
    "def get_query(type: str, priority: str = \"\") -> Dict:\n",
    "    \"\"\"Retrieves tasks or reminders based on the user's query. Type can be 'tasks' or 'reminders' and priority can be 'high', 'medium', or 'low'.\"\"\"\n",
    "    type = type.lower()\n",
    "    priority = priority.lower()\n",
    "\n",
    "    if type == \"tasks\":\n",
    "        if priority in tasks:\n",
    "            return {\"tasks\": tasks[priority]}\n",
    "        return {\"tasks\": tasks}\n",
    "    \n",
    "    elif type == \"reminders\":\n",
    "        if priority in reminders:\n",
    "            return {\"reminders\": reminders[priority]}\n",
    "        return {\"reminders\": reminders}\n",
    "    \n",
    "    return {\"error\": \"Invalid query type or priority\"}\n"
   ]
  },
  {
   "cell_type": "code",
   "execution_count": 7,
   "id": "ce078d68",
   "metadata": {},
   "outputs": [],
   "source": [
    "from langchain_core.utils.function_calling import convert_to_openai_function\n",
    "functions = [\n",
    "    convert_to_openai_function(add_task),\n",
    "    convert_to_openai_function(set_reminder),\n",
    "    convert_to_openai_function(get_query)\n",
    "]"
   ]
  },
  {
   "cell_type": "code",
   "execution_count": 8,
   "id": "7c5f17be",
   "metadata": {},
   "outputs": [
    {
     "data": {
      "text/plain": [
       "[{'name': 'add_task',\n",
       "  'description': \"Adds a new task with a deadline. Deadline can be in natural language like 'Monday' or 'tomorrow'.\",\n",
       "  'parameters': {'properties': {'title': {'type': 'string'},\n",
       "    'deadline': {'type': 'string'},\n",
       "    'priority': {'default': 'medium', 'type': 'string'}},\n",
       "   'required': ['title', 'deadline'],\n",
       "   'type': 'object'}},\n",
       " {'name': 'set_reminder',\n",
       "  'description': 'Sets a reminder for a specific task at a given time with priority (high, medium, low).',\n",
       "  'parameters': {'properties': {'task_title': {'type': 'string'},\n",
       "    'reminder_time': {'type': 'string'},\n",
       "    'priority': {'default': 'medium', 'type': 'string'}},\n",
       "   'required': ['task_title', 'reminder_time'],\n",
       "   'type': 'object'}},\n",
       " {'name': 'get_query',\n",
       "  'description': \"Retrieves tasks or reminders based on the user's query. Type can be 'tasks' or 'reminders' and priority can be 'high', 'medium', or 'low'.\",\n",
       "  'parameters': {'properties': {'type': {'type': 'string'},\n",
       "    'priority': {'anyOf': [{'type': 'string'}, {'type': 'null'}]}},\n",
       "   'required': ['type', 'priority'],\n",
       "   'type': 'object'}}]"
      ]
     },
     "execution_count": 8,
     "metadata": {},
     "output_type": "execute_result"
    }
   ],
   "source": [
    "functions"
   ]
  },
  {
   "cell_type": "code",
   "execution_count": 9,
   "id": "989d74b5",
   "metadata": {},
   "outputs": [],
   "source": [
    "model = llm.bind(functions=functions)"
   ]
  },
  {
   "cell_type": "code",
   "execution_count": 11,
   "id": "e4436087",
   "metadata": {},
   "outputs": [],
   "source": [
    "from langchain.prompts import ChatPromptTemplate\n",
    "prompt = ChatPromptTemplate.from_messages([\n",
    "    (\"system\", \"You are helpful but sassy assistant\"),\n",
    "    (\"user\", \"{input}\"),\n",
    "])"
   ]
  },
  {
   "cell_type": "code",
   "execution_count": 12,
   "id": "2e47bcd7",
   "metadata": {},
   "outputs": [],
   "source": [
    "from langchain.schema.agent import AgentFinish\n",
    "def route(result):\n",
    "    if isinstance(result, AgentFinish):\n",
    "        return result.return_values['output']\n",
    "    else:\n",
    "        tools = {\n",
    "            \"add_task\": add_task, \n",
    "            \"set_reminder\": set_reminder,\n",
    "            \"get_query\":get_query\n",
    "        }\n",
    "        return tools[result.tool].run(result.tool_input)"
   ]
  },
  {
   "cell_type": "code",
   "execution_count": 13,
   "id": "cc38d7ca",
   "metadata": {},
   "outputs": [],
   "source": [
    "from langchain.agents.output_parsers import OpenAIFunctionsAgentOutputParser\n",
    "\n",
    "chain = prompt | model | OpenAIFunctionsAgentOutputParser() | route"
   ]
  },
  {
   "cell_type": "code",
   "execution_count": 14,
   "id": "00a71826",
   "metadata": {},
   "outputs": [],
   "source": [
    "result = chain.invoke({\"input\": \"add task to cutting fuits on high priority for today.\"})"
   ]
  },
  {
   "cell_type": "code",
   "execution_count": 15,
   "id": "9afbbbb2",
   "metadata": {},
   "outputs": [
    {
     "data": {
      "text/plain": [
       "{'title': 'Cutting fruits',\n",
       " 'deadline': 'today',\n",
       " 'priority': 'high',\n",
       " 'created_at': '2025-04-16 16:04:45'}"
      ]
     },
     "execution_count": 15,
     "metadata": {},
     "output_type": "execute_result"
    }
   ],
   "source": [
    "result"
   ]
  },
  {
   "cell_type": "code",
   "execution_count": 16,
   "id": "1720d803",
   "metadata": {},
   "outputs": [],
   "source": [
    "result = chain.invoke({\"input\": \"which are available tasks for me on low priority today?\"})"
   ]
  },
  {
   "cell_type": "code",
   "execution_count": 17,
   "id": "0c989ce6",
   "metadata": {},
   "outputs": [
    {
     "data": {
      "text/plain": [
       "{'tasks': []}"
      ]
     },
     "execution_count": 17,
     "metadata": {},
     "output_type": "execute_result"
    }
   ],
   "source": [
    "result"
   ]
  },
  {
   "cell_type": "code",
   "execution_count": 18,
   "id": "7f696d18",
   "metadata": {},
   "outputs": [],
   "source": [
    "result = chain.invoke({\"input\": \"set eating sugar task on hi priority for today?\"})"
   ]
  },
  {
   "cell_type": "code",
   "execution_count": 19,
   "id": "9d54b1fd",
   "metadata": {},
   "outputs": [],
   "source": [
    "result = chain.invoke({\"input\": \"add a reminder for driving car on high priority for tomorrow at 2 pm?\"})"
   ]
  },
  {
   "cell_type": "code",
   "execution_count": 20,
   "id": "4c1086b8",
   "metadata": {},
   "outputs": [
    {
     "data": {
      "text/plain": [
       "{'task_title': 'driving car',\n",
       " 'reminder_time': 'tomorrow at 2 pm',\n",
       " 'priority': 'high',\n",
       " 'created_at': '2025-04-16 16:04:49'}"
      ]
     },
     "execution_count": 20,
     "metadata": {},
     "output_type": "execute_result"
    }
   ],
   "source": [
    "result"
   ]
  },
  {
   "cell_type": "code",
   "execution_count": 21,
   "id": "08fdc40a",
   "metadata": {},
   "outputs": [],
   "source": [
    "result = chain.invoke({\"input\": \"set reminder for writing books on low priority on 4 pm?\"})"
   ]
  },
  {
   "cell_type": "code",
   "execution_count": 22,
   "id": "4b29f895",
   "metadata": {},
   "outputs": [
    {
     "data": {
      "text/plain": [
       "{'task_title': 'writing books',\n",
       " 'reminder_time': '4 pm',\n",
       " 'priority': 'low',\n",
       " 'created_at': '2025-04-16 16:04:50'}"
      ]
     },
     "execution_count": 22,
     "metadata": {},
     "output_type": "execute_result"
    }
   ],
   "source": [
    "result"
   ]
  },
  {
   "cell_type": "code",
   "execution_count": 23,
   "id": "96944700",
   "metadata": {},
   "outputs": [],
   "source": [
    "result = chain.invoke({\"input\": \"which are reminders for me on low priority?\"})"
   ]
  },
  {
   "cell_type": "code",
   "execution_count": 24,
   "id": "46b07508",
   "metadata": {},
   "outputs": [
    {
     "data": {
      "text/plain": [
       "{'reminders': [{'task_title': 'writing books',\n",
       "   'reminder_time': '4 pm',\n",
       "   'priority': 'low',\n",
       "   'created_at': '2025-04-16 16:04:50'}]}"
      ]
     },
     "execution_count": 24,
     "metadata": {},
     "output_type": "execute_result"
    }
   ],
   "source": [
    "result"
   ]
  },
  {
   "cell_type": "code",
   "execution_count": 25,
   "id": "94863913",
   "metadata": {},
   "outputs": [
    {
     "name": "stdout",
     "output_type": "stream",
     "text": [
      "{'high': [{'task_title': 'driving car', 'reminder_time': 'tomorrow at 2 pm', 'priority': 'high', 'created_at': '2025-04-16 16:04:49'}], 'medium': [], 'low': [{'task_title': 'writing books', 'reminder_time': '4 pm', 'priority': 'low', 'created_at': '2025-04-16 16:04:50'}]}\n",
      "{'high': [{'title': 'Cutting fruits', 'deadline': 'today', 'priority': 'high', 'created_at': '2025-04-16 16:04:45'}, {'title': 'Eating sugar', 'deadline': 'today', 'priority': 'high', 'created_at': '2025-04-16 16:04:47'}], 'medium': [], 'low': []}\n"
     ]
    }
   ],
   "source": [
    "print(reminders)\n",
    "print(tasks)"
   ]
  },
  {
   "cell_type": "code",
   "execution_count": null,
   "id": "fac2e436",
   "metadata": {},
   "outputs": [],
   "source": []
  },
  {
   "cell_type": "code",
   "execution_count": null,
   "id": "615b2de0",
   "metadata": {},
   "outputs": [],
   "source": []
  },
  {
   "cell_type": "code",
   "execution_count": null,
   "id": "4f83eba9",
   "metadata": {},
   "outputs": [],
   "source": []
  }
 ],
 "metadata": {
  "kernelspec": {
   "display_name": "assignments",
   "language": "python",
   "name": "python3"
  },
  "language_info": {
   "codemirror_mode": {
    "name": "ipython",
    "version": 3
   },
   "file_extension": ".py",
   "mimetype": "text/x-python",
   "name": "python",
   "nbconvert_exporter": "python",
   "pygments_lexer": "ipython3",
   "version": "3.13.2"
  }
 },
 "nbformat": 4,
 "nbformat_minor": 5
}
