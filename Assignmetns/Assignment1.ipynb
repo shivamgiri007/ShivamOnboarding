{
 "cells": [
  {
   "cell_type": "code",
   "execution_count": 1,
   "id": "33975c9c",
   "metadata": {},
   "outputs": [],
   "source": [
    "import getpass\n",
    "import os\n",
    "from langchain_openai import ChatOpenAI\n",
    "if not os.environ.get(\"OPENAI_API_KEY\"):\n",
    "  os.environ[\"OPENAI_API_KEY\"] = getpass.getpass(\"Enter API key for OpenAI: \")\n",
    "\n",
    "from langchain.chat_models import init_chat_model\n",
    "\n",
    "llm = ChatOpenAI(model=\"gpt-4o-mini\", temperature=0)"
   ]
  },
  {
   "cell_type": "code",
   "execution_count": 2,
   "id": "143dd067",
   "metadata": {},
   "outputs": [],
   "source": [
    "from datetime import datetime, timedelta\n",
    "from typing import List, Dict, Optional\n",
    "from langchain_core.tools import tool\n",
    "from langchain_core.prompts import ChatPromptTemplate\n",
    "from langchain_core.runnables import RunnablePassthrough\n",
    "from langchain_core.output_parsers import StrOutputParser\n",
    "from langchain_core.messages import AIMessage, HumanMessage, ToolMessage\n",
    "from langchain.agents import AgentExecutor\n",
    "from langchain.agents.output_parsers import OpenAIFunctionsAgentOutputParser"
   ]
  },
  {
   "cell_type": "code",
   "execution_count": 3,
   "id": "e22677e6",
   "metadata": {},
   "outputs": [],
   "source": [
    "example = [\n",
    "    HumanMessage(content=\"Add a task to submit the project report by Monday.\"),\n",
    "    AIMessage(content=\"\", additional_kwargs={\n",
    "        \"function_call\": {\n",
    "            \"name\": \"add_task\",\n",
    "            \"arguments\": '{\"title\":\"Submit the project report\",\"deadline\":\"Monday\"}'\n",
    "        }\n",
    "    }),\n",
    "    ToolMessage(content='{\"status\": \"success\", \"task\": {\"title\": \"Submit the project report\", \"deadline\": \"2023-11-13\", \"created_at\": \"2023-11-10 14:30:00\"}}', tool_call_id=\"123\"),\n",
    "    \n",
    "    HumanMessage(content=\"Remind me to call John at 3 PM with high priority.\"),\n",
    "    AIMessage(content=\"\", additional_kwargs={\n",
    "        \"function_call\": {\n",
    "            \"name\": \"set_reminder\",\n",
    "            \"arguments\": '{\"task_title\":\"Call John\",\"reminder_time\":\"3 PM\",\"priority\":\"high\"}'\n",
    "        }\n",
    "    }),\n",
    "    ToolMessage(content='{\"status\": \"success\", \"reminder\": {\"task_title\": \"Call John\", \"reminder_time\": \"15:00\", \"priority\": \"high\", \"created_at\": \"2023-11-10 14:32:00\"}}', tool_call_id=\"456\"),\n",
    "    \n",
    "    HumanMessage(content=\"What tasks do I have today?\"),\n",
    "    AIMessage(content=\"\", additional_kwargs={\n",
    "        \"function_call\": {\n",
    "            \"name\": \"get_query\",\n",
    "            \"arguments\": '{\"type\":\"tasks\"}'\n",
    "        }\n",
    "    }),\n",
    "    ToolMessage(content='{\"tasks\": [{\"title\": \"Submit the project report\", \"deadline\": \"2023-11-13\", \"created_at\": \"2023-11-10 14:30:00\"}]}', tool_call_id=\"789\")\n",
    "]"
   ]
  },
  {
   "cell_type": "code",
   "execution_count": 41,
   "id": "1c7e74c9",
   "metadata": {},
   "outputs": [],
   "source": [
    "system_prompt = \"\"\"You are a helpful task and reminder assistant. You have access to these tools:\n",
    "- add_task: Adds a new task with a deadline\n",
    "- set_reminder: Sets a reminder for a specific task\n",
    "- get_query: Retrieves tasks or reminders\n",
    "\n",
    "Always use the tools when appropriate to complete user requests and return the data as JSON format output.\"\"\"\n",
    "\n",
    "# Create prompt template\n",
    "prompt = ChatPromptTemplate.from_messages([\n",
    "    (\"system\", system_prompt),\n",
    "    (\"placeholder\", \"{example}\"),\n",
    "    (\"human\", \"{input}\")\n",
    "])"
   ]
  },
  {
   "cell_type": "code",
   "execution_count": 18,
   "id": "72346948",
   "metadata": {},
   "outputs": [],
   "source": [
    "tasks = []\n",
    "reminders = []"
   ]
  },
  {
   "cell_type": "code",
   "execution_count": null,
   "id": "f501831b",
   "metadata": {},
   "outputs": [],
   "source": [
    "from typing_extensions import Annotated, BaseModel\n",
    "class add_task(BaseModel):\n",
    "    \"\"\"Adds a new task with a deadline. Deadline can be in natural language like 'Monday' or 'tomorrow'.\"\"\"\n",
    "    title: Annotated[str,...,\"Title of task.\"]\n",
    "    deadline: Annotated[str,...,\"Deadline of task.\"]\n",
    "\n",
    "class set_reminder(BaseModel):\n",
    "    \"\"\"Sets a reminder for a specific task at a given time with priority (high, medium, low).\"\"\"\n",
    "    task_title: Annotated[str,...,\"Title of task.\"]\n",
    "    reminder_time: Annotated[str,...,\"Reminder Time.\"]\n",
    "    priority:Annotated[str,...,\"Priority of task.\"]=\"medium\"\n",
    "\n",
    "class get_query(BaseModel):\n",
    "    type:Annotated[str,...,\"Type of task.\"]"
   ]
  },
  {
   "cell_type": "code",
   "execution_count": 20,
   "id": "8ae68fff",
   "metadata": {},
   "outputs": [],
   "source": [
    "@tool\n",
    "def add_task(title: str, deadline: str) -> Dict:\n",
    "    \"\"\"Adds a new task with a deadline. Deadline can be in natural language like 'Monday' or 'tomorrow'.\"\"\"\n",
    "    task = {\n",
    "        \"title\": title,\n",
    "        \"deadline\": deadline,\n",
    "        \"created_at\": datetime.now().strftime(\"%Y-%m-%d %H:%M:%S\")\n",
    "    }\n",
    "    tasks.append(task)\n",
    "    return {\"status\": \"success\", \"task\": task}\n",
    "\n",
    "@tool\n",
    "def set_reminder(task_title: str, reminder_time: str, priority: str) -> Dict:\n",
    "    \"\"\"Sets a reminder for a specific task at a given time with priority (high, medium, low).\"\"\"\n",
    "    reminder = {\n",
    "        \"task_title\": task_title,\n",
    "        \"reminder_time\": reminder_time,\n",
    "        \"priority\": priority.lower(),\n",
    "        \"created_at\": datetime.now().strftime(\"%Y-%m-%d %H:%M:%S\")\n",
    "    }\n",
    "    reminders.append(reminder)\n",
    "    return {\"status\": \"success\", \"reminder\": reminder}\n",
    "\n",
    "@tool\n",
    "def get_query(type: str) -> Dict:\n",
    "    \"\"\"Retrieves tasks or reminders based on the user's query. Type can be 'tasks' or 'reminders'.\"\"\"\n",
    "    if type == \"tasks\":\n",
    "        return {\"tasks\": tasks}\n",
    "    elif type == \"reminders\":\n",
    "        return {\"reminders\": reminders}\n",
    "    else:\n",
    "        return {\"error\": \"Invalid query type\"}\n"
   ]
  },
  {
   "cell_type": "code",
   "execution_count": 42,
   "id": "d3e9cc07",
   "metadata": {},
   "outputs": [],
   "source": [
    "tools = [add_task, set_reminder, get_query]\n",
    "# llm_with_tools = llm.bind_tools(tools)"
   ]
  },
  {
   "cell_type": "code",
   "execution_count": 43,
   "id": "c71d78cb",
   "metadata": {},
   "outputs": [],
   "source": [
    "agent = prompt | llm"
   ]
  },
  {
   "cell_type": "code",
   "execution_count": 44,
   "id": "3a297e73",
   "metadata": {},
   "outputs": [],
   "source": [
    "from langgraph.checkpoint.memory import MemorySaver\n",
    "from langgraph.prebuilt import create_react_agent\n",
    "memory = MemorySaver()\n",
    "agent_executor = create_react_agent(llm, tools, checkpointer=memory)\n"
   ]
  },
  {
   "cell_type": "code",
   "execution_count": 30,
   "id": "c0ad97fd",
   "metadata": {},
   "outputs": [
    {
     "name": "stdout",
     "output_type": "stream",
     "text": [
      "================================\u001b[1m Human Message \u001b[0m=================================\n",
      "\n",
      "Add a task to submit the project report by Monday.\n",
      "==================================\u001b[1m Ai Message \u001b[0m==================================\n",
      "Tool Calls:\n",
      "  add_task (call_tqeHBWE0nDMPQhTmeiRZVh5o)\n",
      " Call ID: call_tqeHBWE0nDMPQhTmeiRZVh5o\n",
      "  Args:\n",
      "    title: Submit the project report\n",
      "    deadline: Monday\n",
      "=================================\u001b[1m Tool Message \u001b[0m=================================\n",
      "Name: add_task\n",
      "\n",
      "{\"status\": \"success\", \"task\": {\"title\": \"Submit the project report\", \"deadline\": \"Monday\", \"created_at\": \"2025-04-15 16:02:07\"}}\n",
      "==================================\u001b[1m Ai Message \u001b[0m==================================\n",
      "\n",
      "I've added the task to submit the project report by Monday. If you need anything else, just let me know!\n"
     ]
    }
   ],
   "source": [
    "# agent.invoke(\"Add a task to submit the project report by Monday.\")\n",
    "config = {\"configurable\": {\"thread_id\": \"abc123\"}}\n",
    "for step in agent_executor.stream(\n",
    "    {\"messages\": [HumanMessage(content=\"Add a task to submit the project report by Monday.\")]},\n",
    "    config,\n",
    "    stream_mode=\"values\",\n",
    "):\n",
    "    step[\"messages\"][-1].pretty_print()"
   ]
  },
  {
   "cell_type": "code",
   "execution_count": 32,
   "id": "9067608b",
   "metadata": {},
   "outputs": [
    {
     "name": "stdout",
     "output_type": "stream",
     "text": [
      "================================\u001b[1m Human Message \u001b[0m=================================\n",
      "\n",
      "whats are the tasks for me today?\n",
      "==================================\u001b[1m Ai Message \u001b[0m==================================\n",
      "Tool Calls:\n",
      "  get_query (call_xR6bgoAHdGpeuT8svcGlFEdI)\n",
      " Call ID: call_xR6bgoAHdGpeuT8svcGlFEdI\n",
      "  Args:\n",
      "    type: tasks\n",
      "=================================\u001b[1m Tool Message \u001b[0m=================================\n",
      "Name: get_query\n",
      "\n",
      "{\"tasks\": [{\"title\": \"Submit the project report\", \"deadline\": \"Monday\", \"created_at\": \"2025-04-15 16:02:07\"}]}\n",
      "==================================\u001b[1m Ai Message \u001b[0m==================================\n",
      "\n",
      "You have one task for today: \n",
      "\n",
      "- **Submit the project report** (Deadline: Monday)\n",
      "\n",
      "If you need to add more tasks or set reminders, feel free to ask!\n"
     ]
    }
   ],
   "source": [
    "for step in agent_executor.stream(\n",
    "    {\"messages\": [HumanMessage(content=\"whats are the tasks for me today?\")]},\n",
    "    config,\n",
    "    stream_mode=\"values\",\n",
    "):\n",
    "    step[\"messages\"][-1].pretty_print()"
   ]
  },
  {
   "cell_type": "code",
   "execution_count": 47,
   "id": "b0eb90d9",
   "metadata": {},
   "outputs": [
    {
     "name": "stdout",
     "output_type": "stream",
     "text": [
      "==================================\u001b[1m Ai Message \u001b[0m==================================\n",
      "\n",
      "Yes, you have a high-priority reminder for \"Cutting fruits\" that is due today.\n"
     ]
    }
   ],
   "source": [
    "agent_executor.invoke(\n",
    "    {\"messages\": [HumanMessage(content=\"is any reminder for me today on high priority?\")]},\n",
    "    config,\n",
    "    stream_mode=\"values\",\n",
    ")[\"messages\"][-1].pretty_print()"
   ]
  },
  {
   "cell_type": "code",
   "execution_count": null,
   "id": "500417fb",
   "metadata": {},
   "outputs": [],
   "source": []
  }
 ],
 "metadata": {
  "kernelspec": {
   "display_name": "assignments",
   "language": "python",
   "name": "python3"
  },
  "language_info": {
   "codemirror_mode": {
    "name": "ipython",
    "version": 3
   },
   "file_extension": ".py",
   "mimetype": "text/x-python",
   "name": "python",
   "nbconvert_exporter": "python",
   "pygments_lexer": "ipython3",
   "version": "3.13.2"
  }
 },
 "nbformat": 4,
 "nbformat_minor": 5
}
