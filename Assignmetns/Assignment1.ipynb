{
 "cells": [
  {
   "cell_type": "code",
   "execution_count": 86,
   "id": "33975c9c",
   "metadata": {},
   "outputs": [],
   "source": [
    "import getpass\n",
    "import os\n",
    "from langchain_openai import ChatOpenAI\n",
    "if not os.environ.get(\"OPENAI_API_KEY\"):\n",
    "  os.environ[\"OPENAI_API_KEY\"] = getpass.getpass(\"Enter API key for OpenAI: \")\n",
    "\n",
    "from langchain.chat_models import init_chat_model\n",
    "\n",
    "llm = ChatOpenAI(model=\"gpt-4o-mini\", temperature=0)"
   ]
  },
  {
   "cell_type": "code",
   "execution_count": 87,
   "id": "143dd067",
   "metadata": {},
   "outputs": [],
   "source": [
    "from datetime import datetime, timedelta\n",
    "from typing import List, Dict, Optional\n",
    "from langchain_core.tools import tool\n",
    "from langchain_core.prompts import ChatPromptTemplate\n",
    "from langchain_core.messages import AIMessage, HumanMessage, ToolMessage\n",
    "from pydantic import Field\n",
    "import json\n",
    "import re\n",
    "from dateutil.parser import parse\n",
    "from dateutil.relativedelta import relativedelta\n",
    "import dateparser"
   ]
  },
  {
   "cell_type": "code",
   "execution_count": 88,
   "id": "72346948",
   "metadata": {},
   "outputs": [],
   "source": [
    "tasks = {\"high\":[],\"medium\":[],\"low\":[]}\n",
    "reminders = {\"high\":[],\"medium\":[],\"low\":[]}"
   ]
  },
  {
   "cell_type": "code",
   "execution_count": 89,
   "id": "f501831b",
   "metadata": {},
   "outputs": [],
   "source": [
    "from typing_extensions import Annotated\n",
    "from pydantic import BaseModel\n",
    "class addTask(BaseModel):\n",
    "    \"\"\"Adds a new task with a deadline. Deadline can be in natural language like 'Monday' or 'tomorrow'.\"\"\"\n",
    "    title: Annotated[str,...,\"Title of task.\"]\n",
    "    deadline: Annotated[str,...,\"Deadline of task.\"] = \"today\"\n",
    "    priority:Annotated[str,...,\"Priority of task.[High,Medium,Low]\"]=\"medium\"\n",
    "\n",
    "class setReminder(BaseModel):\n",
    "    \"\"\"Sets a reminder for a specific task at a given time with priority (high, medium, low).\"\"\"\n",
    "    task_title: Annotated[str,...,\"Title of task.\"]\n",
    "    reminder_time: Annotated[str,...,\"Reminder Time.\"] = \"today\"\n",
    "    priority:Annotated[str,...,\"Priority of task.[High,Medium,Low]\"]=\"medium\"\n",
    "\n",
    "class getQuery(BaseModel):\n",
    "    type:Annotated[str,...,\"task or reminder.\"] \n",
    "    priority:Optional[Annotated[str,...,\"priority of task[High,Medium,Low]\"]]\n",
    "    time_frame:Optional[Annotated[str,...,\"timeframe\"]]\n",
    "\n"
   ]
  },
  {
   "cell_type": "code",
   "execution_count": 90,
   "id": "61e6c0fa",
   "metadata": {},
   "outputs": [],
   "source": [
    "# Remove all the old date parsing functions and replace with:\n",
    "\n",
    "def calculate_deadline(deadline_str: str) -> datetime:\n",
    "    \"\"\"Calculate deadline from natural language using dateparser\"\"\"\n",
    "    parsed = dateparser.parse(\n",
    "        deadline_str,\n",
    "        settings={\n",
    "            'RELATIVE_BASE': datetime.now(),\n",
    "            'PREFER_DATES_FROM': 'future',\n",
    "            'PREFER_DAY_OF_MONTH': 'first'\n",
    "        }\n",
    "    )\n",
    "    \n",
    "    if not parsed:\n",
    "        return datetime.now().replace(hour=23, minute=59, second=59)\n",
    "    \n",
    "    # Default to end of day for day-only references\n",
    "    if not any(c.isdigit() for c in deadline_str if c not in [' ', ',']):\n",
    "        if deadline_str.lower() in ['today', 'tomorrow']:\n",
    "            return parsed.replace(hour=23, minute=59, second=59)\n",
    "        return parsed.replace(hour=9, minute=0, second=0)  # Default 9 AM for day names\n",
    "    \n",
    "    return parsed"
   ]
  },
  {
   "cell_type": "code",
   "execution_count": null,
   "id": "a49426fa",
   "metadata": {},
   "outputs": [],
   "source": [
    "@tool(args_schema=addTask)\n",
    "def add_task(title: str, deadline: str, priority: str) -> Dict:\n",
    "    \"\"\"Adds a new task with a deadline. Deadline can be in natural language like 'Monday' or 'tomorrow'.\"\"\"\n",
    "    priority = priority.lower()\n",
    "    if priority not in tasks:\n",
    "        return {\"error\": \"Invalid priority\"}\n",
    "    \n",
    "    try:\n",
    "        # Simplified date parsing with dateparser\n",
    "        parsed_date = dateparser.parse(\n",
    "            deadline,\n",
    "            settings={\n",
    "                'RELATIVE_BASE': datetime.now(),\n",
    "                'PREFER_DATES_FROM': 'future',\n",
    "                'PREFER_DAY_OF_MONTH': 'first'\n",
    "            }\n",
    "        )\n",
    "        \n",
    "        # Default to end of day if time not specified\n",
    "        if not any(c.isdigit() for c in deadline if c not in [' ', ',']):\n",
    "            parsed_date = parsed_date.replace(hour=23, minute=59, second=59) if deadline.lower() in ['today', 'tomorrow'] \\\n",
    "                         else parsed_date.replace(hour=9, minute=0, second=0)\n",
    "        \n",
    "        task = {\n",
    "            \"title\": title,\n",
    "            \"deadline\": parsed_date.isoformat(),\n",
    "            \"priority\": priority,\n",
    "            \"created_at\": datetime.now().isoformat()\n",
    "        }\n",
    "        tasks[priority].append(task)\n",
    "        return task\n",
    "    except Exception as e:\n",
    "        return {\"error\": f\"Could not parse deadline: {str(e)}\"}\n",
    "\n",
    "@tool(args_schema=setReminder)\n",
    "def set_reminder(task_title: str, reminder_time: str, priority: str) -> Dict:\n",
    "    \"\"\"Sets a reminder for a task. If no time is given (e.g., 'Thursday'), defaults to 9 AM.\"\"\"\n",
    "    priority = priority.lower()\n",
    "    if priority not in reminders:\n",
    "        return {\"error\": \"Invalid priority\"}\n",
    "\n",
    "    try:\n",
    "        # Parse natural language time (e.g., \"Thursday\" → next Thursday 9 AM)\n",
    "        parsed_time = dateparser.parse(\n",
    "            reminder_time,\n",
    "            settings={\n",
    "                'RELATIVE_BASE': datetime.now(),\n",
    "                'PREFER_DATES_FROM': 'future',\n",
    "                'PREFER_DAY_OF_MONTH': 'first',\n",
    "                'DEFAULT_LANGUAGES': ['en']\n",
    "            }\n",
    "        )\n",
    "\n",
    "        # Default to 9 AM if only a day is specified (e.g., \"Thursday\")\n",
    "        if not any(c.isdigit() for c in reminder_time):\n",
    "            parsed_time = parsed_time.replace(hour=9, minute=0, second=0)\n",
    "\n",
    "        reminder = {\n",
    "            \"reminder_title\": task_title,\n",
    "            \"reminder_time\": parsed_time.isoformat(),\n",
    "            \"priority\": priority,\n",
    "            \"created_at\": datetime.now().isoformat()\n",
    "        }\n",
    "        reminders[priority].append(reminder)\n",
    "        return reminder\n",
    "    except Exception as e:\n",
    "        return {\"error\": f\"Could not parse reminder time: {str(e)}\"}\n",
    "@tool(args_schema=getQuery)\n",
    "def get_query(type: str, priority: str = None, time_frame: str = None) -> Dict:\n",
    "    \"\"\"Retrieves tasks or reminders based on query.\n",
    "    Args:\n",
    "        type: 'tasks' or 'reminders'\n",
    "        priority: 'high', 'medium', or 'low' (optional)\n",
    "        time_frame: Natural language time frame like 'today', 'tomorrow', 'next week' (optional)\n",
    "    \"\"\"\n",
    "    type = type.lower()\n",
    "    priority = priority.lower() if priority else None\n",
    "    current_time = datetime.now()\n",
    "\n",
    "    def filter_by_time(items: List[Dict], time_frame: str) -> List[Dict]:\n",
    "        if not time_frame:\n",
    "            return items\n",
    "\n",
    "        time_frame = time_frame.lower()\n",
    "        filtered = []\n",
    "        current_time = datetime.now()\n",
    "        \n",
    "        try:\n",
    "            # Handle \"overdue\" case\n",
    "            if time_frame == \"overdue\":\n",
    "                for item in items:\n",
    "                    item_time = datetime.fromisoformat(item.get(\"deadline\") or item.get(\"reminder_time\"))\n",
    "                    if item_time < current_time:\n",
    "                        filtered.append(item)\n",
    "                return filtered\n",
    "\n",
    "        # Parse the target time frame (e.g., \"Thursday\" → next Thursday)\n",
    "            target_date = dateparser.parse(\n",
    "                time_frame,\n",
    "                settings={\n",
    "                    'RELATIVE_BASE': current_time,\n",
    "                    'PREFER_DATES_FROM': 'future',\n",
    "                    'DEFAULT_LANGUAGES': ['en']\n",
    "                }\n",
    "            )\n",
    "            \n",
    "            if not target_date:\n",
    "                return items\n",
    "\n",
    "            # Compare dates (ignoring time for day-based queries)\n",
    "            for item in items:\n",
    "                item_time = datetime.fromisoformat(item.get(\"deadline\") or item.get(\"reminder_time\"))\n",
    "                \n",
    "                if time_frame in [\"today\", \"tomorrow\"]:\n",
    "                    if item_time.date() == target_date.date():\n",
    "                        filtered.append(item)\n",
    "                elif time_frame == \"week\":\n",
    "                    end_of_week = current_time + timedelta(days=7)\n",
    "                    if current_time.date() <= item_time.date() <= end_of_week.date():\n",
    "                        filtered.append(item)\n",
    "                elif time_frame == \"month\":\n",
    "                    end_of_month = current_time + relativedelta(months=1)\n",
    "                    if current_time.date() <= item_time.date() <= end_of_month.date():\n",
    "                        filtered.append(item)\n",
    "                else:  # Day name or specific date (e.g., \"Thursday\")\n",
    "                    if item_time.date() == target_date.date():\n",
    "                        filtered.append(item)\n",
    "                    \n",
    "        except Exception:\n",
    "            return items\n",
    "\n",
    "        return filtered\n",
    "        \n",
    "    # Handle tasks\n",
    "    if type == \"tasks\":\n",
    "        if priority:\n",
    "            if priority in tasks:\n",
    "                items = tasks[priority]\n",
    "                return {\"tasks\": filter_by_time(items, time_frame)}\n",
    "            return {\"error\": \"Invalid priority\"}\n",
    "        \n",
    "        # No priority specified - combine all priorities\n",
    "        all_tasks = []\n",
    "        for prio in [\"high\", \"medium\", \"low\"]:\n",
    "            all_tasks.extend(tasks[prio])\n",
    "        return {\"tasks\": filter_by_time(all_tasks, time_frame)}\n",
    "\n",
    "    # Handle reminders\n",
    "    elif type == \"reminders\":\n",
    "        if priority:\n",
    "            if priority in reminders:\n",
    "                items = reminders[priority]\n",
    "                return {\"reminders\": filter_by_time(items, time_frame)}\n",
    "            return {\"error\": \"Invalid priority\"}\n",
    "        \n",
    "        # No priority specified - combine all priorities\n",
    "        all_reminders = []\n",
    "        for prio in [\"high\", \"medium\", \"low\"]:\n",
    "            all_reminders.extend(reminders[prio])\n",
    "        return {\"reminders\": filter_by_time(all_reminders, time_frame)}\n",
    "\n",
    "    return {\"error\": \"Invalid query type. Must be 'tasks' or 'reminders'\"}"
   ]
  },
  {
   "cell_type": "code",
   "execution_count": 92,
   "id": "ce078d68",
   "metadata": {},
   "outputs": [],
   "source": [
    "from langchain_core.utils.function_calling import convert_to_openai_function\n",
    "functions = [\n",
    "    convert_to_openai_function(add_task),\n",
    "    convert_to_openai_function(set_reminder),\n",
    "    convert_to_openai_function(get_query)\n",
    "]"
   ]
  },
  {
   "cell_type": "code",
   "execution_count": 93,
   "id": "7c5f17be",
   "metadata": {},
   "outputs": [
    {
     "data": {
      "text/plain": [
       "[{'name': 'add_task',\n",
       "  'description': \"Adds a new task with a deadline. Deadline can be in natural language like 'Monday' or 'tomorrow'.\",\n",
       "  'parameters': {'properties': {'title': {'type': 'string'},\n",
       "    'deadline': {'default': 'today', 'type': 'string'},\n",
       "    'priority': {'default': 'medium', 'type': 'string'}},\n",
       "   'required': ['title'],\n",
       "   'type': 'object'}},\n",
       " {'name': 'set_reminder',\n",
       "  'description': \"Sets a reminder for a task. If no time is given (e.g., 'Thursday'), defaults to 9 AM.\",\n",
       "  'parameters': {'properties': {'task_title': {'type': 'string'},\n",
       "    'reminder_time': {'default': 'today', 'type': 'string'},\n",
       "    'priority': {'default': 'medium', 'type': 'string'}},\n",
       "   'required': ['task_title'],\n",
       "   'type': 'object'}},\n",
       " {'name': 'get_query',\n",
       "  'description': \"Retrieves tasks or reminders based on query.\\nArgs:\\n    type: 'tasks' or 'reminders'\\n    priority: 'high', 'medium', or 'low' (optional)\\n    time_frame: Natural language time frame like 'today', 'tomorrow', 'next week' (optional)\",\n",
       "  'parameters': {'properties': {'type': {'type': 'string'},\n",
       "    'priority': {'anyOf': [{'type': 'string'}, {'type': 'null'}]},\n",
       "    'time_frame': {'anyOf': [{'type': 'string'}, {'type': 'null'}]}},\n",
       "   'required': ['type', 'priority', 'time_frame'],\n",
       "   'type': 'object'}}]"
      ]
     },
     "execution_count": 93,
     "metadata": {},
     "output_type": "execute_result"
    }
   ],
   "source": [
    "functions"
   ]
  },
  {
   "cell_type": "code",
   "execution_count": 94,
   "id": "989d74b5",
   "metadata": {},
   "outputs": [],
   "source": [
    "model = llm.bind(functions=functions)"
   ]
  },
  {
   "cell_type": "code",
   "execution_count": 95,
   "id": "e4436087",
   "metadata": {},
   "outputs": [],
   "source": [
    "from langchain.prompts import ChatPromptTemplate\n",
    "prompt = ChatPromptTemplate.from_messages([\n",
    "    (\"system\", \"You are helpful but sassy assistant\"),\n",
    "    (\"user\", \"{input}\"),\n",
    "])"
   ]
  },
  {
   "cell_type": "code",
   "execution_count": 96,
   "id": "2e47bcd7",
   "metadata": {},
   "outputs": [],
   "source": [
    "from langchain.schema.agent import AgentFinish\n",
    "def route(result):\n",
    "    if isinstance(result, AgentFinish):\n",
    "        return result.return_values['output']\n",
    "    else:\n",
    "        tools = {\n",
    "            \"add_task\": add_task, \n",
    "            \"set_reminder\": set_reminder,\n",
    "            \"get_query\":get_query\n",
    "        }\n",
    "        return tools[result.tool].run(result.tool_input)"
   ]
  },
  {
   "cell_type": "code",
   "execution_count": 97,
   "id": "cc38d7ca",
   "metadata": {},
   "outputs": [],
   "source": [
    "from langchain.agents.output_parsers import OpenAIFunctionsAgentOutputParser\n",
    "\n",
    "chain = prompt | model | OpenAIFunctionsAgentOutputParser() | route"
   ]
  },
  {
   "cell_type": "code",
   "execution_count": 98,
   "id": "ffbe0244",
   "metadata": {},
   "outputs": [
    {
     "data": {
      "text/plain": [
       "{'title': 'cutting fruits',\n",
       " 'deadline': '2025-04-17T09:00:00',\n",
       " 'priority': 'high',\n",
       " 'created_at': '2025-04-16T18:19:54.236836'}"
      ]
     },
     "execution_count": 98,
     "metadata": {},
     "output_type": "execute_result"
    }
   ],
   "source": [
    "chain.invoke({\"input\": \"add task to cutting fuits on high priority for thursday.\"})"
   ]
  },
  {
   "cell_type": "code",
   "execution_count": 99,
   "id": "ec3b961d",
   "metadata": {},
   "outputs": [
    {
     "data": {
      "text/plain": [
       "{'title': 'cutting fruits',\n",
       " 'deadline': '2025-04-16T23:59:59.011860',\n",
       " 'priority': 'high',\n",
       " 'created_at': '2025-04-16T18:19:56.017270'}"
      ]
     },
     "execution_count": 99,
     "metadata": {},
     "output_type": "execute_result"
    }
   ],
   "source": [
    "chain.invoke({\"input\": \"add task to cutting fuits on high priority for today.\"})"
   ]
  },
  {
   "cell_type": "code",
   "execution_count": 100,
   "id": "a5a46637",
   "metadata": {},
   "outputs": [
    {
     "data": {
      "text/plain": [
       "{'reminders': []}"
      ]
     },
     "execution_count": 100,
     "metadata": {},
     "output_type": "execute_result"
    }
   ],
   "source": [
    "chain.invoke({\"input\": \"Give me reminders for Thursday.\"})"
   ]
  },
  {
   "cell_type": "code",
   "execution_count": 101,
   "id": "1443e8b9",
   "metadata": {},
   "outputs": [
    {
     "data": {
      "text/plain": [
       "{'task_title': 'cutting fruits',\n",
       " 'reminder_time': '2025-04-17T09:00:00',\n",
       " 'priority': 'high',\n",
       " 'created_at': '2025-04-16T18:20:00.712923'}"
      ]
     },
     "execution_count": 101,
     "metadata": {},
     "output_type": "execute_result"
    }
   ],
   "source": [
    "chain.invoke({\"input\": \"add reminder to cutting fuits on high priority for thursday.\"})"
   ]
  },
  {
   "cell_type": "code",
   "execution_count": 102,
   "id": "6bf69651",
   "metadata": {},
   "outputs": [
    {
     "data": {
      "text/plain": [
       "{'reminders': [{'task_title': 'cutting fruits',\n",
       "   'reminder_time': '2025-04-17T09:00:00',\n",
       "   'priority': 'high',\n",
       "   'created_at': '2025-04-16T18:20:00.712923'}]}"
      ]
     },
     "execution_count": 102,
     "metadata": {},
     "output_type": "execute_result"
    }
   ],
   "source": [
    "chain.invoke({\"input\": \"Give me reminders for Thursday.\"})"
   ]
  },
  {
   "cell_type": "code",
   "execution_count": 103,
   "id": "fac2e436",
   "metadata": {},
   "outputs": [
    {
     "name": "stdout",
     "output_type": "stream",
     "text": [
      "{'high': [{'title': 'cutting fruits', 'deadline': '2025-04-17T09:00:00', 'priority': 'high', 'created_at': '2025-04-16T18:19:54.236836'}, {'title': 'cutting fruits', 'deadline': '2025-04-16T23:59:59.011860', 'priority': 'high', 'created_at': '2025-04-16T18:19:56.017270'}], 'medium': [], 'low': []}\n",
      "{'high': [{'task_title': 'cutting fruits', 'reminder_time': '2025-04-17T09:00:00', 'priority': 'high', 'created_at': '2025-04-16T18:20:00.712923'}], 'medium': [], 'low': []}\n"
     ]
    }
   ],
   "source": [
    "print(tasks)\n",
    "print(reminders)"
   ]
  },
  {
   "cell_type": "code",
   "execution_count": 105,
   "id": "615b2de0",
   "metadata": {},
   "outputs": [
    {
     "data": {
      "text/plain": [
       "{'tasks': [{'title': 'cutting fruits',\n",
       "   'deadline': '2025-04-17T09:00:00',\n",
       "   'priority': 'high',\n",
       "   'created_at': '2025-04-16T18:19:54.236836'}]}"
      ]
     },
     "execution_count": 105,
     "metadata": {},
     "output_type": "execute_result"
    }
   ],
   "source": [
    "chain.invoke({\"input\": \"Give me tasks for tomorrow.\"})"
   ]
  },
  {
   "cell_type": "code",
   "execution_count": 106,
   "id": "4f83eba9",
   "metadata": {},
   "outputs": [
    {
     "data": {
      "text/plain": [
       "{'tasks': [{'title': 'cutting fruits',\n",
       "   'deadline': '2025-04-17T09:00:00',\n",
       "   'priority': 'high',\n",
       "   'created_at': '2025-04-16T18:19:54.236836'}]}"
      ]
     },
     "execution_count": 106,
     "metadata": {},
     "output_type": "execute_result"
    }
   ],
   "source": [
    "chain.invoke({\"input\": \"Give me tasks for Thursday.\"})"
   ]
  },
  {
   "cell_type": "code",
   "execution_count": null,
   "id": "e4a0331c",
   "metadata": {},
   "outputs": [],
   "source": []
  }
 ],
 "metadata": {
  "kernelspec": {
   "display_name": "assignments",
   "language": "python",
   "name": "python3"
  },
  "language_info": {
   "codemirror_mode": {
    "name": "ipython",
    "version": 3
   },
   "file_extension": ".py",
   "mimetype": "text/x-python",
   "name": "python",
   "nbconvert_exporter": "python",
   "pygments_lexer": "ipython3",
   "version": "3.13.2"
  }
 },
 "nbformat": 4,
 "nbformat_minor": 5
}
