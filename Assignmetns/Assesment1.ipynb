{
 "cells": [
  {
   "cell_type": "code",
   "execution_count": 1,
   "id": "33975c9c",
   "metadata": {},
   "outputs": [],
   "source": [
    "import getpass\n",
    "import os\n",
    "from langchain_openai import ChatOpenAI\n",
    "if not os.environ.get(\"OPENAI_API_KEY\"):\n",
    "  os.environ[\"OPENAI_API_KEY\"] = getpass.getpass(\"Enter API key for OpenAI: \")\n",
    "\n",
    "llm = ChatOpenAI(model=\"gpt-4o-mini\", temperature=0)"
   ]
  },
  {
   "cell_type": "code",
   "execution_count": null,
   "id": "9a3dee45",
   "metadata": {},
   "outputs": [],
   "source": [
    "from datetime import datetime, timedelta\n",
    "from typing import List, Dict, Optional, Any\n",
    "from langchain_core.tools import tool\n",
    "from langchain_core.prompts import ChatPromptTemplate\n",
    "from pydantic import Field, BaseModel\n",
    "from typing_extensions import Annotated\n",
    "from uuid import uuid4\n",
    "from dateutil.parser import parse\n",
    "from dateutil.parser._parser import ParserError\n",
    "from zoneinfo import ZoneInfo\n",
    "from langchain_core.utils.function_calling import convert_to_openai_function\n",
    "from langchain.prompts import ChatPromptTemplate\n",
    "from langchain.schema.agent import AgentFinish\n",
    "from langchain.agents.output_parsers import OpenAIFunctionsAgentOutputParser\n",
    "from langchain_core.runnables import RunnablePassthrough"
   ]
  },
  {
   "cell_type": "code",
   "execution_count": null,
   "id": "901b34b1",
   "metadata": {},
   "outputs": [],
   "source": [
    "tasks = {\n",
    "    \"high\": [],\n",
    "    \"medium\": [],\n",
    "    \"low\": [],\n",
    "    \"_metadata\": {\n",
    "        \"last_updated\": None,\n",
    "        \"count\": 0\n",
    "    }\n",
    "}\n",
    "\n",
    "reminders = {\n",
    "    \"high\": [],\n",
    "    \"medium\": [],\n",
    "    \"low\": [],\n",
    "    \"_metadata\": {\n",
    "        \"last_updated\": None,\n",
    "        \"count\": 0\n",
    "    }\n",
    "}"
   ]
  },
  {
   "cell_type": "code",
   "execution_count": null,
   "id": "72ba15a9",
   "metadata": {},
   "outputs": [],
   "source": [
    "TIMEZONE = ZoneInfo(\"Asia/Kolkata\") \n",
    "DATE_FORMAT = \"%Y-%m-%d %H:%M:%S\"\n",
    "DAY_FORMAT = \"%A\"  \n",
    "\n",
    "def make_timezone_aware(dt: datetime) -> datetime:\n",
    "    \"\"\"Ensure datetime has proper timezone\"\"\"\n",
    "    if not dt.tzinfo:\n",
    "        return dt.replace(tzinfo=TIMEZONE)\n",
    "    return dt\n",
    "\n",
    "def parse_date_input(date_str: str) -> datetime:\n",
    "    \"\"\"Parse natural language dates with timezone awareness\"\"\"\n",
    "    try:\n",
    "        if date_str.lower() == \"today\":\n",
    "            dt = datetime.now(TIMEZONE)\n",
    "        elif date_str.lower() == \"tomorrow\":\n",
    "            dt = datetime.now(TIMEZONE) + timedelta(days=1)\n",
    "        else:\n",
    "            dt = parse(date_str)\n",
    "            dt = make_timezone_aware(dt)\n",
    "        return dt\n",
    "    except (ParserError, ValueError) as e:\n",
    "        raise ValueError(f\"Invalid date format: {date_str}\") from e\n",
    "    \n",
    "\n",
    "\n",
    "def validate_date(date_str: str) -> str:\n",
    "    \"\"\"Validate and normalize date input\"\"\"\n",
    "    try:\n",
    "        if date_str.lower() == \"today\":\n",
    "            dt = datetime.now(TIMEZONE)\n",
    "        elif date_str.lower() == \"tomorrow\":\n",
    "            dt = datetime.now(TIMEZONE) + timedelta(days=1)\n",
    "        else:\n",
    "            dt = parse(date_str)\n",
    "            if not dt.tzinfo:\n",
    "                dt = dt.replace(tzinfo=TIMEZONE)\n",
    "        return dt.strftime(DATE_FORMAT)\n",
    "    except (ParserError, ValueError) as e:\n",
    "        raise ValueError(f\"Invalid date format: {date_str}. Please use formats like 'today', 'tomorrow 2pm', or 'YYYY-MM-DD HH:MM:SS'\") from e\n",
    "\n",
    "def validate_priority(priority: str) -> str:\n",
    "    \"\"\"Validate and normalize priority input\"\"\"\n",
    "    priority = priority.lower()\n",
    "    if priority not in [\"high\", \"medium\", \"low\"]:\n",
    "        raise ValueError(\"Priority must be 'high', 'medium', or 'low'\")\n",
    "    return priority\n",
    "\n",
    "def get_day_of_week(date_str: str) -> str:\n",
    "    \"\"\"Get day name from date string\"\"\"\n",
    "    dt = datetime.strptime(date_str, DATE_FORMAT)\n",
    "    return dt.strftime(\"%A\")\n",
    "\n",
    "def preprocess_input(user_input: str) -> Dict:\n",
    "    \"\"\"Convert user input to proper chain input format\"\"\"\n",
    "    return {\"input\": user_input}\n",
    "\n",
    "def standardize_output(output: Any) -> Dict:\n",
    "    \"\"\"Ensure consistent output format\"\"\"\n",
    "    if isinstance(output, dict):\n",
    "        return output\n",
    "    return {\"result\": output}\n"
   ]
  },
  {
   "cell_type": "code",
   "execution_count": null,
   "id": "a6667f93",
   "metadata": {},
   "outputs": [],
   "source": [
    "class AddTask(BaseModel):\n",
    "    \"\"\"Adds a new task with a deadline. Deadline can be in natural language like 'Monday' or 'tomorrow'.\"\"\"\n",
    "    title: Annotated[str, Field(..., description=\"Title of task.\")]\n",
    "    deadline: Annotated[str, Field(..., description=\"Deadline of task in natural language or ISO format.\")]\n",
    "    priority: Annotated[str, Field(\"medium\", description=\"Priority of task [High, Medium, Low].\")]\n",
    "    notes: Annotated[Optional[str], Field(None, description=\"Additional notes about the task.\")]\n",
    "\n",
    "class SetReminder(BaseModel):\n",
    "    \"\"\"Sets a reminder for a specific task or creates a new task with reminder.\"\"\"\n",
    "    task_title: Annotated[str, Field(..., description=\"Title of task to remind about.\")]\n",
    "    reminder_time: Annotated[str, Field(..., description=\"Reminder time in natural language or ISO format.\")]\n",
    "    priority: Annotated[str, Field(\"medium\", description=\"Priority [High, Medium, Low].\")]\n",
    "    create_task_if_missing: Annotated[bool, Field(True, description=\"Create task if it doesn't exist.\")]\n",
    "\n",
    "class EnhancedGetQuery(BaseModel):\n",
    "    \"\"\"Retrieves tasks or reminders with advanced filtering options.\"\"\"\n",
    "    type: Annotated[str, Field(..., description=\"Type to query: 'task' or 'reminder'.\")]\n",
    "    priority: Annotated[Optional[str], Field(None, description=\"Priority filter [High, Medium, Low].\")]\n",
    "    date_range: Annotated[Optional[List[str]], Field(None, description=\"Date range filter as list [start, end].\")]\n",
    "    search_term: Annotated[Optional[str], Field(None, description=\"Text to search in titles.\")]\n",
    "    status: Annotated[Optional[str], Field(None, description=\"Status filter [active, completed].\")]\n"
   ]
  },
  {
   "cell_type": "code",
   "execution_count": null,
   "id": "9edbe890",
   "metadata": {},
   "outputs": [],
   "source": [
    "@tool(args_schema=AddTask)\n",
    "def add_task(title: str, deadline: str, priority: str = \"medium\", notes: Optional[str] = None) -> Dict:\n",
    "    \"\"\"Adds a new task with a deadline. Deadline can be in natural language like 'Monday' or 'tomorrow'.\"\"\"\n",
    "    try:\n",
    "        # Validate inputs\n",
    "        deadline = validate_date(deadline)\n",
    "        priority = validate_priority(priority)\n",
    "        day = get_day_of_week(deadline)\n",
    "        \n",
    "        # Check for duplicates\n",
    "        for p in tasks:\n",
    "            if p == \"_metadata\":\n",
    "                continue\n",
    "            if any(t[\"title\"].lower() == title.lower() for t in tasks[p]):\n",
    "                return {\"error\": f\"Task '{title}' already exists\"}\n",
    "        \n",
    "        # Create task\n",
    "        task = {\n",
    "            \"id\": str(uuid4()),\n",
    "            \"title\": title,\n",
    "            \"deadline\": deadline,\n",
    "            \"priority\": priority,\n",
    "            \"day\": day,\n",
    "            \"notes\": notes,\n",
    "            \"created_at\": datetime.now(TIMEZONE).strftime(DATE_FORMAT),\n",
    "            \"status\": \"active\"\n",
    "        }\n",
    "        \n",
    "        tasks[priority].append(task)\n",
    "        tasks[\"_metadata\"][\"count\"] += 1\n",
    "        tasks[\"_metadata\"][\"last_updated\"] = datetime.now(TIMEZONE).strftime(DATE_FORMAT)\n",
    "        \n",
    "        return {\"success\": True, \"task\": task}\n",
    "    except Exception as e:\n",
    "        return {\"error\": str(e)}\n",
    "\n",
    "@tool(args_schema=SetReminder)\n",
    "def set_reminder(\n",
    "    task_title: str, \n",
    "    reminder_time: str, \n",
    "    priority: str = \"medium\",\n",
    "    create_task_if_missing: bool = True\n",
    ") -> Dict:\n",
    "    \"\"\"Sets a reminder for a task. Creates task if missing and allowed.\"\"\"\n",
    "    try:\n",
    "        reminder_time = validate_date(reminder_time)\n",
    "        priority = validate_priority(priority)\n",
    "        \n",
    "        # Check if task exists\n",
    "        task_exists = any(\n",
    "            t[\"title\"].lower() == task_title.lower()\n",
    "            for p in tasks\n",
    "            if p != \"_metadata\"\n",
    "            for t in tasks[p]\n",
    "        )\n",
    "        \n",
    "        # Create task if it doesn't exist and we're allowed to\n",
    "        if not task_exists and create_task_if_missing:\n",
    "            task_result = add_task.run({\n",
    "                \"title\": task_title,\n",
    "                \"deadline\": reminder_time,\n",
    "                \"priority\": priority\n",
    "            })\n",
    "            if \"error\" in task_result:\n",
    "                return task_result\n",
    "        \n",
    "        # Create reminder\n",
    "        reminder = {\n",
    "            \"id\": str(uuid4()),\n",
    "            \"task_title\": task_title,\n",
    "            \"reminder_time\": reminder_time,\n",
    "            \"priority\": priority,\n",
    "            \"created_at\": datetime.now(TIMEZONE).strftime(DATE_FORMAT),\n",
    "            \"status\": \"pending\"\n",
    "        }\n",
    "        \n",
    "        reminders[priority].append(reminder)\n",
    "        reminders[\"_metadata\"][\"count\"] += 1\n",
    "        reminders[\"_metadata\"][\"last_updated\"] = datetime.now(TIMEZONE).strftime(DATE_FORMAT)\n",
    "        \n",
    "        return {\n",
    "            \"success\": True,\n",
    "            \"reminder\": reminder,\n",
    "            \"task_created\": not task_exists\n",
    "        }\n",
    "    except Exception as e:\n",
    "        return {\"error\": str(e)}\n",
    "\n",
    "\n",
    "@tool(args_schema=EnhancedGetQuery)\n",
    "def get_query(\n",
    "    type: str,\n",
    "    priority: Optional[str] = None,\n",
    "    date_range: Optional[List[str]] = None,\n",
    "    search_term: Optional[str] = None,\n",
    "    status: Optional[str] = None\n",
    ") -> Dict:\n",
    "    \"\"\"Retrieves tasks or reminders with proper timezone handling\"\"\"\n",
    "    try:\n",
    "        type = type.lower()\n",
    "        results = []\n",
    "        now = datetime.now(TIMEZONE)\n",
    "        \n",
    "        # Determine which collection to query\n",
    "        collection = tasks if type == \"task\" else reminders if type == \"reminder\" else None\n",
    "        if not collection:\n",
    "            return {\"error\": \"Invalid type. Must be 'task' or 'reminder'\"}\n",
    "        \n",
    "        # Filter by priority if specified\n",
    "        priority_keys = [validate_priority(priority)] if priority else [\"high\", \"medium\", \"low\"]\n",
    "        \n",
    "        # Process date filters\n",
    "        date_filters = []\n",
    "        if date_range:\n",
    "            for date_str in date_range:\n",
    "                try:\n",
    "                    if date_str.lower() in [\"today\", \"tomorrow\"] or date_str in [\n",
    "                        \"Monday\", \"Tuesday\", \"Wednesday\", \n",
    "                        \"Thursday\", \"Friday\", \"Saturday\", \"Sunday\"\n",
    "                    ]:\n",
    "                        date_filters.append(date_str)\n",
    "                    else:\n",
    "                        dt = parse_date_input(date_str)\n",
    "                        date_filters.append(dt)\n",
    "                except ValueError:\n",
    "                    continue\n",
    "        \n",
    "        # Apply filters\n",
    "        for p in priority_keys:\n",
    "            if p == \"_metadata\":\n",
    "                continue\n",
    "                \n",
    "            for item in collection[p]:\n",
    "                matched = True\n",
    "                \n",
    "                # Date/day filtering\n",
    "                if date_filters:\n",
    "                    item_date_str = item[\"deadline\"] if type == \"task\" else item[\"reminder_time\"]\n",
    "                    item_date = parse_date_input(item_date_str)\n",
    "                    \n",
    "                    for date_filter in date_filters:\n",
    "                        if isinstance(date_filter, str):\n",
    "                            # Handle day names (\"Thursday\") and relative dates (\"today\")\n",
    "                            if date_filter.lower() in [\"today\", \"tomorrow\"]:\n",
    "                                filter_date = parse_date_input(date_filter)\n",
    "                                if item_date.date() != filter_date.date():\n",
    "                                    matched = False\n",
    "                                    break\n",
    "                            else:\n",
    "                                # Day name comparison\n",
    "                                if item_date.strftime(DAY_FORMAT).lower() != date_filter.lower():\n",
    "                                    matched = False\n",
    "                                    break\n",
    "                        else:\n",
    "                            # Exact date comparison\n",
    "                            if item_date.date() != date_filter.date():\n",
    "                                matched = False\n",
    "                                break\n",
    "                \n",
    "                if not matched:\n",
    "                    continue\n",
    "                \n",
    "                # Search term filter\n",
    "                if search_term and search_term.lower() not in item[\"title\"].lower():\n",
    "                    continue\n",
    "                \n",
    "                # Status filter\n",
    "                if status and status.lower() != item.get(\"status\", \"\").lower():\n",
    "                    continue\n",
    "                \n",
    "                results.append(item)\n",
    "        \n",
    "        return {\"count\": len(results), \"results\": results}\n",
    "    except Exception as e:\n",
    "        return {\"error\": str(e)}"
   ]
  },
  {
   "cell_type": "code",
   "execution_count": null,
   "id": "e80c9ee2",
   "metadata": {},
   "outputs": [],
   "source": [
    "functions = [\n",
    "    convert_to_openai_function(add_task),\n",
    "    convert_to_openai_function(set_reminder),\n",
    "    convert_to_openai_function(get_query)\n",
    "]\n",
    "\n",
    "functions"
   ]
  },
  {
   "cell_type": "code",
   "execution_count": null,
   "id": "d44806f2",
   "metadata": {},
   "outputs": [],
   "source": [
    "model = llm.bind(functions=functions)\n",
    "\n",
    "# Prompt Template with Enhanced Instructions\n",
    "prompt = ChatPromptTemplate.from_messages([\n",
    "    (\"system\", \"\"\"You are a task management assistant. Current time: {current_time} in {timezone}.\n",
    "    \n",
    "Key capabilities:\n",
    "1. Understand natural language dates (today, tomorrow, Monday, etc.)\n",
    "2. Handle timezone-aware datetime operations\n",
    "3. Properly compare dates and day names\n",
    "\n",
    "When users ask about \"today\", use {current_date}.\n",
    "When users ask about days (Monday, etc.), compare day names.\n",
    "\"\"\"),\n",
    "    (\"user\", \"{input}\"),\n",
    "])\n"
   ]
  },
  {
   "cell_type": "code",
   "execution_count": null,
   "id": "71ce2337",
   "metadata": {},
   "outputs": [],
   "source": [
    "# Routing Function\n",
    "def route(result):\n",
    "    if isinstance(result, AgentFinish):\n",
    "        return result.return_values['output']\n",
    "    else:\n",
    "        tools = {\n",
    "            \"add_task\": add_task,\n",
    "            \"set_reminder\": set_reminder,\n",
    "            \"get_query\": get_query\n",
    "        }\n",
    "        try:\n",
    "            return tools[result.tool].run(result.tool_input)\n",
    "        except Exception as e:\n",
    "            return {\"error\": f\"Tool execution failed: {str(e)}\"}"
   ]
  },
  {
   "cell_type": "code",
   "execution_count": null,
   "id": "615b2de0",
   "metadata": {},
   "outputs": [],
   "source": [
    "# Chain Construction with Pre/Post Processing\n",
    "def get_current_context():\n",
    "    now = datetime.now(TIMEZONE)\n",
    "    return {\n",
    "        \"current_time\": now.strftime(\"%Y-%m-%d %H:%M:%S\"),\n",
    "        \"current_date\": now.strftime(\"%Y-%m-%d\"),\n",
    "        \"timezone\": str(TIMEZONE),\n",
    "        \"day_of_week\": now.strftime(\"%A\")\n",
    "    }\n",
    "\n",
    "chain = (\n",
    "    {\"input\": RunnablePassthrough()} \n",
    "    | RunnablePassthrough.assign(\n",
    "        current_time=lambda _: datetime.now(TIMEZONE).strftime(\"%Y-%m-%d %H:%M:%S\"),\n",
    "        current_date=lambda _: datetime.now(TIMEZONE).strftime(\"%Y-%m-%d\"),\n",
    "        timezone=lambda _: str(TIMEZONE),\n",
    "        day_of_week=lambda _: datetime.now(TIMEZONE).strftime(\"%A\")\n",
    "    )\n",
    "    | prompt\n",
    "    | model\n",
    "    | OpenAIFunctionsAgentOutputParser()\n",
    "    | route\n",
    ")"
   ]
  },
  {
   "cell_type": "code",
   "execution_count": 6,
   "id": "4f83eba9",
   "metadata": {},
   "outputs": [
    {
     "data": {
      "text/plain": [
       "{'success': True,\n",
       " 'task': {'id': '8b1b9cfd-b99f-4a20-abf5-0819284ac653',\n",
       "  'title': 'Submit the project report',\n",
       "  'deadline': '2025-04-21 00:00:00',\n",
       "  'priority': 'medium',\n",
       "  'day': 'Monday',\n",
       "  'notes': None,\n",
       "  'created_at': '2025-04-17 07:16:08',\n",
       "  'status': 'active'}}"
      ]
     },
     "execution_count": 6,
     "metadata": {},
     "output_type": "execute_result"
    }
   ],
   "source": [
    "chain.invoke(\"Add a task to submit the project report by Monday.\")"
   ]
  },
  {
   "cell_type": "code",
   "execution_count": 7,
   "id": "3c961571",
   "metadata": {},
   "outputs": [
    {
     "data": {
      "text/plain": [
       "{'count': 1,\n",
       " 'results': [{'id': '8b1b9cfd-b99f-4a20-abf5-0819284ac653',\n",
       "   'title': 'Submit the project report',\n",
       "   'deadline': '2025-04-21 00:00:00',\n",
       "   'priority': 'medium',\n",
       "   'day': 'Monday',\n",
       "   'notes': None,\n",
       "   'created_at': '2025-04-17 07:16:08',\n",
       "   'status': 'active'}]}"
      ]
     },
     "execution_count": 7,
     "metadata": {},
     "output_type": "execute_result"
    }
   ],
   "source": [
    "chain.invoke(\"which are the tasks for Monday.\")"
   ]
  },
  {
   "cell_type": "code",
   "execution_count": 8,
   "id": "54e0725c",
   "metadata": {},
   "outputs": [
    {
     "data": {
      "text/plain": [
       "{'success': True,\n",
       " 'reminder': {'id': '91874bf8-815c-489b-a4d1-52b32cae2fbf',\n",
       "  'task_title': 'Call John',\n",
       "  'reminder_time': '2025-04-17 15:00:00',\n",
       "  'priority': 'high',\n",
       "  'created_at': '2025-04-17 07:16:16',\n",
       "  'status': 'pending'},\n",
       " 'task_created': True}"
      ]
     },
     "execution_count": 8,
     "metadata": {},
     "output_type": "execute_result"
    }
   ],
   "source": [
    "chain.invoke(\"Remind me to call John at 3 PM with high priority.\")"
   ]
  },
  {
   "cell_type": "code",
   "execution_count": 9,
   "id": "0a15e2ba",
   "metadata": {},
   "outputs": [
    {
     "data": {
      "text/plain": [
       "{'count': 1,\n",
       " 'results': [{'id': '3e41754f-f607-4389-9b9c-d6d0075700a1',\n",
       "   'title': 'Call John',\n",
       "   'deadline': '2025-04-17 15:00:00',\n",
       "   'priority': 'high',\n",
       "   'day': 'Thursday',\n",
       "   'notes': None,\n",
       "   'created_at': '2025-04-17 07:16:16',\n",
       "   'status': 'active'}]}"
      ]
     },
     "execution_count": 9,
     "metadata": {},
     "output_type": "execute_result"
    }
   ],
   "source": [
    "chain.invoke(\"What tasks do I have today?\")"
   ]
  },
  {
   "cell_type": "code",
   "execution_count": 10,
   "id": "6162b5db",
   "metadata": {},
   "outputs": [
    {
     "data": {
      "text/plain": [
       "{'success': True,\n",
       " 'reminder': {'id': '4de5c875-fb5c-4bb6-ab70-2caf79cc6878',\n",
       "  'task_title': 'eating fruits',\n",
       "  'reminder_time': '2025-04-17 00:00:00',\n",
       "  'priority': 'medium',\n",
       "  'created_at': '2025-04-17 07:16:25',\n",
       "  'status': 'pending'},\n",
       " 'task_created': True}"
      ]
     },
     "execution_count": 10,
     "metadata": {},
     "output_type": "execute_result"
    }
   ],
   "source": [
    "chain.invoke(\"add reminder for eating fruits on thursday.\")"
   ]
  },
  {
   "cell_type": "code",
   "execution_count": 11,
   "id": "78fe14ca",
   "metadata": {},
   "outputs": [
    {
     "data": {
      "text/plain": [
       "{'count': 2,\n",
       " 'results': [{'id': '91874bf8-815c-489b-a4d1-52b32cae2fbf',\n",
       "   'task_title': 'Call John',\n",
       "   'reminder_time': '2025-04-17 15:00:00',\n",
       "   'priority': 'high',\n",
       "   'created_at': '2025-04-17 07:16:16',\n",
       "   'status': 'pending'},\n",
       "  {'id': '4de5c875-fb5c-4bb6-ab70-2caf79cc6878',\n",
       "   'task_title': 'eating fruits',\n",
       "   'reminder_time': '2025-04-17 00:00:00',\n",
       "   'priority': 'medium',\n",
       "   'created_at': '2025-04-17 07:16:25',\n",
       "   'status': 'pending'}]}"
      ]
     },
     "execution_count": 11,
     "metadata": {},
     "output_type": "execute_result"
    }
   ],
   "source": [
    "chain.invoke(\"Give me reminders for Thursday.\")"
   ]
  },
  {
   "cell_type": "code",
   "execution_count": 12,
   "id": "c6aba6cb",
   "metadata": {},
   "outputs": [
    {
     "data": {
      "text/plain": [
       "{'count': 2,\n",
       " 'results': [{'id': '3e41754f-f607-4389-9b9c-d6d0075700a1',\n",
       "   'title': 'Call John',\n",
       "   'deadline': '2025-04-17 15:00:00',\n",
       "   'priority': 'high',\n",
       "   'day': 'Thursday',\n",
       "   'notes': None,\n",
       "   'created_at': '2025-04-17 07:16:16',\n",
       "   'status': 'active'},\n",
       "  {'id': 'df5bf0be-e6af-47f9-aa89-d3c9f31eba3b',\n",
       "   'title': 'eating fruits',\n",
       "   'deadline': '2025-04-17 00:00:00',\n",
       "   'priority': 'medium',\n",
       "   'day': 'Thursday',\n",
       "   'notes': None,\n",
       "   'created_at': '2025-04-17 07:16:25',\n",
       "   'status': 'active'}]}"
      ]
     },
     "execution_count": 12,
     "metadata": {},
     "output_type": "execute_result"
    }
   ],
   "source": [
    "chain.invoke(\"Give me tasks for today.\")"
   ]
  },
  {
   "cell_type": "code",
   "execution_count": 17,
   "id": "a8269e87",
   "metadata": {},
   "outputs": [
    {
     "name": "stdout",
     "output_type": "stream",
     "text": [
      "{'count': 2,\n",
      " 'results': [{'created_at': '2025-04-17 07:16:16',\n",
      "              'day': 'Thursday',\n",
      "              'deadline': '2025-04-17 15:00:00',\n",
      "              'id': '3e41754f-f607-4389-9b9c-d6d0075700a1',\n",
      "              'notes': None,\n",
      "              'priority': 'high',\n",
      "              'status': 'active',\n",
      "              'title': 'Call John'},\n",
      "             {'created_at': '2025-04-17 07:16:25',\n",
      "              'day': 'Thursday',\n",
      "              'deadline': '2025-04-17 00:00:00',\n",
      "              'id': 'df5bf0be-e6af-47f9-aa89-d3c9f31eba3b',\n",
      "              'notes': None,\n",
      "              'priority': 'medium',\n",
      "              'status': 'active',\n",
      "              'title': 'eating fruits'}]}\n"
     ]
    }
   ],
   "source": [
    "from pprint import pprint\n",
    "\n",
    "response = chain.invoke(\"Give me tasks for Thursday.\")\n",
    "pprint(response)"
   ]
  },
  {
   "cell_type": "code",
   "execution_count": 18,
   "id": "8cec1d87",
   "metadata": {},
   "outputs": [
    {
     "name": "stdout",
     "output_type": "stream",
     "text": [
      "{'high': [{'id': '3e41754f-f607-4389-9b9c-d6d0075700a1', 'title': 'Call John', 'deadline': '2025-04-17 15:00:00', 'priority': 'high', 'day': 'Thursday', 'notes': None, 'created_at': '2025-04-17 07:16:16', 'status': 'active'}], 'medium': [{'id': '8b1b9cfd-b99f-4a20-abf5-0819284ac653', 'title': 'Submit the project report', 'deadline': '2025-04-21 00:00:00', 'priority': 'medium', 'day': 'Monday', 'notes': None, 'created_at': '2025-04-17 07:16:08', 'status': 'active'}, {'id': 'df5bf0be-e6af-47f9-aa89-d3c9f31eba3b', 'title': 'eating fruits', 'deadline': '2025-04-17 00:00:00', 'priority': 'medium', 'day': 'Thursday', 'notes': None, 'created_at': '2025-04-17 07:16:25', 'status': 'active'}], 'low': [], '_metadata': {'last_updated': '2025-04-17 07:16:25', 'count': 3}}\n",
      "{'high': [{'id': '91874bf8-815c-489b-a4d1-52b32cae2fbf', 'task_title': 'Call John', 'reminder_time': '2025-04-17 15:00:00', 'priority': 'high', 'created_at': '2025-04-17 07:16:16', 'status': 'pending'}], 'medium': [{'id': '4de5c875-fb5c-4bb6-ab70-2caf79cc6878', 'task_title': 'eating fruits', 'reminder_time': '2025-04-17 00:00:00', 'priority': 'medium', 'created_at': '2025-04-17 07:16:25', 'status': 'pending'}], 'low': [], '_metadata': {'last_updated': '2025-04-17 07:16:25', 'count': 2}}\n"
     ]
    }
   ],
   "source": [
    "print(tasks)\n",
    "print(reminders)"
   ]
  },
  {
   "cell_type": "code",
   "execution_count": null,
   "id": "d2771506",
   "metadata": {},
   "outputs": [],
   "source": []
  }
 ],
 "metadata": {
  "kernelspec": {
   "display_name": "assignments",
   "language": "python",
   "name": "python3"
  },
  "language_info": {
   "codemirror_mode": {
    "name": "ipython",
    "version": 3
   },
   "file_extension": ".py",
   "mimetype": "text/x-python",
   "name": "python",
   "nbconvert_exporter": "python",
   "pygments_lexer": "ipython3",
   "version": "3.13.2"
  }
 },
 "nbformat": 4,
 "nbformat_minor": 5
}
