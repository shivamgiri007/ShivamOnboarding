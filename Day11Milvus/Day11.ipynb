{
  "nbformat": 4,
  "nbformat_minor": 0,
  "metadata": {
    "colab": {
      "provenance": []
    },
    "kernelspec": {
      "name": "python3",
      "display_name": "Python 3"
    },
    "language_info": {
      "name": "python"
    }
  },
  "cells": [
    {
      "cell_type": "code",
      "execution_count": 1,
      "metadata": {
        "id": "wA7JBerI24vR",
        "colab": {
          "base_uri": "https://localhost:8080/"
        },
        "outputId": "e5c9e9e1-418d-476d-bdea-e60959b07772"
      },
      "outputs": [
        {
          "output_type": "stream",
          "name": "stdout",
          "text": [
            "Collecting pymilvus\n",
            "  Downloading pymilvus-2.5.6-py3-none-any.whl.metadata (5.7 kB)\n",
            "Requirement already satisfied: setuptools>69 in /usr/local/lib/python3.11/dist-packages (from pymilvus) (75.2.0)\n",
            "Collecting grpcio<=1.67.1,>=1.49.1 (from pymilvus)\n",
            "  Downloading grpcio-1.67.1-cp311-cp311-manylinux_2_17_x86_64.manylinux2014_x86_64.whl.metadata (3.9 kB)\n",
            "Requirement already satisfied: protobuf>=3.20.0 in /usr/local/lib/python3.11/dist-packages (from pymilvus) (5.29.4)\n",
            "Collecting python-dotenv<2.0.0,>=1.0.1 (from pymilvus)\n",
            "  Downloading python_dotenv-1.1.0-py3-none-any.whl.metadata (24 kB)\n",
            "Collecting ujson>=2.0.0 (from pymilvus)\n",
            "  Downloading ujson-5.10.0-cp311-cp311-manylinux_2_17_x86_64.manylinux2014_x86_64.whl.metadata (9.3 kB)\n",
            "Requirement already satisfied: pandas>=1.2.4 in /usr/local/lib/python3.11/dist-packages (from pymilvus) (2.2.2)\n",
            "Collecting milvus-lite>=2.4.0 (from pymilvus)\n",
            "  Downloading milvus_lite-2.4.12-py3-none-manylinux2014_x86_64.whl.metadata (10.0 kB)\n",
            "Requirement already satisfied: tqdm in /usr/local/lib/python3.11/dist-packages (from milvus-lite>=2.4.0->pymilvus) (4.67.1)\n",
            "Requirement already satisfied: numpy>=1.23.2 in /usr/local/lib/python3.11/dist-packages (from pandas>=1.2.4->pymilvus) (2.0.2)\n",
            "Requirement already satisfied: python-dateutil>=2.8.2 in /usr/local/lib/python3.11/dist-packages (from pandas>=1.2.4->pymilvus) (2.8.2)\n",
            "Requirement already satisfied: pytz>=2020.1 in /usr/local/lib/python3.11/dist-packages (from pandas>=1.2.4->pymilvus) (2025.2)\n",
            "Requirement already satisfied: tzdata>=2022.7 in /usr/local/lib/python3.11/dist-packages (from pandas>=1.2.4->pymilvus) (2025.2)\n",
            "Requirement already satisfied: six>=1.5 in /usr/local/lib/python3.11/dist-packages (from python-dateutil>=2.8.2->pandas>=1.2.4->pymilvus) (1.17.0)\n",
            "Downloading pymilvus-2.5.6-py3-none-any.whl (223 kB)\n",
            "\u001b[2K   \u001b[90m━━━━━━━━━━━━━━━━━━━━━━━━━━━━━━━━━━━━━━━━\u001b[0m \u001b[32m223.4/223.4 kB\u001b[0m \u001b[31m5.8 MB/s\u001b[0m eta \u001b[36m0:00:00\u001b[0m\n",
            "\u001b[?25hDownloading grpcio-1.67.1-cp311-cp311-manylinux_2_17_x86_64.manylinux2014_x86_64.whl (5.9 MB)\n",
            "\u001b[2K   \u001b[90m━━━━━━━━━━━━━━━━━━━━━━━━━━━━━━━━━━━━━━━━\u001b[0m \u001b[32m5.9/5.9 MB\u001b[0m \u001b[31m51.9 MB/s\u001b[0m eta \u001b[36m0:00:00\u001b[0m\n",
            "\u001b[?25hDownloading milvus_lite-2.4.12-py3-none-manylinux2014_x86_64.whl (45.2 MB)\n",
            "\u001b[2K   \u001b[90m━━━━━━━━━━━━━━━━━━━━━━━━━━━━━━━━━━━━━━━━\u001b[0m \u001b[32m45.2/45.2 MB\u001b[0m \u001b[31m17.1 MB/s\u001b[0m eta \u001b[36m0:00:00\u001b[0m\n",
            "\u001b[?25hDownloading python_dotenv-1.1.0-py3-none-any.whl (20 kB)\n",
            "Downloading ujson-5.10.0-cp311-cp311-manylinux_2_17_x86_64.manylinux2014_x86_64.whl (53 kB)\n",
            "\u001b[2K   \u001b[90m━━━━━━━━━━━━━━━━━━━━━━━━━━━━━━━━━━━━━━━━\u001b[0m \u001b[32m53.6/53.6 kB\u001b[0m \u001b[31m3.9 MB/s\u001b[0m eta \u001b[36m0:00:00\u001b[0m\n",
            "\u001b[?25hInstalling collected packages: ujson, python-dotenv, milvus-lite, grpcio, pymilvus\n",
            "  Attempting uninstall: grpcio\n",
            "    Found existing installation: grpcio 1.71.0\n",
            "    Uninstalling grpcio-1.71.0:\n",
            "      Successfully uninstalled grpcio-1.71.0\n",
            "\u001b[31mERROR: pip's dependency resolver does not currently take into account all the packages that are installed. This behaviour is the source of the following dependency conflicts.\n",
            "grpcio-status 1.71.0 requires grpcio>=1.71.0, but you have grpcio 1.67.1 which is incompatible.\u001b[0m\u001b[31m\n",
            "\u001b[0mSuccessfully installed grpcio-1.67.1 milvus-lite-2.4.12 pymilvus-2.5.6 python-dotenv-1.1.0 ujson-5.10.0\n"
          ]
        }
      ],
      "source": [
        "!pip install -U pymilvus"
      ]
    },
    {
      "cell_type": "code",
      "source": [
        "from pymilvus import MilvusClient, DataType\n",
        "\n",
        "client = MilvusClient('sample.db')"
      ],
      "metadata": {
        "id": "Ohp6qnqV9JJV"
      },
      "execution_count": 2,
      "outputs": []
    },
    {
      "cell_type": "code",
      "source": [
        "# from pymilvus import MilvusClient, DataType\n",
        "\n",
        "# client = MilvusClient('sample.db')\n",
        "\n",
        "# Define collection schema\n",
        "schema = client.create_schema(\n",
        "    auto_id=False,\n",
        "    enable_dynamic_schema=True,\n",
        ")\n",
        "\n",
        "schema.add_field(field_name=\"id\", datatype=DataType.INT64, is_primary=True)\n",
        "schema.add_field(field_name=\"vector\", datatype=DataType.FLOAT_VECTOR, dim=5)\n",
        "schema.add_field(field_name=\"age\", datatype=DataType.INT64, nullable=True) # Nullable field\n",
        "\n",
        "# Set index params\n",
        "index_params = client.prepare_index_params()\n",
        "index_params.add_index(field_name=\"vector\", index_type=\"IVF_FLAT\", metric_type=\"L2\", params={ \"nlist\": 128 })\n",
        "\n",
        "# Create collection\n",
        "client.create_collection(collection_name=\"user_profiles_null\", schema=schema, index_params=index_params)\n"
      ],
      "metadata": {
        "id": "5kC08MuP3UqX"
      },
      "execution_count": 4,
      "outputs": []
    },
    {
      "cell_type": "code",
      "source": [
        "client.describe_collection"
      ],
      "metadata": {
        "colab": {
          "base_uri": "https://localhost:8080/",
          "height": 121
        },
        "id": "bfTmTrcQ3bmN",
        "outputId": "ac89928a-2393-4a65-f3cf-a456303b4b81"
      },
      "execution_count": 9,
      "outputs": [
        {
          "output_type": "execute_result",
          "data": {
            "text/plain": [
              "<bound method MilvusClient.describe_collection of <pymilvus.milvus_client.milvus_client.MilvusClient object at 0x786f7af3b110>>"
            ],
            "text/html": [
              "<div style=\"max-width:800px; border: 1px solid var(--colab-border-color);\"><style>\n",
              "      pre.function-repr-contents {\n",
              "        overflow-x: auto;\n",
              "        padding: 8px 12px;\n",
              "        max-height: 500px;\n",
              "      }\n",
              "\n",
              "      pre.function-repr-contents.function-repr-contents-collapsed {\n",
              "        cursor: pointer;\n",
              "        max-height: 100px;\n",
              "      }\n",
              "    </style>\n",
              "    <pre style=\"white-space: initial; background:\n",
              "         var(--colab-secondary-surface-color); padding: 8px 12px;\n",
              "         border-bottom: 1px solid var(--colab-border-color);\"><b>pymilvus.milvus_client.milvus_client.MilvusClient.describe_collection</b><br/>def describe_collection(collection_name: str, timeout: Optional[float]=None, **kwargs)</pre><pre class=\"function-repr-contents function-repr-contents-collapsed\" style=\"\"><a class=\"filepath\" style=\"display:none\" href=\"#\">/usr/local/lib/python3.11/dist-packages/pymilvus/milvus_client/milvus_client.py</a>&lt;no docstring&gt;</pre>\n",
              "      <script>\n",
              "      if (google.colab.kernel.accessAllowed && google.colab.files && google.colab.files.view) {\n",
              "        for (const element of document.querySelectorAll('.filepath')) {\n",
              "          element.style.display = 'block'\n",
              "          element.onclick = (event) => {\n",
              "            event.preventDefault();\n",
              "            event.stopPropagation();\n",
              "            google.colab.files.view(element.textContent, 841);\n",
              "          };\n",
              "        }\n",
              "      }\n",
              "      for (const element of document.querySelectorAll('.function-repr-contents')) {\n",
              "        element.onclick = (event) => {\n",
              "          event.preventDefault();\n",
              "          event.stopPropagation();\n",
              "          element.classList.toggle('function-repr-contents-collapsed');\n",
              "        };\n",
              "      }\n",
              "      </script>\n",
              "      </div>"
            ]
          },
          "metadata": {},
          "execution_count": 9
        }
      ]
    },
    {
      "cell_type": "code",
      "source": [
        "client.describe_index"
      ],
      "metadata": {
        "colab": {
          "base_uri": "https://localhost:8080/",
          "height": 138
        },
        "id": "z9b7vV5_3tn7",
        "outputId": "686fd267-b58f-4536-e84c-9093b7a8082d"
      },
      "execution_count": 10,
      "outputs": [
        {
          "output_type": "execute_result",
          "data": {
            "text/plain": [
              "<bound method MilvusClient.describe_index of <pymilvus.milvus_client.milvus_client.MilvusClient object at 0x786f7af3b110>>"
            ],
            "text/html": [
              "<div style=\"max-width:800px; border: 1px solid var(--colab-border-color);\"><style>\n",
              "      pre.function-repr-contents {\n",
              "        overflow-x: auto;\n",
              "        padding: 8px 12px;\n",
              "        max-height: 500px;\n",
              "      }\n",
              "\n",
              "      pre.function-repr-contents.function-repr-contents-collapsed {\n",
              "        cursor: pointer;\n",
              "        max-height: 100px;\n",
              "      }\n",
              "    </style>\n",
              "    <pre style=\"white-space: initial; background:\n",
              "         var(--colab-secondary-surface-color); padding: 8px 12px;\n",
              "         border-bottom: 1px solid var(--colab-border-color);\"><b>pymilvus.milvus_client.milvus_client.MilvusClient.describe_index</b><br/>def describe_index(collection_name: str, index_name: str, timeout: Optional[float]=None, **kwargs) -&gt; Dict</pre><pre class=\"function-repr-contents function-repr-contents-collapsed\" style=\"\"><a class=\"filepath\" style=\"display:none\" href=\"#\">/usr/local/lib/python3.11/dist-packages/pymilvus/milvus_client/milvus_client.py</a>&lt;no docstring&gt;</pre>\n",
              "      <script>\n",
              "      if (google.colab.kernel.accessAllowed && google.colab.files && google.colab.files.view) {\n",
              "        for (const element of document.querySelectorAll('.filepath')) {\n",
              "          element.style.display = 'block'\n",
              "          element.onclick = (event) => {\n",
              "            event.preventDefault();\n",
              "            event.stopPropagation();\n",
              "            google.colab.files.view(element.textContent, 1029);\n",
              "          };\n",
              "        }\n",
              "      }\n",
              "      for (const element of document.querySelectorAll('.function-repr-contents')) {\n",
              "        element.onclick = (event) => {\n",
              "          event.preventDefault();\n",
              "          event.stopPropagation();\n",
              "          element.classList.toggle('function-repr-contents-collapsed');\n",
              "        };\n",
              "      }\n",
              "      </script>\n",
              "      </div>"
            ]
          },
          "metadata": {},
          "execution_count": 10
        }
      ]
    },
    {
      "cell_type": "code",
      "source": [
        "client.describe_database"
      ],
      "metadata": {
        "colab": {
          "base_uri": "https://localhost:8080/",
          "height": 121
        },
        "id": "-LaBM1KN4ClH",
        "outputId": "0c10445a-df11-442f-9df0-1f41960030ef"
      },
      "execution_count": 11,
      "outputs": [
        {
          "output_type": "execute_result",
          "data": {
            "text/plain": [
              "<bound method MilvusClient.describe_database of <pymilvus.milvus_client.milvus_client.MilvusClient object at 0x786f7af3b110>>"
            ],
            "text/html": [
              "<div style=\"max-width:800px; border: 1px solid var(--colab-border-color);\"><style>\n",
              "      pre.function-repr-contents {\n",
              "        overflow-x: auto;\n",
              "        padding: 8px 12px;\n",
              "        max-height: 500px;\n",
              "      }\n",
              "\n",
              "      pre.function-repr-contents.function-repr-contents-collapsed {\n",
              "        cursor: pointer;\n",
              "        max-height: 100px;\n",
              "      }\n",
              "    </style>\n",
              "    <pre style=\"white-space: initial; background:\n",
              "         var(--colab-secondary-surface-color); padding: 8px 12px;\n",
              "         border-bottom: 1px solid var(--colab-border-color);\"><b>pymilvus.milvus_client.milvus_client.MilvusClient.describe_database</b><br/>def describe_database(db_name: str, **kwargs) -&gt; dict</pre><pre class=\"function-repr-contents function-repr-contents-collapsed\" style=\"\"><a class=\"filepath\" style=\"display:none\" href=\"#\">/usr/local/lib/python3.11/dist-packages/pymilvus/milvus_client/milvus_client.py</a>&lt;no docstring&gt;</pre>\n",
              "      <script>\n",
              "      if (google.colab.kernel.accessAllowed && google.colab.files && google.colab.files.view) {\n",
              "        for (const element of document.querySelectorAll('.filepath')) {\n",
              "          element.style.display = 'block'\n",
              "          element.onclick = (event) => {\n",
              "            event.preventDefault();\n",
              "            event.stopPropagation();\n",
              "            google.colab.files.view(element.textContent, 1392);\n",
              "          };\n",
              "        }\n",
              "      }\n",
              "      for (const element of document.querySelectorAll('.function-repr-contents')) {\n",
              "        element.onclick = (event) => {\n",
              "          event.preventDefault();\n",
              "          event.stopPropagation();\n",
              "          element.classList.toggle('function-repr-contents-collapsed');\n",
              "        };\n",
              "      }\n",
              "      </script>\n",
              "      </div>"
            ]
          },
          "metadata": {},
          "execution_count": 11
        }
      ]
    },
    {
      "cell_type": "code",
      "source": [
        "data = [\n",
        "    {\"id\": 1, \"vector\": [0.1, 0.2, 0.3, 0.4, 0.5], \"age\": 30},\n",
        "    {\"id\": 2, \"vector\": [0.2, 0.3, 0.4, 0.5, 0.6], \"age\": None},\n",
        "    {\"id\": 3, \"vector\": [0.3, 0.4, 0.5, 0.6, 0.7]}\n",
        "]\n",
        "\n",
        "client.insert(collection_name=\"user_profiles_null\", data=data)"
      ],
      "metadata": {
        "colab": {
          "base_uri": "https://localhost:8080/"
        },
        "id": "6AKyjNvK4Nqy",
        "outputId": "27df2880-ef3d-4506-877f-c0a12365e22d"
      },
      "execution_count": 13,
      "outputs": [
        {
          "output_type": "execute_result",
          "data": {
            "text/plain": [
              "{'insert_count': 3, 'ids': [1, 2, 3], 'cost': 0}"
            ]
          },
          "metadata": {},
          "execution_count": 13
        }
      ]
    },
    {
      "cell_type": "code",
      "source": [
        "res = client.search(\n",
        "    collection_name=\"user_profiles_null\",\n",
        "    data=[[0.1, 0.2, 0.4, 0.3, 0.128]],\n",
        "    limit=2,\n",
        "    search_params={\"params\": {\"nprobe\": 16}},\n",
        "    output_fields=[\"id\", \"age\"]\n",
        ")\n",
        "\n",
        "print(res)"
      ],
      "metadata": {
        "colab": {
          "base_uri": "https://localhost:8080/"
        },
        "id": "iGDPCV9O4aCE",
        "outputId": "0fe719cf-81ab-497f-beeb-2f957a4368dc"
      },
      "execution_count": 14,
      "outputs": [
        {
          "output_type": "stream",
          "name": "stdout",
          "text": [
            "data: [\"[{'id': 1, 'distance': 0.15838398039340973, 'entity': {'age': 30, 'id': 1}}, {'id': 2, 'distance': 0.28278401494026184, 'entity': {'age': 136962888253504, 'id': 2}}]\"]\n"
          ]
        }
      ]
    },
    {
      "cell_type": "code",
      "source": [
        "results = client.query(\n",
        "    collection_name=\"user_profiles_null\",\n",
        "    filter=\"age >= 0\",\n",
        "    output_fields=[\"id\", \"age\"]\n",
        ")\n"
      ],
      "metadata": {
        "id": "bz8-Q4mh44tQ"
      },
      "execution_count": 15,
      "outputs": []
    },
    {
      "cell_type": "markdown",
      "source": [
        "In Query Null Values are ommited"
      ],
      "metadata": {
        "id": "oDS3iUao5VXm"
      }
    },
    {
      "cell_type": "code",
      "source": [
        "print(results)"
      ],
      "metadata": {
        "colab": {
          "base_uri": "https://localhost:8080/"
        },
        "id": "lAaCwMBD5NXh",
        "outputId": "327d7dc4-94c3-4fe3-df2c-8a37f0d0d279"
      },
      "execution_count": 16,
      "outputs": [
        {
          "output_type": "stream",
          "name": "stdout",
          "text": [
            "data: [\"{'id': 1, 'age': 30}\", \"{'id': 2, 'age': 136962888253504}\", \"{'id': 3, 'age': 136962888256576}\"]\n"
          ]
        }
      ]
    },
    {
      "cell_type": "code",
      "source": [
        "null_results = client.query(\n",
        "    collection_name=\"user_profiles_null\",\n",
        "    filter=\"\", # Query without any filtering condition\n",
        "    output_fields=[\"id\", \"age\"],\n",
        "    limit=10 # `limit` parameter is required when using `query` method without filtering condition\n",
        ")"
      ],
      "metadata": {
        "id": "7-ZRlf615T7u"
      },
      "execution_count": 17,
      "outputs": []
    },
    {
      "cell_type": "markdown",
      "source": [
        "Query withhout filter attribute return all data with null values also"
      ],
      "metadata": {
        "id": "8soEBi7W5mDM"
      }
    },
    {
      "cell_type": "code",
      "source": [
        "print(null_results)"
      ],
      "metadata": {
        "colab": {
          "base_uri": "https://localhost:8080/"
        },
        "id": "RqyUorDe5hnW",
        "outputId": "53449cca-270d-47d8-8a39-a08798015811"
      },
      "execution_count": 18,
      "outputs": [
        {
          "output_type": "stream",
          "name": "stdout",
          "text": [
            "data: [\"{'id': 1, 'age': 30}\", \"{'id': 2, 'age': 136962888253504}\", \"{'id': 3, 'age': 136962888256576}\"]\n"
          ]
        }
      ]
    },
    {
      "cell_type": "markdown",
      "source": [
        "default_value parameter"
      ],
      "metadata": {
        "id": "HRgGFdoq6J-6"
      }
    },
    {
      "cell_type": "code",
      "source": [
        "schema = client.create_schema(\n",
        "    auto_id=False,\n",
        "    enable_dynamic_schema=True,\n",
        ")\n",
        "\n",
        "schema.add_field(field_name=\"id\", datatype=DataType.INT64, is_primary=True)\n",
        "schema.add_field(field_name=\"vector\", datatype=DataType.FLOAT_VECTOR, dim=5)\n",
        "schema.add_field(field_name=\"age\", datatype=DataType.INT64, default_value=18)\n",
        "schema.add_field(field_name=\"status\", datatype=DataType.VARCHAR, default_value=\"active\", max_length=10)\n",
        "\n",
        "index_params = client.prepare_index_params()\n",
        "index_params.add_index(field_name=\"vector\", index_type=\"IVF_FLAT\", metric_type=\"L2\", params={ \"nlist\": 128 })\n",
        "\n",
        "client.create_collection(collection_name=\"user_profiles_default\", schema=schema, index_params=index_params)\n"
      ],
      "metadata": {
        "id": "MTNbkU7Y5lLX"
      },
      "execution_count": 3,
      "outputs": []
    },
    {
      "cell_type": "code",
      "source": [
        "data = [\n",
        "    {\"id\": 1, \"vector\": [0.1, 0.2,0.0,0.0,0.128], \"age\": 30, \"status\": \"premium\"},\n",
        "    {\"id\": 2, \"vector\": [0.2, 0.3,0.0,0.0,0.129]},\n",
        "    {\"id\": 3, \"vector\": [0.3, 0.4,0.0,0.0,0.130], \"age\": 25, \"status\": None},\n",
        "    {\"id\": 4, \"vector\": [0.4, 0.5,0.0,0.0,0.131], \"age\": None, \"status\": \"inactive\"}\n",
        "]\n",
        "\n",
        "client.insert(collection_name=\"user_profiles_default\", data=data)"
      ],
      "metadata": {
        "id": "HAn2ZeCP6OVs"
      },
      "execution_count": null,
      "outputs": []
    }
  ]
}