{
 "cells": [
  {
   "cell_type": "markdown",
   "id": "8ad976db-fb87-4a92-b0d2-06defc098339",
   "metadata": {},
   "source": [
    "# Lesson 5: Human in the Loop"
   ]
  },
  {
   "cell_type": "markdown",
   "id": "91d756c3-9c97-4155-9b56-8ecfed5f1876",
   "metadata": {},
   "source": [
    "Note: This notebook is running in a later version of langgraph that it was filmed with. The later version has a couple of key additions:\n",
    "- Additional state information is stored to memory and displayed when using `get_state()` or `get_state_history()`.\n",
    "- State is additionally stored every state transition while previously it was stored at an interrupt or at the end.\n",
    "These change the command output slightly, but are a useful addtion to the information available."
   ]
  },
  {
   "cell_type": "code",
   "execution_count": 1,
   "id": "f5762271-8736-4e94-9444-8c92bd0e8074",
   "metadata": {
    "height": 64
   },
   "outputs": [],
   "source": [
    "from dotenv import load_dotenv\n",
    "\n",
    "_ = load_dotenv()"
   ]
  },
  {
   "cell_type": "code",
   "execution_count": 2,
   "id": "d0168aee-bce9-4d60-b827-f86a88187e31",
   "metadata": {
    "height": 181
   },
   "outputs": [],
   "source": [
    "from langgraph.graph import StateGraph, END\n",
    "from typing import TypedDict, Annotated\n",
    "import operator\n",
    "from langchain_core.messages import AnyMessage, SystemMessage, HumanMessage, ToolMessage\n",
    "from langchain_openai import ChatOpenAI\n",
    "from langchain_community.tools.tavily_search import TavilySearchResults\n",
    "from langgraph.checkpoint.sqlite import SqliteSaver\n",
    "\n",
    "memory = SqliteSaver.from_conn_string(\":memory:\")"
   ]
  },
  {
   "cell_type": "code",
   "execution_count": 3,
   "id": "2589c5b6-6cc2-4594-9a17-dccdcf676054",
   "metadata": {
    "height": 572
   },
   "outputs": [],
   "source": [
    "from uuid import uuid4\n",
    "from langchain_core.messages import AnyMessage, SystemMessage, HumanMessage, AIMessage\n",
    "\n",
    "\"\"\"\n",
    "In previous examples we've annotated the `messages` state key\n",
    "with the default `operator.add` or `+` reducer, which always\n",
    "appends new messages to the end of the existing messages array.\n",
    "\n",
    "Now, to support replacing existing messages, we annotate the\n",
    "`messages` key with a customer reducer function, which replaces\n",
    "messages with the same `id`, and appends them otherwise.\n",
    "\"\"\"\n",
    "def reduce_messages(left: list[AnyMessage], right: list[AnyMessage]) -> list[AnyMessage]:\n",
    "    # assign ids to messages that don't have them\n",
    "    for message in right:\n",
    "        if not message.id:\n",
    "            message.id = str(uuid4())\n",
    "    # merge the new messages with the existing messages\n",
    "    merged = left.copy()\n",
    "    for message in right:\n",
    "        for i, existing in enumerate(merged):\n",
    "            # replace any existing messages with the same id\n",
    "            if existing.id == message.id:\n",
    "                merged[i] = message\n",
    "                break\n",
    "        else:\n",
    "            # append any new messages to the end\n",
    "            merged.append(message)\n",
    "    return merged\n",
    "\n",
    "class AgentState(TypedDict):\n",
    "    messages: Annotated[list[AnyMessage], reduce_messages]"
   ]
  },
  {
   "cell_type": "code",
   "execution_count": 4,
   "id": "a2ba84ec-c172-4de7-ac55-e3158a531b23",
   "metadata": {
    "height": 30
   },
   "outputs": [],
   "source": [
    "tool = TavilySearchResults(max_results=2)"
   ]
  },
  {
   "cell_type": "markdown",
   "id": "d58320dc-c542-4a3c-bcf1-088909f9b075",
   "metadata": {},
   "source": [
    "## Manual human approval"
   ]
  },
  {
   "cell_type": "code",
   "execution_count": 5,
   "id": "46a0e94e-d015-4106-b439-dbcd2fcb8bb0",
   "metadata": {
    "height": 657
   },
   "outputs": [],
   "source": [
    "class Agent:\n",
    "    def __init__(self, model, tools, system=\"\", checkpointer=None):\n",
    "        self.system = system\n",
    "        graph = StateGraph(AgentState)\n",
    "        graph.add_node(\"llm\", self.call_openai)\n",
    "        graph.add_node(\"action\", self.take_action)\n",
    "        graph.add_conditional_edges(\"llm\", self.exists_action, {True: \"action\", False: END})\n",
    "        graph.add_edge(\"action\", \"llm\")\n",
    "        graph.set_entry_point(\"llm\")\n",
    "        self.graph = graph.compile(\n",
    "            checkpointer=checkpointer,\n",
    "            interrupt_before=[\"action\"]\n",
    "        )\n",
    "        self.tools = {t.name: t for t in tools}\n",
    "        self.model = model.bind_tools(tools)\n",
    "\n",
    "    def call_openai(self, state: AgentState):\n",
    "        messages = state['messages']\n",
    "        if self.system:\n",
    "            messages = [SystemMessage(content=self.system)] + messages\n",
    "        message = self.model.invoke(messages)\n",
    "        return {'messages': [message]}\n",
    "\n",
    "    def exists_action(self, state: AgentState):\n",
    "        print(state)\n",
    "        result = state['messages'][-1]\n",
    "        return len(result.tool_calls) > 0\n",
    "\n",
    "    def take_action(self, state: AgentState):\n",
    "        tool_calls = state['messages'][-1].tool_calls\n",
    "        results = []\n",
    "        for t in tool_calls:\n",
    "            print(f\"Calling: {t}\")\n",
    "            result = self.tools[t['name']].invoke(t['args'])\n",
    "            results.append(ToolMessage(tool_call_id=t['id'], name=t['name'], content=str(result)))\n",
    "        print(\"Back to the model!\")\n",
    "        return {'messages': results}"
   ]
  },
  {
   "cell_type": "code",
   "execution_count": 6,
   "id": "10084a02-2928-4945-9f7c-ad3f5b33caf7",
   "metadata": {
    "height": 147
   },
   "outputs": [],
   "source": [
    "prompt = \"\"\"You are a smart research assistant. Use the search engine to look up information. \\\n",
    "You are allowed to make multiple calls (either together or in sequence). \\\n",
    "Only look up information when you are sure of what you want. \\\n",
    "If you need to look up some information before asking a follow up question, you are allowed to do that!\n",
    "\"\"\"\n",
    "model = ChatOpenAI(model=\"gpt-3.5-turbo\")\n",
    "abot = Agent(model, [tool], system=prompt, checkpointer=memory)"
   ]
  },
  {
   "cell_type": "code",
   "execution_count": 7,
   "id": "714d1205-f8fc-4912-b148-2a45da99219c",
   "metadata": {
    "height": 113
   },
   "outputs": [
    {
     "name": "stdout",
     "output_type": "stream",
     "text": [
      "{'messages': [HumanMessage(content='Whats the weather in SF?', id='88c868d7-36ee-4a9e-be93-44e399a04a59'), AIMessage(content='', additional_kwargs={'tool_calls': [{'id': 'call_i7rGhnzgZf5hW3bsDcqdTrH0', 'function': {'arguments': '{\"query\":\"weather in San Francisco\"}', 'name': 'tavily_search_results_json'}, 'type': 'function'}]}, response_metadata={'token_usage': {'completion_tokens': 22, 'prompt_tokens': 152, 'total_tokens': 174, 'prompt_tokens_details': {'cached_tokens': 0, 'audio_tokens': 0}, 'completion_tokens_details': {'reasoning_tokens': 0, 'audio_tokens': 0, 'accepted_prediction_tokens': 0, 'rejected_prediction_tokens': 0}}, 'model_name': 'gpt-3.5-turbo', 'system_fingerprint': None, 'finish_reason': 'tool_calls', 'logprobs': None}, id='run-db7aa43e-68d0-41dd-a4d9-cd9b3bfe882f-0', tool_calls=[{'name': 'tavily_search_results_json', 'args': {'query': 'weather in San Francisco'}, 'id': 'call_i7rGhnzgZf5hW3bsDcqdTrH0'}])]}\n",
      "{'messages': [AIMessage(content='', additional_kwargs={'tool_calls': [{'id': 'call_i7rGhnzgZf5hW3bsDcqdTrH0', 'function': {'arguments': '{\"query\":\"weather in San Francisco\"}', 'name': 'tavily_search_results_json'}, 'type': 'function'}]}, response_metadata={'token_usage': {'completion_tokens': 22, 'prompt_tokens': 152, 'total_tokens': 174, 'prompt_tokens_details': {'cached_tokens': 0, 'audio_tokens': 0}, 'completion_tokens_details': {'reasoning_tokens': 0, 'audio_tokens': 0, 'accepted_prediction_tokens': 0, 'rejected_prediction_tokens': 0}}, 'model_name': 'gpt-3.5-turbo', 'system_fingerprint': None, 'finish_reason': 'tool_calls', 'logprobs': None}, id='run-db7aa43e-68d0-41dd-a4d9-cd9b3bfe882f-0', tool_calls=[{'name': 'tavily_search_results_json', 'args': {'query': 'weather in San Francisco'}, 'id': 'call_i7rGhnzgZf5hW3bsDcqdTrH0'}])]}\n"
     ]
    }
   ],
   "source": [
    "messages = [HumanMessage(content=\"Whats the weather in SF?\")]\n",
    "thread = {\"configurable\": {\"thread_id\": \"1\"}}\n",
    "for event in abot.graph.stream({\"messages\": messages}, thread):\n",
    "    for v in event.values():\n",
    "        print(v)"
   ]
  },
  {
   "cell_type": "code",
   "execution_count": 8,
   "id": "83588e70-254f-4f83-a510-c8ae81e729b0",
   "metadata": {
    "height": 30
   },
   "outputs": [
    {
     "data": {
      "text/plain": [
       "StateSnapshot(values={'messages': [HumanMessage(content='Whats the weather in SF?', id='88c868d7-36ee-4a9e-be93-44e399a04a59'), AIMessage(content='', additional_kwargs={'tool_calls': [{'function': {'arguments': '{\"query\":\"weather in San Francisco\"}', 'name': 'tavily_search_results_json'}, 'id': 'call_i7rGhnzgZf5hW3bsDcqdTrH0', 'type': 'function'}]}, response_metadata={'finish_reason': 'tool_calls', 'logprobs': None, 'model_name': 'gpt-3.5-turbo', 'system_fingerprint': None, 'token_usage': {'completion_tokens': 22, 'completion_tokens_details': {'accepted_prediction_tokens': 0, 'audio_tokens': 0, 'reasoning_tokens': 0, 'rejected_prediction_tokens': 0}, 'prompt_tokens': 152, 'prompt_tokens_details': {'audio_tokens': 0, 'cached_tokens': 0}, 'total_tokens': 174}}, id='run-db7aa43e-68d0-41dd-a4d9-cd9b3bfe882f-0', tool_calls=[{'name': 'tavily_search_results_json', 'args': {'query': 'weather in San Francisco'}, 'id': 'call_i7rGhnzgZf5hW3bsDcqdTrH0'}])]}, next=('action',), config={'configurable': {'thread_id': '1', 'thread_ts': '1f015372-4604-608e-8001-f40bcaf3bc30'}}, metadata={'source': 'loop', 'step': 1, 'writes': {'llm': {'messages': [AIMessage(content='', additional_kwargs={'tool_calls': [{'function': {'arguments': '{\"query\":\"weather in San Francisco\"}', 'name': 'tavily_search_results_json'}, 'id': 'call_i7rGhnzgZf5hW3bsDcqdTrH0', 'type': 'function'}]}, response_metadata={'finish_reason': 'tool_calls', 'logprobs': None, 'model_name': 'gpt-3.5-turbo', 'system_fingerprint': None, 'token_usage': {'completion_tokens': 22, 'completion_tokens_details': {'accepted_prediction_tokens': 0, 'audio_tokens': 0, 'reasoning_tokens': 0, 'rejected_prediction_tokens': 0}, 'prompt_tokens': 152, 'prompt_tokens_details': {'audio_tokens': 0, 'cached_tokens': 0}, 'total_tokens': 174}}, id='run-db7aa43e-68d0-41dd-a4d9-cd9b3bfe882f-0', tool_calls=[{'name': 'tavily_search_results_json', 'args': {'query': 'weather in San Francisco'}, 'id': 'call_i7rGhnzgZf5hW3bsDcqdTrH0'}])]}}}, created_at='2025-04-09T11:38:22.615753+00:00', parent_config={'configurable': {'thread_id': '1', 'thread_ts': '1f015372-45ac-6c04-8000-75489b5e65c4'}})"
      ]
     },
     "execution_count": 8,
     "metadata": {},
     "output_type": "execute_result"
    }
   ],
   "source": [
    "abot.graph.get_state(thread)"
   ]
  },
  {
   "cell_type": "code",
   "execution_count": 9,
   "id": "6cb3ef4c-58b3-401b-b104-0d51e553d982",
   "metadata": {
    "height": 30
   },
   "outputs": [
    {
     "data": {
      "text/plain": [
       "('action',)"
      ]
     },
     "execution_count": 9,
     "metadata": {},
     "output_type": "execute_result"
    }
   ],
   "source": [
    "abot.graph.get_state(thread).next"
   ]
  },
  {
   "cell_type": "markdown",
   "id": "f1f404d5-a3be-42c1-9990-b1e1ee011163",
   "metadata": {},
   "source": [
    "### continue after interrupt"
   ]
  },
  {
   "cell_type": "code",
   "execution_count": 10,
   "id": "dc3293b7-a50c-43c8-a022-8975e1e444b8",
   "metadata": {
    "height": 79
   },
   "outputs": [
    {
     "name": "stdout",
     "output_type": "stream",
     "text": [
      "Calling: {'name': 'tavily_search_results_json', 'args': {'query': 'weather in San Francisco'}, 'id': 'call_i7rGhnzgZf5hW3bsDcqdTrH0'}\n",
      "Back to the model!\n",
      "{'messages': [ToolMessage(content='[{\\'url\\': \\'https://weathershogun.com/weather/usa/ca/san-francisco/480/april/2025-04-09\\', \\'content\\': \\'San Francisco, California Weather: Wednesday, April 9, 2025. Cloudy weather, overcast skies with clouds. Day 70°. Night 52°.\\'}, {\\'url\\': \\'https://www.weatherapi.com/\\', \\'content\\': \"{\\'location\\': {\\'name\\': \\'San Francisco\\', \\'region\\': \\'California\\', \\'country\\': \\'United States of America\\', \\'lat\\': 37.775, \\'lon\\': -122.4183, \\'tz_id\\': \\'America/Los_Angeles\\', \\'localtime_epoch\\': 1744195888, \\'localtime\\': \\'2025-04-09 03:51\\'}, \\'current\\': {\\'last_updated_epoch\\': 1744195500, \\'last_updated\\': \\'2025-04-09 03:45\\', \\'temp_c\\': 10.2, \\'temp_f\\': 50.4, \\'is_day\\': 0, \\'condition\\': {\\'text\\': \\'Clear\\', \\'icon\\': \\'//cdn.weatherapi.com/weather/64x64/night/113.png\\', \\'code\\': 1000}, \\'wind_mph\\': 2.2, \\'wind_kph\\': 3.6, \\'wind_degree\\': 245, \\'wind_dir\\': \\'WSW\\', \\'pressure_mb\\': 1021.0, \\'pressure_in\\': 30.16, \\'precip_mm\\': 0.0, \\'precip_in\\': 0.0, \\'humidity\\': 86, \\'cloud\\': 0, \\'feelslike_c\\': 10.5, \\'feelslike_f\\': 50.8, \\'windchill_c\\': 9.4, \\'windchill_f\\': 48.9, \\'heatindex_c\\': 9.4, \\'heatindex_f\\': 49.0, \\'dewpoint_c\\': 9.0, \\'dewpoint_f\\': 48.2, \\'vis_km\\': 16.0, \\'vis_miles\\': 9.0, \\'uv\\': 0.0, \\'gust_mph\\': 3.2, \\'gust_kph\\': 5.2}}\"}]', name='tavily_search_results_json', id='40a538de-a9ce-41c2-aaa5-46c1bad4cb9f', tool_call_id='call_i7rGhnzgZf5hW3bsDcqdTrH0')]}\n",
      "{'messages': [HumanMessage(content='Whats the weather in SF?', id='88c868d7-36ee-4a9e-be93-44e399a04a59'), AIMessage(content='', additional_kwargs={'tool_calls': [{'function': {'arguments': '{\"query\":\"weather in San Francisco\"}', 'name': 'tavily_search_results_json'}, 'id': 'call_i7rGhnzgZf5hW3bsDcqdTrH0', 'type': 'function'}]}, response_metadata={'finish_reason': 'tool_calls', 'logprobs': None, 'model_name': 'gpt-3.5-turbo', 'system_fingerprint': None, 'token_usage': {'completion_tokens': 22, 'completion_tokens_details': {'accepted_prediction_tokens': 0, 'audio_tokens': 0, 'reasoning_tokens': 0, 'rejected_prediction_tokens': 0}, 'prompt_tokens': 152, 'prompt_tokens_details': {'audio_tokens': 0, 'cached_tokens': 0}, 'total_tokens': 174}}, id='run-db7aa43e-68d0-41dd-a4d9-cd9b3bfe882f-0', tool_calls=[{'name': 'tavily_search_results_json', 'args': {'query': 'weather in San Francisco'}, 'id': 'call_i7rGhnzgZf5hW3bsDcqdTrH0'}]), ToolMessage(content='[{\\'url\\': \\'https://weathershogun.com/weather/usa/ca/san-francisco/480/april/2025-04-09\\', \\'content\\': \\'San Francisco, California Weather: Wednesday, April 9, 2025. Cloudy weather, overcast skies with clouds. Day 70°. Night 52°.\\'}, {\\'url\\': \\'https://www.weatherapi.com/\\', \\'content\\': \"{\\'location\\': {\\'name\\': \\'San Francisco\\', \\'region\\': \\'California\\', \\'country\\': \\'United States of America\\', \\'lat\\': 37.775, \\'lon\\': -122.4183, \\'tz_id\\': \\'America/Los_Angeles\\', \\'localtime_epoch\\': 1744195888, \\'localtime\\': \\'2025-04-09 03:51\\'}, \\'current\\': {\\'last_updated_epoch\\': 1744195500, \\'last_updated\\': \\'2025-04-09 03:45\\', \\'temp_c\\': 10.2, \\'temp_f\\': 50.4, \\'is_day\\': 0, \\'condition\\': {\\'text\\': \\'Clear\\', \\'icon\\': \\'//cdn.weatherapi.com/weather/64x64/night/113.png\\', \\'code\\': 1000}, \\'wind_mph\\': 2.2, \\'wind_kph\\': 3.6, \\'wind_degree\\': 245, \\'wind_dir\\': \\'WSW\\', \\'pressure_mb\\': 1021.0, \\'pressure_in\\': 30.16, \\'precip_mm\\': 0.0, \\'precip_in\\': 0.0, \\'humidity\\': 86, \\'cloud\\': 0, \\'feelslike_c\\': 10.5, \\'feelslike_f\\': 50.8, \\'windchill_c\\': 9.4, \\'windchill_f\\': 48.9, \\'heatindex_c\\': 9.4, \\'heatindex_f\\': 49.0, \\'dewpoint_c\\': 9.0, \\'dewpoint_f\\': 48.2, \\'vis_km\\': 16.0, \\'vis_miles\\': 9.0, \\'uv\\': 0.0, \\'gust_mph\\': 3.2, \\'gust_kph\\': 5.2}}\"}]', name='tavily_search_results_json', id='40a538de-a9ce-41c2-aaa5-46c1bad4cb9f', tool_call_id='call_i7rGhnzgZf5hW3bsDcqdTrH0'), AIMessage(content='The current weather in San Francisco is clear with a temperature of 50.4°F. The wind speed is around 3.6 km/h coming from the WSW direction. The humidity is at 86%, and there is no precipitation at the moment.', response_metadata={'token_usage': {'completion_tokens': 54, 'prompt_tokens': 668, 'total_tokens': 722, 'prompt_tokens_details': {'cached_tokens': 0, 'audio_tokens': 0}, 'completion_tokens_details': {'reasoning_tokens': 0, 'audio_tokens': 0, 'accepted_prediction_tokens': 0, 'rejected_prediction_tokens': 0}}, 'model_name': 'gpt-3.5-turbo', 'system_fingerprint': None, 'finish_reason': 'stop', 'logprobs': None}, id='run-a01c2209-17f9-4857-b40d-99a3e5b8e29b-0')]}\n",
      "{'messages': [AIMessage(content='The current weather in San Francisco is clear with a temperature of 50.4°F. The wind speed is around 3.6 km/h coming from the WSW direction. The humidity is at 86%, and there is no precipitation at the moment.', response_metadata={'token_usage': {'completion_tokens': 54, 'prompt_tokens': 668, 'total_tokens': 722, 'prompt_tokens_details': {'cached_tokens': 0, 'audio_tokens': 0}, 'completion_tokens_details': {'reasoning_tokens': 0, 'audio_tokens': 0, 'accepted_prediction_tokens': 0, 'rejected_prediction_tokens': 0}}, 'model_name': 'gpt-3.5-turbo', 'system_fingerprint': None, 'finish_reason': 'stop', 'logprobs': None}, id='run-a01c2209-17f9-4857-b40d-99a3e5b8e29b-0')]}\n"
     ]
    }
   ],
   "source": [
    "for event in abot.graph.stream(None, thread):\n",
    "    for v in event.values():\n",
    "        print(v)"
   ]
  },
  {
   "cell_type": "code",
   "execution_count": 11,
   "id": "0722c3d4-4cbf-43bf-81b0-50f634c4ce61",
   "metadata": {
    "height": 30
   },
   "outputs": [
    {
     "data": {
      "text/plain": [
       "StateSnapshot(values={'messages': [HumanMessage(content='Whats the weather in SF?', id='88c868d7-36ee-4a9e-be93-44e399a04a59'), AIMessage(content='', additional_kwargs={'tool_calls': [{'function': {'arguments': '{\"query\":\"weather in San Francisco\"}', 'name': 'tavily_search_results_json'}, 'id': 'call_i7rGhnzgZf5hW3bsDcqdTrH0', 'type': 'function'}]}, response_metadata={'finish_reason': 'tool_calls', 'logprobs': None, 'model_name': 'gpt-3.5-turbo', 'system_fingerprint': None, 'token_usage': {'completion_tokens': 22, 'completion_tokens_details': {'accepted_prediction_tokens': 0, 'audio_tokens': 0, 'reasoning_tokens': 0, 'rejected_prediction_tokens': 0}, 'prompt_tokens': 152, 'prompt_tokens_details': {'audio_tokens': 0, 'cached_tokens': 0}, 'total_tokens': 174}}, id='run-db7aa43e-68d0-41dd-a4d9-cd9b3bfe882f-0', tool_calls=[{'name': 'tavily_search_results_json', 'args': {'query': 'weather in San Francisco'}, 'id': 'call_i7rGhnzgZf5hW3bsDcqdTrH0'}]), ToolMessage(content='[{\\'url\\': \\'https://weathershogun.com/weather/usa/ca/san-francisco/480/april/2025-04-09\\', \\'content\\': \\'San Francisco, California Weather: Wednesday, April 9, 2025. Cloudy weather, overcast skies with clouds. Day 70°. Night 52°.\\'}, {\\'url\\': \\'https://www.weatherapi.com/\\', \\'content\\': \"{\\'location\\': {\\'name\\': \\'San Francisco\\', \\'region\\': \\'California\\', \\'country\\': \\'United States of America\\', \\'lat\\': 37.775, \\'lon\\': -122.4183, \\'tz_id\\': \\'America/Los_Angeles\\', \\'localtime_epoch\\': 1744195888, \\'localtime\\': \\'2025-04-09 03:51\\'}, \\'current\\': {\\'last_updated_epoch\\': 1744195500, \\'last_updated\\': \\'2025-04-09 03:45\\', \\'temp_c\\': 10.2, \\'temp_f\\': 50.4, \\'is_day\\': 0, \\'condition\\': {\\'text\\': \\'Clear\\', \\'icon\\': \\'//cdn.weatherapi.com/weather/64x64/night/113.png\\', \\'code\\': 1000}, \\'wind_mph\\': 2.2, \\'wind_kph\\': 3.6, \\'wind_degree\\': 245, \\'wind_dir\\': \\'WSW\\', \\'pressure_mb\\': 1021.0, \\'pressure_in\\': 30.16, \\'precip_mm\\': 0.0, \\'precip_in\\': 0.0, \\'humidity\\': 86, \\'cloud\\': 0, \\'feelslike_c\\': 10.5, \\'feelslike_f\\': 50.8, \\'windchill_c\\': 9.4, \\'windchill_f\\': 48.9, \\'heatindex_c\\': 9.4, \\'heatindex_f\\': 49.0, \\'dewpoint_c\\': 9.0, \\'dewpoint_f\\': 48.2, \\'vis_km\\': 16.0, \\'vis_miles\\': 9.0, \\'uv\\': 0.0, \\'gust_mph\\': 3.2, \\'gust_kph\\': 5.2}}\"}]', name='tavily_search_results_json', id='40a538de-a9ce-41c2-aaa5-46c1bad4cb9f', tool_call_id='call_i7rGhnzgZf5hW3bsDcqdTrH0'), AIMessage(content='The current weather in San Francisco is clear with a temperature of 50.4°F. The wind speed is around 3.6 km/h coming from the WSW direction. The humidity is at 86%, and there is no precipitation at the moment.', response_metadata={'finish_reason': 'stop', 'logprobs': None, 'model_name': 'gpt-3.5-turbo', 'system_fingerprint': None, 'token_usage': {'completion_tokens': 54, 'completion_tokens_details': {'accepted_prediction_tokens': 0, 'audio_tokens': 0, 'reasoning_tokens': 0, 'rejected_prediction_tokens': 0}, 'prompt_tokens': 668, 'prompt_tokens_details': {'audio_tokens': 0, 'cached_tokens': 0}, 'total_tokens': 722}}, id='run-a01c2209-17f9-4857-b40d-99a3e5b8e29b-0')]}, next=(), config={'configurable': {'thread_id': '1', 'thread_ts': '1f015372-5c47-65d8-8003-5c749f46006f'}}, metadata={'source': 'loop', 'step': 3, 'writes': {'llm': {'messages': [AIMessage(content='The current weather in San Francisco is clear with a temperature of 50.4°F. The wind speed is around 3.6 km/h coming from the WSW direction. The humidity is at 86%, and there is no precipitation at the moment.', response_metadata={'finish_reason': 'stop', 'logprobs': None, 'model_name': 'gpt-3.5-turbo', 'system_fingerprint': None, 'token_usage': {'completion_tokens': 54, 'completion_tokens_details': {'accepted_prediction_tokens': 0, 'audio_tokens': 0, 'reasoning_tokens': 0, 'rejected_prediction_tokens': 0}, 'prompt_tokens': 668, 'prompt_tokens_details': {'audio_tokens': 0, 'cached_tokens': 0}, 'total_tokens': 722}}, id='run-a01c2209-17f9-4857-b40d-99a3e5b8e29b-0')]}}}, created_at='2025-04-09T11:38:24.950182+00:00', parent_config={'configurable': {'thread_id': '1', 'thread_ts': '1f015372-5c0a-6c8a-8002-2e1b5655a19c'}})"
      ]
     },
     "execution_count": 11,
     "metadata": {},
     "output_type": "execute_result"
    }
   ],
   "source": [
    "abot.graph.get_state(thread)"
   ]
  },
  {
   "cell_type": "code",
   "execution_count": 12,
   "id": "6b2f82fe-3ec4-4917-be51-9fb10d1317fa",
   "metadata": {
    "height": 30
   },
   "outputs": [
    {
     "data": {
      "text/plain": [
       "()"
      ]
     },
     "execution_count": 12,
     "metadata": {},
     "output_type": "execute_result"
    }
   ],
   "source": [
    "abot.graph.get_state(thread).next"
   ]
  },
  {
   "cell_type": "code",
   "execution_count": 13,
   "id": "ee0fe1c7-77e2-499c-a2f9-1f739bb6ddf0",
   "metadata": {
    "height": 266
   },
   "outputs": [
    {
     "name": "stdout",
     "output_type": "stream",
     "text": [
      "{'messages': [HumanMessage(content='Whats the weather in LA?', id='11a974f4-475a-4f48-b6f6-320f2173ea9b'), AIMessage(content='', additional_kwargs={'tool_calls': [{'id': 'call_3gWu4R70dAolWLBZeg4Vb6jc', 'function': {'arguments': '{\"query\":\"weather in Los Angeles\"}', 'name': 'tavily_search_results_json'}, 'type': 'function'}]}, response_metadata={'token_usage': {'completion_tokens': 22, 'prompt_tokens': 152, 'total_tokens': 174, 'prompt_tokens_details': {'cached_tokens': 0, 'audio_tokens': 0}, 'completion_tokens_details': {'reasoning_tokens': 0, 'audio_tokens': 0, 'accepted_prediction_tokens': 0, 'rejected_prediction_tokens': 0}}, 'model_name': 'gpt-3.5-turbo', 'system_fingerprint': None, 'finish_reason': 'tool_calls', 'logprobs': None}, id='run-9f2db57a-9cf3-42fc-9113-4a5ba0ada6a2-0', tool_calls=[{'name': 'tavily_search_results_json', 'args': {'query': 'weather in Los Angeles'}, 'id': 'call_3gWu4R70dAolWLBZeg4Vb6jc'}])]}\n",
      "{'messages': [AIMessage(content='', additional_kwargs={'tool_calls': [{'id': 'call_3gWu4R70dAolWLBZeg4Vb6jc', 'function': {'arguments': '{\"query\":\"weather in Los Angeles\"}', 'name': 'tavily_search_results_json'}, 'type': 'function'}]}, response_metadata={'token_usage': {'completion_tokens': 22, 'prompt_tokens': 152, 'total_tokens': 174, 'prompt_tokens_details': {'cached_tokens': 0, 'audio_tokens': 0}, 'completion_tokens_details': {'reasoning_tokens': 0, 'audio_tokens': 0, 'accepted_prediction_tokens': 0, 'rejected_prediction_tokens': 0}}, 'model_name': 'gpt-3.5-turbo', 'system_fingerprint': None, 'finish_reason': 'tool_calls', 'logprobs': None}, id='run-9f2db57a-9cf3-42fc-9113-4a5ba0ada6a2-0', tool_calls=[{'name': 'tavily_search_results_json', 'args': {'query': 'weather in Los Angeles'}, 'id': 'call_3gWu4R70dAolWLBZeg4Vb6jc'}])]}\n",
      "\n",
      " StateSnapshot(values={'messages': [HumanMessage(content='Whats the weather in LA?', id='11a974f4-475a-4f48-b6f6-320f2173ea9b'), AIMessage(content='', additional_kwargs={'tool_calls': [{'function': {'arguments': '{\"query\":\"weather in Los Angeles\"}', 'name': 'tavily_search_results_json'}, 'id': 'call_3gWu4R70dAolWLBZeg4Vb6jc', 'type': 'function'}]}, response_metadata={'finish_reason': 'tool_calls', 'logprobs': None, 'model_name': 'gpt-3.5-turbo', 'system_fingerprint': None, 'token_usage': {'completion_tokens': 22, 'completion_tokens_details': {'accepted_prediction_tokens': 0, 'audio_tokens': 0, 'reasoning_tokens': 0, 'rejected_prediction_tokens': 0}, 'prompt_tokens': 152, 'prompt_tokens_details': {'audio_tokens': 0, 'cached_tokens': 0}, 'total_tokens': 174}}, id='run-9f2db57a-9cf3-42fc-9113-4a5ba0ada6a2-0', tool_calls=[{'name': 'tavily_search_results_json', 'args': {'query': 'weather in Los Angeles'}, 'id': 'call_3gWu4R70dAolWLBZeg4Vb6jc'}])]}, next=('action',), config={'configurable': {'thread_id': '2', 'thread_ts': '1f015372-5cd9-6772-8001-f2558b54b443'}}, metadata={'source': 'loop', 'step': 1, 'writes': {'llm': {'messages': [AIMessage(content='', additional_kwargs={'tool_calls': [{'function': {'arguments': '{\"query\":\"weather in Los Angeles\"}', 'name': 'tavily_search_results_json'}, 'id': 'call_3gWu4R70dAolWLBZeg4Vb6jc', 'type': 'function'}]}, response_metadata={'finish_reason': 'tool_calls', 'logprobs': None, 'model_name': 'gpt-3.5-turbo', 'system_fingerprint': None, 'token_usage': {'completion_tokens': 22, 'completion_tokens_details': {'accepted_prediction_tokens': 0, 'audio_tokens': 0, 'reasoning_tokens': 0, 'rejected_prediction_tokens': 0}, 'prompt_tokens': 152, 'prompt_tokens_details': {'audio_tokens': 0, 'cached_tokens': 0}, 'total_tokens': 174}}, id='run-9f2db57a-9cf3-42fc-9113-4a5ba0ada6a2-0', tool_calls=[{'name': 'tavily_search_results_json', 'args': {'query': 'weather in Los Angeles'}, 'id': 'call_3gWu4R70dAolWLBZeg4Vb6jc'}])]}}}, created_at='2025-04-09T11:38:25.010038+00:00', parent_config={'configurable': {'thread_id': '2', 'thread_ts': '1f015372-5c75-64d8-8000-414fc3bb5d6b'}}) \n",
      "\n",
      "proceed?y\n",
      "Calling: {'name': 'tavily_search_results_json', 'args': {'query': 'weather in Los Angeles'}, 'id': 'call_3gWu4R70dAolWLBZeg4Vb6jc'}\n",
      "Back to the model!\n",
      "{'messages': [ToolMessage(content='[{\\'url\\': \\'https://weathershogun.com/weather/usa/ca/los-angeles/451/april/2025-04-09\\', \\'content\\': \\'Los Angeles, California Weather: Wednesday, April 9, 2025. Sunny weather, clear skies and sunny weather. Day 70°. Night 57°.\\'}, {\\'url\\': \\'https://en.climate-data.org/north-america/united-states-of-america/california/los-angeles-714829/t/april-4/\\', \\'content\\': \"| 23.3 °C\\\\n(73.9) °F\\\\n| 25.2 °C\\\\n(77.4) °F\\\\n| 28.1 °C\\\\n(82.6) °F\\\\n| 31.3 °C\\\\n(88.3) °F\\\\n| 31.9 °C\\\\n(89.5) °F\\\\n| 31 °C\\\\n(87.7) °F\\\\n| 27.2 °C\\\\n(81) °F\\\\n| 23.1 °C\\\\n(73.5) °F\\\\n| 18.8 °C\\\\n(65.9) °F\\\\n|\\\\n| Precipitation / Rainfall mm (in) | 84\\\\n(3)\\\\n| 89\\\\n(3)\\\\n| 54\\\\n(2)\\\\n| 19\\\\n(0)\\\\n| 11\\\\n(0)\\\\n| 3\\\\n(0)\\\\n| 2\\\\n(0)\\\\n| 0\\\\n(0)\\\\n| 4\\\\n(0)\\\\n| 17\\\\n(0)\\\\n| 21\\\\n(0)\\\\n| 53\\\\n(2)\\\\n|\\\\n| Humidity(%) | 52% | 57% | 59% | 55% | 56% | 55% | 52% | 49% | 49% | 49% | 46% | 53% |\\\\n| Rainy days (d) | 4 | 5 | 4 | 2 | 1 | 0 | 0 | 0 | 1 | 2 | 2 | 4 | [...] (64.7) °F\\\\n| 21 °C\\\\n(69.9) °F\\\\n| 24.1 °C\\\\n(75.4) °F\\\\n| 24.5 °C\\\\n(76.1) °F\\\\n| 23.2 °C\\\\n(73.8) °F\\\\n| 19.5 °C\\\\n(67.2) °F\\\\n| 15.4 °C\\\\n(59.7) °F\\\\n| 11.6 °C\\\\n(52.8) °F\\\\n|\\\\n| Min. Temperature °C (°F) | 6.7 °C\\\\n(44.1) °F\\\\n| 6.8 °C\\\\n(44.2) °F\\\\n| 8.3 °C\\\\n(47) °F\\\\n| 9.7 °C\\\\n(49.5) °F\\\\n| 12.3 °C\\\\n(54.1) °F\\\\n| 15 °C\\\\n(58.9) °F\\\\n| 17.9 °C\\\\n(64.3) °F\\\\n| 18.2 °C\\\\n(64.8) °F\\\\n| 17 °C\\\\n(62.6) °F\\\\n| 13.6 °C\\\\n(56.5) °F\\\\n| 9.8 °C\\\\n(49.7) °F\\\\n| 6.5 °C\\\\n(43.8) °F\\\\n|\\\\n| Max. Temperature °C (°F) | 19.5 °C\\\\n(67.2) °F\\\\n| 19.4 °C\\\\n(66.9) °F\\\\n| 21.4 °C\\\\n(70.5) °F [...] April in Los Angeles brings mild and pleasant temperatures, making it a great time to visit. The average temperature during this month is around 60.4°F (15.8°C). On warmer days, the highs can reach up to about 73.9°F (23.3°C), perfect for enjoying outdoor activities like hiking or visiting the beach. During the cooler nights, temperatures might drop to approximately 49.5°F (9.7°C), so it\\'s wise to have a light jacket handy for evening outings.\"}]', name='tavily_search_results_json', id='c4d6e7ef-6763-4f81-ae74-613f81681704', tool_call_id='call_3gWu4R70dAolWLBZeg4Vb6jc')]}\n",
      "{'messages': [HumanMessage(content='Whats the weather in LA?', id='11a974f4-475a-4f48-b6f6-320f2173ea9b'), AIMessage(content='', additional_kwargs={'tool_calls': [{'function': {'arguments': '{\"query\":\"weather in Los Angeles\"}', 'name': 'tavily_search_results_json'}, 'id': 'call_3gWu4R70dAolWLBZeg4Vb6jc', 'type': 'function'}]}, response_metadata={'finish_reason': 'tool_calls', 'logprobs': None, 'model_name': 'gpt-3.5-turbo', 'system_fingerprint': None, 'token_usage': {'completion_tokens': 22, 'completion_tokens_details': {'accepted_prediction_tokens': 0, 'audio_tokens': 0, 'reasoning_tokens': 0, 'rejected_prediction_tokens': 0}, 'prompt_tokens': 152, 'prompt_tokens_details': {'audio_tokens': 0, 'cached_tokens': 0}, 'total_tokens': 174}}, id='run-9f2db57a-9cf3-42fc-9113-4a5ba0ada6a2-0', tool_calls=[{'name': 'tavily_search_results_json', 'args': {'query': 'weather in Los Angeles'}, 'id': 'call_3gWu4R70dAolWLBZeg4Vb6jc'}]), ToolMessage(content='[{\\'url\\': \\'https://weathershogun.com/weather/usa/ca/los-angeles/451/april/2025-04-09\\', \\'content\\': \\'Los Angeles, California Weather: Wednesday, April 9, 2025. Sunny weather, clear skies and sunny weather. Day 70°. Night 57°.\\'}, {\\'url\\': \\'https://en.climate-data.org/north-america/united-states-of-america/california/los-angeles-714829/t/april-4/\\', \\'content\\': \"| 23.3 °C\\\\n(73.9) °F\\\\n| 25.2 °C\\\\n(77.4) °F\\\\n| 28.1 °C\\\\n(82.6) °F\\\\n| 31.3 °C\\\\n(88.3) °F\\\\n| 31.9 °C\\\\n(89.5) °F\\\\n| 31 °C\\\\n(87.7) °F\\\\n| 27.2 °C\\\\n(81) °F\\\\n| 23.1 °C\\\\n(73.5) °F\\\\n| 18.8 °C\\\\n(65.9) °F\\\\n|\\\\n| Precipitation / Rainfall mm (in) | 84\\\\n(3)\\\\n| 89\\\\n(3)\\\\n| 54\\\\n(2)\\\\n| 19\\\\n(0)\\\\n| 11\\\\n(0)\\\\n| 3\\\\n(0)\\\\n| 2\\\\n(0)\\\\n| 0\\\\n(0)\\\\n| 4\\\\n(0)\\\\n| 17\\\\n(0)\\\\n| 21\\\\n(0)\\\\n| 53\\\\n(2)\\\\n|\\\\n| Humidity(%) | 52% | 57% | 59% | 55% | 56% | 55% | 52% | 49% | 49% | 49% | 46% | 53% |\\\\n| Rainy days (d) | 4 | 5 | 4 | 2 | 1 | 0 | 0 | 0 | 1 | 2 | 2 | 4 | [...] (64.7) °F\\\\n| 21 °C\\\\n(69.9) °F\\\\n| 24.1 °C\\\\n(75.4) °F\\\\n| 24.5 °C\\\\n(76.1) °F\\\\n| 23.2 °C\\\\n(73.8) °F\\\\n| 19.5 °C\\\\n(67.2) °F\\\\n| 15.4 °C\\\\n(59.7) °F\\\\n| 11.6 °C\\\\n(52.8) °F\\\\n|\\\\n| Min. Temperature °C (°F) | 6.7 °C\\\\n(44.1) °F\\\\n| 6.8 °C\\\\n(44.2) °F\\\\n| 8.3 °C\\\\n(47) °F\\\\n| 9.7 °C\\\\n(49.5) °F\\\\n| 12.3 °C\\\\n(54.1) °F\\\\n| 15 °C\\\\n(58.9) °F\\\\n| 17.9 °C\\\\n(64.3) °F\\\\n| 18.2 °C\\\\n(64.8) °F\\\\n| 17 °C\\\\n(62.6) °F\\\\n| 13.6 °C\\\\n(56.5) °F\\\\n| 9.8 °C\\\\n(49.7) °F\\\\n| 6.5 °C\\\\n(43.8) °F\\\\n|\\\\n| Max. Temperature °C (°F) | 19.5 °C\\\\n(67.2) °F\\\\n| 19.4 °C\\\\n(66.9) °F\\\\n| 21.4 °C\\\\n(70.5) °F [...] April in Los Angeles brings mild and pleasant temperatures, making it a great time to visit. The average temperature during this month is around 60.4°F (15.8°C). On warmer days, the highs can reach up to about 73.9°F (23.3°C), perfect for enjoying outdoor activities like hiking or visiting the beach. During the cooler nights, temperatures might drop to approximately 49.5°F (9.7°C), so it\\'s wise to have a light jacket handy for evening outings.\"}]', name='tavily_search_results_json', id='c4d6e7ef-6763-4f81-ae74-613f81681704', tool_call_id='call_3gWu4R70dAolWLBZeg4Vb6jc'), AIMessage(content='The weather in Los Angeles today is sunny with clear skies. The daytime temperature is 70°F (21°C), and it will drop to 57°F (14°C) at night.', response_metadata={'token_usage': {'completion_tokens': 40, 'prompt_tokens': 1134, 'total_tokens': 1174, 'prompt_tokens_details': {'cached_tokens': 0, 'audio_tokens': 0}, 'completion_tokens_details': {'reasoning_tokens': 0, 'audio_tokens': 0, 'accepted_prediction_tokens': 0, 'rejected_prediction_tokens': 0}}, 'model_name': 'gpt-3.5-turbo', 'system_fingerprint': None, 'finish_reason': 'stop', 'logprobs': None}, id='run-417587c4-df90-4fd5-b328-ab0e2a330b44-0')]}\n",
      "{'messages': [AIMessage(content='The weather in Los Angeles today is sunny with clear skies. The daytime temperature is 70°F (21°C), and it will drop to 57°F (14°C) at night.', response_metadata={'token_usage': {'completion_tokens': 40, 'prompt_tokens': 1134, 'total_tokens': 1174, 'prompt_tokens_details': {'cached_tokens': 0, 'audio_tokens': 0}, 'completion_tokens_details': {'reasoning_tokens': 0, 'audio_tokens': 0, 'accepted_prediction_tokens': 0, 'rejected_prediction_tokens': 0}}, 'model_name': 'gpt-3.5-turbo', 'system_fingerprint': None, 'finish_reason': 'stop', 'logprobs': None}, id='run-417587c4-df90-4fd5-b328-ab0e2a330b44-0')]}\n"
     ]
    }
   ],
   "source": [
    "messages = [HumanMessage(\"Whats the weather in LA?\")]\n",
    "thread = {\"configurable\": {\"thread_id\": \"2\"}}\n",
    "for event in abot.graph.stream({\"messages\": messages}, thread):\n",
    "    for v in event.values():\n",
    "        print(v)\n",
    "while abot.graph.get_state(thread).next:\n",
    "    print(\"\\n\", abot.graph.get_state(thread),\"\\n\")\n",
    "    _input = input(\"proceed?\")\n",
    "    if _input != \"y\":\n",
    "        print(\"aborting\")\n",
    "        break\n",
    "    for event in abot.graph.stream(None, thread):\n",
    "        for v in event.values():\n",
    "            print(v)"
   ]
  },
  {
   "cell_type": "markdown",
   "id": "7bbe5689-54ab-49ca-9055-6e5216abd523",
   "metadata": {},
   "source": [
    "## Modify State\n",
    "Run until the interrupt and then modify the state."
   ]
  },
  {
   "cell_type": "code",
   "execution_count": 14,
   "id": "98f303b1-a4d0-408c-8cc0-515ff980717f",
   "metadata": {
    "height": 113
   },
   "outputs": [
    {
     "name": "stdout",
     "output_type": "stream",
     "text": [
      "{'messages': [HumanMessage(content='Whats the weather in LA?', id='4b78221b-4b7b-4307-9cf1-e300c7d1d6da'), AIMessage(content='', additional_kwargs={'tool_calls': [{'id': 'call_3gWu4R70dAolWLBZeg4Vb6jc', 'function': {'arguments': '{\"query\":\"weather in Los Angeles\"}', 'name': 'tavily_search_results_json'}, 'type': 'function'}]}, response_metadata={'token_usage': {'completion_tokens': 22, 'prompt_tokens': 152, 'total_tokens': 174, 'prompt_tokens_details': {'cached_tokens': 0, 'audio_tokens': 0}, 'completion_tokens_details': {'reasoning_tokens': 0, 'audio_tokens': 0, 'accepted_prediction_tokens': 0, 'rejected_prediction_tokens': 0}}, 'model_name': 'gpt-3.5-turbo', 'system_fingerprint': None, 'finish_reason': 'tool_calls', 'logprobs': None}, id='run-652b50a3-2fb4-482f-8aa2-3081b5e33aed-0', tool_calls=[{'name': 'tavily_search_results_json', 'args': {'query': 'weather in Los Angeles'}, 'id': 'call_3gWu4R70dAolWLBZeg4Vb6jc'}])]}\n",
      "{'messages': [AIMessage(content='', additional_kwargs={'tool_calls': [{'id': 'call_3gWu4R70dAolWLBZeg4Vb6jc', 'function': {'arguments': '{\"query\":\"weather in Los Angeles\"}', 'name': 'tavily_search_results_json'}, 'type': 'function'}]}, response_metadata={'token_usage': {'completion_tokens': 22, 'prompt_tokens': 152, 'total_tokens': 174, 'prompt_tokens_details': {'cached_tokens': 0, 'audio_tokens': 0}, 'completion_tokens_details': {'reasoning_tokens': 0, 'audio_tokens': 0, 'accepted_prediction_tokens': 0, 'rejected_prediction_tokens': 0}}, 'model_name': 'gpt-3.5-turbo', 'system_fingerprint': None, 'finish_reason': 'tool_calls', 'logprobs': None}, id='run-652b50a3-2fb4-482f-8aa2-3081b5e33aed-0', tool_calls=[{'name': 'tavily_search_results_json', 'args': {'query': 'weather in Los Angeles'}, 'id': 'call_3gWu4R70dAolWLBZeg4Vb6jc'}])]}\n"
     ]
    }
   ],
   "source": [
    "messages = [HumanMessage(\"Whats the weather in LA?\")]\n",
    "thread = {\"configurable\": {\"thread_id\": \"3\"}}\n",
    "for event in abot.graph.stream({\"messages\": messages}, thread):\n",
    "    for v in event.values():\n",
    "        print(v)"
   ]
  },
  {
   "cell_type": "code",
   "execution_count": 15,
   "id": "bf4dcb93-6298-4cfd-b3ce-61dfac7fb35f",
   "metadata": {
    "height": 30
   },
   "outputs": [
    {
     "data": {
      "text/plain": [
       "StateSnapshot(values={'messages': [HumanMessage(content='Whats the weather in LA?', id='4b78221b-4b7b-4307-9cf1-e300c7d1d6da'), AIMessage(content='', additional_kwargs={'tool_calls': [{'function': {'arguments': '{\"query\":\"weather in Los Angeles\"}', 'name': 'tavily_search_results_json'}, 'id': 'call_3gWu4R70dAolWLBZeg4Vb6jc', 'type': 'function'}]}, response_metadata={'finish_reason': 'tool_calls', 'logprobs': None, 'model_name': 'gpt-3.5-turbo', 'system_fingerprint': None, 'token_usage': {'completion_tokens': 22, 'completion_tokens_details': {'accepted_prediction_tokens': 0, 'audio_tokens': 0, 'reasoning_tokens': 0, 'rejected_prediction_tokens': 0}, 'prompt_tokens': 152, 'prompt_tokens_details': {'audio_tokens': 0, 'cached_tokens': 0}, 'total_tokens': 174}}, id='run-652b50a3-2fb4-482f-8aa2-3081b5e33aed-0', tool_calls=[{'name': 'tavily_search_results_json', 'args': {'query': 'weather in Los Angeles'}, 'id': 'call_3gWu4R70dAolWLBZeg4Vb6jc'}])]}, next=('action',), config={'configurable': {'thread_id': '3', 'thread_ts': '1f015375-157c-6451-8001-7ee8ef16937a'}}, metadata={'source': 'loop', 'step': 1, 'writes': {'llm': {'messages': [AIMessage(content='', additional_kwargs={'tool_calls': [{'function': {'arguments': '{\"query\":\"weather in Los Angeles\"}', 'name': 'tavily_search_results_json'}, 'id': 'call_3gWu4R70dAolWLBZeg4Vb6jc', 'type': 'function'}]}, response_metadata={'finish_reason': 'tool_calls', 'logprobs': None, 'model_name': 'gpt-3.5-turbo', 'system_fingerprint': None, 'token_usage': {'completion_tokens': 22, 'completion_tokens_details': {'accepted_prediction_tokens': 0, 'audio_tokens': 0, 'reasoning_tokens': 0, 'rejected_prediction_tokens': 0}, 'prompt_tokens': 152, 'prompt_tokens_details': {'audio_tokens': 0, 'cached_tokens': 0}, 'total_tokens': 174}}, id='run-652b50a3-2fb4-482f-8aa2-3081b5e33aed-0', tool_calls=[{'name': 'tavily_search_results_json', 'args': {'query': 'weather in Los Angeles'}, 'id': 'call_3gWu4R70dAolWLBZeg4Vb6jc'}])]}}}, created_at='2025-04-09T11:39:38.057615+00:00', parent_config={'configurable': {'thread_id': '3', 'thread_ts': '1f015375-1529-63f2-8000-7147adc2d233'}})"
      ]
     },
     "execution_count": 15,
     "metadata": {},
     "output_type": "execute_result"
    }
   ],
   "source": [
    "abot.graph.get_state(thread)"
   ]
  },
  {
   "cell_type": "code",
   "execution_count": 16,
   "id": "932883a4-c722-42bb-aec0-b4f41c5c81a4",
   "metadata": {
    "height": 45
   },
   "outputs": [],
   "source": [
    "current_values = abot.graph.get_state(thread)"
   ]
  },
  {
   "cell_type": "code",
   "execution_count": 17,
   "id": "ff362f49-dcf1-4ea1-a86c-e516e9ab897d",
   "metadata": {
    "height": 30
   },
   "outputs": [
    {
     "data": {
      "text/plain": [
       "AIMessage(content='', additional_kwargs={'tool_calls': [{'function': {'arguments': '{\"query\":\"weather in Los Angeles\"}', 'name': 'tavily_search_results_json'}, 'id': 'call_3gWu4R70dAolWLBZeg4Vb6jc', 'type': 'function'}]}, response_metadata={'finish_reason': 'tool_calls', 'logprobs': None, 'model_name': 'gpt-3.5-turbo', 'system_fingerprint': None, 'token_usage': {'completion_tokens': 22, 'completion_tokens_details': {'accepted_prediction_tokens': 0, 'audio_tokens': 0, 'reasoning_tokens': 0, 'rejected_prediction_tokens': 0}, 'prompt_tokens': 152, 'prompt_tokens_details': {'audio_tokens': 0, 'cached_tokens': 0}, 'total_tokens': 174}}, id='run-652b50a3-2fb4-482f-8aa2-3081b5e33aed-0', tool_calls=[{'name': 'tavily_search_results_json', 'args': {'query': 'weather in Los Angeles'}, 'id': 'call_3gWu4R70dAolWLBZeg4Vb6jc'}])"
      ]
     },
     "execution_count": 17,
     "metadata": {},
     "output_type": "execute_result"
    }
   ],
   "source": [
    "current_values.values['messages'][-1]"
   ]
  },
  {
   "cell_type": "code",
   "execution_count": 18,
   "id": "a7e15a20-83d7-434c-8551-bce8dcc32be0",
   "metadata": {
    "height": 45
   },
   "outputs": [
    {
     "data": {
      "text/plain": [
       "[{'name': 'tavily_search_results_json',\n",
       "  'args': {'query': 'weather in Los Angeles'},\n",
       "  'id': 'call_3gWu4R70dAolWLBZeg4Vb6jc'}]"
      ]
     },
     "execution_count": 18,
     "metadata": {},
     "output_type": "execute_result"
    }
   ],
   "source": [
    "current_values.values['messages'][-1].tool_calls"
   ]
  },
  {
   "cell_type": "code",
   "execution_count": 19,
   "id": "54ab2c74-f32e-490c-a85d-932d11444210",
   "metadata": {
    "height": 130
   },
   "outputs": [],
   "source": [
    "_id = current_values.values['messages'][-1].tool_calls[0]['id']\n",
    "current_values.values['messages'][-1].tool_calls = [\n",
    "    {'name': 'tavily_search_results_json',\n",
    "  'args': {'query': 'current weather in Louisiana'},\n",
    "  'id': _id}\n",
    "]"
   ]
  },
  {
   "cell_type": "code",
   "execution_count": 20,
   "id": "a833d3ce-bd31-4319-811d-decff226b970",
   "metadata": {
    "height": 45
   },
   "outputs": [
    {
     "name": "stdout",
     "output_type": "stream",
     "text": [
      "{'messages': [HumanMessage(content='Whats the weather in LA?', id='4b78221b-4b7b-4307-9cf1-e300c7d1d6da'), AIMessage(content='', additional_kwargs={'tool_calls': [{'function': {'arguments': '{\"query\":\"weather in Los Angeles\"}', 'name': 'tavily_search_results_json'}, 'id': 'call_3gWu4R70dAolWLBZeg4Vb6jc', 'type': 'function'}]}, response_metadata={'finish_reason': 'tool_calls', 'logprobs': None, 'model_name': 'gpt-3.5-turbo', 'system_fingerprint': None, 'token_usage': {'completion_tokens': 22, 'completion_tokens_details': {'accepted_prediction_tokens': 0, 'audio_tokens': 0, 'reasoning_tokens': 0, 'rejected_prediction_tokens': 0}, 'prompt_tokens': 152, 'prompt_tokens_details': {'audio_tokens': 0, 'cached_tokens': 0}, 'total_tokens': 174}}, id='run-652b50a3-2fb4-482f-8aa2-3081b5e33aed-0', tool_calls=[{'name': 'tavily_search_results_json', 'args': {'query': 'current weather in Louisiana'}, 'id': 'call_3gWu4R70dAolWLBZeg4Vb6jc'}])]}\n"
     ]
    },
    {
     "data": {
      "text/plain": [
       "{'configurable': {'thread_id': '3',\n",
       "  'thread_ts': '1f015375-15c7-696c-8002-de67d03ef252'}}"
      ]
     },
     "execution_count": 20,
     "metadata": {},
     "output_type": "execute_result"
    }
   ],
   "source": [
    "abot.graph.update_state(thread, current_values.values)"
   ]
  },
  {
   "cell_type": "code",
   "execution_count": 21,
   "id": "76e93cce-6eab-4c7c-ac64-e9993fdb30d6",
   "metadata": {
    "height": 30
   },
   "outputs": [
    {
     "data": {
      "text/plain": [
       "StateSnapshot(values={'messages': [HumanMessage(content='Whats the weather in LA?', id='4b78221b-4b7b-4307-9cf1-e300c7d1d6da'), AIMessage(content='', additional_kwargs={'tool_calls': [{'function': {'arguments': '{\"query\":\"weather in Los Angeles\"}', 'name': 'tavily_search_results_json'}, 'id': 'call_3gWu4R70dAolWLBZeg4Vb6jc', 'type': 'function'}]}, response_metadata={'finish_reason': 'tool_calls', 'logprobs': None, 'model_name': 'gpt-3.5-turbo', 'system_fingerprint': None, 'token_usage': {'completion_tokens': 22, 'completion_tokens_details': {'accepted_prediction_tokens': 0, 'audio_tokens': 0, 'reasoning_tokens': 0, 'rejected_prediction_tokens': 0}, 'prompt_tokens': 152, 'prompt_tokens_details': {'audio_tokens': 0, 'cached_tokens': 0}, 'total_tokens': 174}}, id='run-652b50a3-2fb4-482f-8aa2-3081b5e33aed-0', tool_calls=[{'name': 'tavily_search_results_json', 'args': {'query': 'current weather in Louisiana'}, 'id': 'call_3gWu4R70dAolWLBZeg4Vb6jc'}])]}, next=('action',), config={'configurable': {'thread_id': '3', 'thread_ts': '1f015375-15c7-696c-8002-de67d03ef252'}}, metadata={'source': 'update', 'step': 2, 'writes': {'llm': {'messages': [HumanMessage(content='Whats the weather in LA?', id='4b78221b-4b7b-4307-9cf1-e300c7d1d6da'), AIMessage(content='', additional_kwargs={'tool_calls': [{'function': {'arguments': '{\"query\":\"weather in Los Angeles\"}', 'name': 'tavily_search_results_json'}, 'id': 'call_3gWu4R70dAolWLBZeg4Vb6jc', 'type': 'function'}]}, response_metadata={'finish_reason': 'tool_calls', 'logprobs': None, 'model_name': 'gpt-3.5-turbo', 'system_fingerprint': None, 'token_usage': {'completion_tokens': 22, 'completion_tokens_details': {'accepted_prediction_tokens': 0, 'audio_tokens': 0, 'reasoning_tokens': 0, 'rejected_prediction_tokens': 0}, 'prompt_tokens': 152, 'prompt_tokens_details': {'audio_tokens': 0, 'cached_tokens': 0}, 'total_tokens': 174}}, id='run-652b50a3-2fb4-482f-8aa2-3081b5e33aed-0', tool_calls=[{'name': 'tavily_search_results_json', 'args': {'query': 'current weather in Louisiana'}, 'id': 'call_3gWu4R70dAolWLBZeg4Vb6jc'}])]}}}, created_at='2025-04-09T11:39:38.088476+00:00', parent_config={'configurable': {'thread_id': '3', 'thread_ts': '1f015375-157c-6451-8001-7ee8ef16937a'}})"
      ]
     },
     "execution_count": 21,
     "metadata": {},
     "output_type": "execute_result"
    }
   ],
   "source": [
    "abot.graph.get_state(thread)"
   ]
  },
  {
   "cell_type": "code",
   "execution_count": 22,
   "id": "fd2d0990-a932-423f-9ff3-5cada58c5f32",
   "metadata": {
    "height": 79
   },
   "outputs": [
    {
     "name": "stdout",
     "output_type": "stream",
     "text": [
      "Calling: {'name': 'tavily_search_results_json', 'args': {'query': 'current weather in Louisiana'}, 'id': 'call_3gWu4R70dAolWLBZeg4Vb6jc'}\n",
      "Back to the model!\n",
      "{'messages': [ToolMessage(content='[{\\'url\\': \\'https://www.weatherapi.com/\\', \\'content\\': \"{\\'location\\': {\\'name\\': \\'Louisiana\\', \\'region\\': \\'Missouri\\', \\'country\\': \\'USA United States of America\\', \\'lat\\': 39.4411, \\'lon\\': -91.0551, \\'tz_id\\': \\'America/Chicago\\', \\'localtime_epoch\\': 1744198771, \\'localtime\\': \\'2025-04-09 06:39\\'}, \\'current\\': {\\'last_updated_epoch\\': 1744198200, \\'last_updated\\': \\'2025-04-09 06:30\\', \\'temp_c\\': 5.5, \\'temp_f\\': 41.9, \\'is_day\\': 1, \\'condition\\': {\\'text\\': \\'Overcast\\', \\'icon\\': \\'//cdn.weatherapi.com/weather/64x64/day/122.png\\', \\'code\\': 1009}, \\'wind_mph\\': 14.5, \\'wind_kph\\': 23.4, \\'wind_degree\\': 161, \\'wind_dir\\': \\'SSE\\', \\'pressure_mb\\': 1017.0, \\'pressure_in\\': 30.02, \\'precip_mm\\': 0.0, \\'precip_in\\': 0.0, \\'humidity\\': 68, \\'cloud\\': 100, \\'feelslike_c\\': 1.3, \\'feelslike_f\\': 34.4, \\'windchill_c\\': -0.0, \\'windchill_f\\': 32.0, \\'heatindex_c\\': 4.5, \\'heatindex_f\\': 40.0, \\'dewpoint_c\\': 0.2, \\'dewpoint_f\\': 32.4, \\'vis_km\\': 16.0, \\'vis_miles\\': 9.0, \\'uv\\': 0.0, \\'gust_mph\\': 22.7, \\'gust_kph\\': 36.6}}\"}, {\\'url\\': \\'https://www.weather25.com/north-america/usa/louisiana?page=month&month=April\\', \\'content\\': \\'Louisiana weather in April 2025\\\\n\\\\nThe average weather in Louisiana in April\\\\n\\\\nThe temperatures in Louisiana in April are comfortable with low of 18°C and and high up to 25°C.\\\\n\\\\nYou can expect about 3 to 8 days of rain in Louisiana during the month of April. It’s a good idea to bring along your umbrella so that you don’t get caught in poor weather.\\\\n\\\\nOur weather forecast can give you a great sense of what weather to expect in Louisiana in April 2025. [...] Month | Temperatures | Rainy Days | Dry Days | Snowy Days | Rainfall | Weather | More details\\\\nJanuary | 16°/9° | 4 | 27 | 0 | 53mm | Good | Louisiana in January\\\\nFebruary | 19°/12° | 4 | 24 | 0 | 60mm | Good | Louisiana in February\\\\nMarch | 22°/15° | 4 | 27 | 0 | 65mm | Good | Louisiana in March\\\\nApril | 25°/18° | 4 | 26 | 0 | 56mm | Perfect | Louisiana in April\\\\nMay | 29°/21° | 7 | 24 | 0 | 85mm | Ok | Louisiana in May\\\\nJune | 32°/25° | 10 | 20 | 0 | 136mm | Ok | Louisiana in June [...] Sun | Mon | Tue | Wed | Thu | Fri | Sat\\\\n |  | 125°/16° | 224°/16° | 326°/16° | 426°/18° | 527°/18°\\\\n627°/18° | 725°/17° | 825°/17° | 926°/16° | 1030°/16° | 1127°/18° | 1220°/12°\\\\n1325°/13° | 1427°/16° | 1527°/17° | 1626°/17° | 1728°/19° | 1828°/18° | 1929°/20°\\\\n2031°/21° | 2130°/21° | 2230°/21° | 2325°/15° | 2428°/18° | 2528°/18° | 2627°/19°\\\\n2728°/18° | 2829°/18° | 2927°/19° | 3027°/18° |  |  | \\\\nExplore the weather in Louisiana in other months\\\\n\\\\nLouisiana annual weather\\'}]', name='tavily_search_results_json', id='e59706e2-17c9-4a54-9483-d3daae6355e1', tool_call_id='call_3gWu4R70dAolWLBZeg4Vb6jc')]}\n",
      "{'messages': [HumanMessage(content='Whats the weather in LA?', id='4b78221b-4b7b-4307-9cf1-e300c7d1d6da'), AIMessage(content='', additional_kwargs={'tool_calls': [{'function': {'arguments': '{\"query\":\"weather in Los Angeles\"}', 'name': 'tavily_search_results_json'}, 'id': 'call_3gWu4R70dAolWLBZeg4Vb6jc', 'type': 'function'}]}, response_metadata={'finish_reason': 'tool_calls', 'logprobs': None, 'model_name': 'gpt-3.5-turbo', 'system_fingerprint': None, 'token_usage': {'completion_tokens': 22, 'completion_tokens_details': {'accepted_prediction_tokens': 0, 'audio_tokens': 0, 'reasoning_tokens': 0, 'rejected_prediction_tokens': 0}, 'prompt_tokens': 152, 'prompt_tokens_details': {'audio_tokens': 0, 'cached_tokens': 0}, 'total_tokens': 174}}, id='run-652b50a3-2fb4-482f-8aa2-3081b5e33aed-0', tool_calls=[{'name': 'tavily_search_results_json', 'args': {'query': 'current weather in Louisiana'}, 'id': 'call_3gWu4R70dAolWLBZeg4Vb6jc'}]), ToolMessage(content='[{\\'url\\': \\'https://www.weatherapi.com/\\', \\'content\\': \"{\\'location\\': {\\'name\\': \\'Louisiana\\', \\'region\\': \\'Missouri\\', \\'country\\': \\'USA United States of America\\', \\'lat\\': 39.4411, \\'lon\\': -91.0551, \\'tz_id\\': \\'America/Chicago\\', \\'localtime_epoch\\': 1744198771, \\'localtime\\': \\'2025-04-09 06:39\\'}, \\'current\\': {\\'last_updated_epoch\\': 1744198200, \\'last_updated\\': \\'2025-04-09 06:30\\', \\'temp_c\\': 5.5, \\'temp_f\\': 41.9, \\'is_day\\': 1, \\'condition\\': {\\'text\\': \\'Overcast\\', \\'icon\\': \\'//cdn.weatherapi.com/weather/64x64/day/122.png\\', \\'code\\': 1009}, \\'wind_mph\\': 14.5, \\'wind_kph\\': 23.4, \\'wind_degree\\': 161, \\'wind_dir\\': \\'SSE\\', \\'pressure_mb\\': 1017.0, \\'pressure_in\\': 30.02, \\'precip_mm\\': 0.0, \\'precip_in\\': 0.0, \\'humidity\\': 68, \\'cloud\\': 100, \\'feelslike_c\\': 1.3, \\'feelslike_f\\': 34.4, \\'windchill_c\\': -0.0, \\'windchill_f\\': 32.0, \\'heatindex_c\\': 4.5, \\'heatindex_f\\': 40.0, \\'dewpoint_c\\': 0.2, \\'dewpoint_f\\': 32.4, \\'vis_km\\': 16.0, \\'vis_miles\\': 9.0, \\'uv\\': 0.0, \\'gust_mph\\': 22.7, \\'gust_kph\\': 36.6}}\"}, {\\'url\\': \\'https://www.weather25.com/north-america/usa/louisiana?page=month&month=April\\', \\'content\\': \\'Louisiana weather in April 2025\\\\n\\\\nThe average weather in Louisiana in April\\\\n\\\\nThe temperatures in Louisiana in April are comfortable with low of 18°C and and high up to 25°C.\\\\n\\\\nYou can expect about 3 to 8 days of rain in Louisiana during the month of April. It’s a good idea to bring along your umbrella so that you don’t get caught in poor weather.\\\\n\\\\nOur weather forecast can give you a great sense of what weather to expect in Louisiana in April 2025. [...] Month | Temperatures | Rainy Days | Dry Days | Snowy Days | Rainfall | Weather | More details\\\\nJanuary | 16°/9° | 4 | 27 | 0 | 53mm | Good | Louisiana in January\\\\nFebruary | 19°/12° | 4 | 24 | 0 | 60mm | Good | Louisiana in February\\\\nMarch | 22°/15° | 4 | 27 | 0 | 65mm | Good | Louisiana in March\\\\nApril | 25°/18° | 4 | 26 | 0 | 56mm | Perfect | Louisiana in April\\\\nMay | 29°/21° | 7 | 24 | 0 | 85mm | Ok | Louisiana in May\\\\nJune | 32°/25° | 10 | 20 | 0 | 136mm | Ok | Louisiana in June [...] Sun | Mon | Tue | Wed | Thu | Fri | Sat\\\\n |  | 125°/16° | 224°/16° | 326°/16° | 426°/18° | 527°/18°\\\\n627°/18° | 725°/17° | 825°/17° | 926°/16° | 1030°/16° | 1127°/18° | 1220°/12°\\\\n1325°/13° | 1427°/16° | 1527°/17° | 1626°/17° | 1728°/19° | 1828°/18° | 1929°/20°\\\\n2031°/21° | 2130°/21° | 2230°/21° | 2325°/15° | 2428°/18° | 2528°/18° | 2627°/19°\\\\n2728°/18° | 2829°/18° | 2927°/19° | 3027°/18° |  |  | \\\\nExplore the weather in Louisiana in other months\\\\n\\\\nLouisiana annual weather\\'}]', name='tavily_search_results_json', id='e59706e2-17c9-4a54-9483-d3daae6355e1', tool_call_id='call_3gWu4R70dAolWLBZeg4Vb6jc'), AIMessage(content='I found information about the current weather in Louisiana, not Los Angeles. Would you like me to look up the weather in Los Angeles specifically?', response_metadata={'token_usage': {'completion_tokens': 30, 'prompt_tokens': 1198, 'total_tokens': 1228, 'prompt_tokens_details': {'cached_tokens': 0, 'audio_tokens': 0}, 'completion_tokens_details': {'reasoning_tokens': 0, 'audio_tokens': 0, 'accepted_prediction_tokens': 0, 'rejected_prediction_tokens': 0}}, 'model_name': 'gpt-3.5-turbo', 'system_fingerprint': None, 'finish_reason': 'stop', 'logprobs': None}, id='run-46a78253-687e-4915-a66e-1ea34584f33c-0')]}\n",
      "{'messages': [AIMessage(content='I found information about the current weather in Louisiana, not Los Angeles. Would you like me to look up the weather in Los Angeles specifically?', response_metadata={'token_usage': {'completion_tokens': 30, 'prompt_tokens': 1198, 'total_tokens': 1228, 'prompt_tokens_details': {'cached_tokens': 0, 'audio_tokens': 0}, 'completion_tokens_details': {'reasoning_tokens': 0, 'audio_tokens': 0, 'accepted_prediction_tokens': 0, 'rejected_prediction_tokens': 0}}, 'model_name': 'gpt-3.5-turbo', 'system_fingerprint': None, 'finish_reason': 'stop', 'logprobs': None}, id='run-46a78253-687e-4915-a66e-1ea34584f33c-0')]}\n"
     ]
    }
   ],
   "source": [
    "for event in abot.graph.stream(None, thread):\n",
    "    for v in event.values():\n",
    "        print(v)"
   ]
  },
  {
   "cell_type": "markdown",
   "id": "e75b870b-e0df-46f1-b29b-fb151ebcbcc3",
   "metadata": {},
   "source": [
    "## Time Travel"
   ]
  },
  {
   "cell_type": "code",
   "execution_count": 23,
   "id": "27cde654-64e2-48bc-80a9-0ed668ccb7dc",
   "metadata": {
    "height": 113
   },
   "outputs": [
    {
     "name": "stdout",
     "output_type": "stream",
     "text": [
      "StateSnapshot(values={'messages': [HumanMessage(content='Whats the weather in LA?', id='4b78221b-4b7b-4307-9cf1-e300c7d1d6da'), AIMessage(content='', additional_kwargs={'tool_calls': [{'function': {'arguments': '{\"query\":\"weather in Los Angeles\"}', 'name': 'tavily_search_results_json'}, 'id': 'call_3gWu4R70dAolWLBZeg4Vb6jc', 'type': 'function'}]}, response_metadata={'finish_reason': 'tool_calls', 'logprobs': None, 'model_name': 'gpt-3.5-turbo', 'system_fingerprint': None, 'token_usage': {'completion_tokens': 22, 'completion_tokens_details': {'accepted_prediction_tokens': 0, 'audio_tokens': 0, 'reasoning_tokens': 0, 'rejected_prediction_tokens': 0}, 'prompt_tokens': 152, 'prompt_tokens_details': {'audio_tokens': 0, 'cached_tokens': 0}, 'total_tokens': 174}}, id='run-652b50a3-2fb4-482f-8aa2-3081b5e33aed-0', tool_calls=[{'name': 'tavily_search_results_json', 'args': {'query': 'current weather in Louisiana'}, 'id': 'call_3gWu4R70dAolWLBZeg4Vb6jc'}]), ToolMessage(content='[{\\'url\\': \\'https://www.weatherapi.com/\\', \\'content\\': \"{\\'location\\': {\\'name\\': \\'Louisiana\\', \\'region\\': \\'Missouri\\', \\'country\\': \\'USA United States of America\\', \\'lat\\': 39.4411, \\'lon\\': -91.0551, \\'tz_id\\': \\'America/Chicago\\', \\'localtime_epoch\\': 1744198771, \\'localtime\\': \\'2025-04-09 06:39\\'}, \\'current\\': {\\'last_updated_epoch\\': 1744198200, \\'last_updated\\': \\'2025-04-09 06:30\\', \\'temp_c\\': 5.5, \\'temp_f\\': 41.9, \\'is_day\\': 1, \\'condition\\': {\\'text\\': \\'Overcast\\', \\'icon\\': \\'//cdn.weatherapi.com/weather/64x64/day/122.png\\', \\'code\\': 1009}, \\'wind_mph\\': 14.5, \\'wind_kph\\': 23.4, \\'wind_degree\\': 161, \\'wind_dir\\': \\'SSE\\', \\'pressure_mb\\': 1017.0, \\'pressure_in\\': 30.02, \\'precip_mm\\': 0.0, \\'precip_in\\': 0.0, \\'humidity\\': 68, \\'cloud\\': 100, \\'feelslike_c\\': 1.3, \\'feelslike_f\\': 34.4, \\'windchill_c\\': -0.0, \\'windchill_f\\': 32.0, \\'heatindex_c\\': 4.5, \\'heatindex_f\\': 40.0, \\'dewpoint_c\\': 0.2, \\'dewpoint_f\\': 32.4, \\'vis_km\\': 16.0, \\'vis_miles\\': 9.0, \\'uv\\': 0.0, \\'gust_mph\\': 22.7, \\'gust_kph\\': 36.6}}\"}, {\\'url\\': \\'https://www.weather25.com/north-america/usa/louisiana?page=month&month=April\\', \\'content\\': \\'Louisiana weather in April 2025\\\\n\\\\nThe average weather in Louisiana in April\\\\n\\\\nThe temperatures in Louisiana in April are comfortable with low of 18°C and and high up to 25°C.\\\\n\\\\nYou can expect about 3 to 8 days of rain in Louisiana during the month of April. It’s a good idea to bring along your umbrella so that you don’t get caught in poor weather.\\\\n\\\\nOur weather forecast can give you a great sense of what weather to expect in Louisiana in April 2025. [...] Month | Temperatures | Rainy Days | Dry Days | Snowy Days | Rainfall | Weather | More details\\\\nJanuary | 16°/9° | 4 | 27 | 0 | 53mm | Good | Louisiana in January\\\\nFebruary | 19°/12° | 4 | 24 | 0 | 60mm | Good | Louisiana in February\\\\nMarch | 22°/15° | 4 | 27 | 0 | 65mm | Good | Louisiana in March\\\\nApril | 25°/18° | 4 | 26 | 0 | 56mm | Perfect | Louisiana in April\\\\nMay | 29°/21° | 7 | 24 | 0 | 85mm | Ok | Louisiana in May\\\\nJune | 32°/25° | 10 | 20 | 0 | 136mm | Ok | Louisiana in June [...] Sun | Mon | Tue | Wed | Thu | Fri | Sat\\\\n |  | 125°/16° | 224°/16° | 326°/16° | 426°/18° | 527°/18°\\\\n627°/18° | 725°/17° | 825°/17° | 926°/16° | 1030°/16° | 1127°/18° | 1220°/12°\\\\n1325°/13° | 1427°/16° | 1527°/17° | 1626°/17° | 1728°/19° | 1828°/18° | 1929°/20°\\\\n2031°/21° | 2130°/21° | 2230°/21° | 2325°/15° | 2428°/18° | 2528°/18° | 2627°/19°\\\\n2728°/18° | 2829°/18° | 2927°/19° | 3027°/18° |  |  | \\\\nExplore the weather in Louisiana in other months\\\\n\\\\nLouisiana annual weather\\'}]', name='tavily_search_results_json', id='e59706e2-17c9-4a54-9483-d3daae6355e1', tool_call_id='call_3gWu4R70dAolWLBZeg4Vb6jc'), AIMessage(content='I found information about the current weather in Louisiana, not Los Angeles. Would you like me to look up the weather in Los Angeles specifically?', response_metadata={'finish_reason': 'stop', 'logprobs': None, 'model_name': 'gpt-3.5-turbo', 'system_fingerprint': None, 'token_usage': {'completion_tokens': 30, 'completion_tokens_details': {'accepted_prediction_tokens': 0, 'audio_tokens': 0, 'reasoning_tokens': 0, 'rejected_prediction_tokens': 0}, 'prompt_tokens': 1198, 'prompt_tokens_details': {'audio_tokens': 0, 'cached_tokens': 0}, 'total_tokens': 1228}}, id='run-46a78253-687e-4915-a66e-1ea34584f33c-0')]}, next=(), config={'configurable': {'thread_id': '3', 'thread_ts': '1f015375-3ef3-6c5f-8004-c1036321888c'}}, metadata={'source': 'loop', 'step': 4, 'writes': {'llm': {'messages': [AIMessage(content='I found information about the current weather in Louisiana, not Los Angeles. Would you like me to look up the weather in Los Angeles specifically?', response_metadata={'finish_reason': 'stop', 'logprobs': None, 'model_name': 'gpt-3.5-turbo', 'system_fingerprint': None, 'token_usage': {'completion_tokens': 30, 'completion_tokens_details': {'accepted_prediction_tokens': 0, 'audio_tokens': 0, 'reasoning_tokens': 0, 'rejected_prediction_tokens': 0}, 'prompt_tokens': 1198, 'prompt_tokens_details': {'audio_tokens': 0, 'cached_tokens': 0}, 'total_tokens': 1228}}, id='run-46a78253-687e-4915-a66e-1ea34584f33c-0')]}}}, created_at='2025-04-09T11:39:42.405711+00:00', parent_config={'configurable': {'thread_id': '3', 'thread_ts': '1f015375-3868-664f-8003-f44e129a4612'}})\n",
      "--\n",
      "StateSnapshot(values={'messages': [HumanMessage(content='Whats the weather in LA?', id='4b78221b-4b7b-4307-9cf1-e300c7d1d6da'), AIMessage(content='', additional_kwargs={'tool_calls': [{'function': {'arguments': '{\"query\":\"weather in Los Angeles\"}', 'name': 'tavily_search_results_json'}, 'id': 'call_3gWu4R70dAolWLBZeg4Vb6jc', 'type': 'function'}]}, response_metadata={'finish_reason': 'tool_calls', 'logprobs': None, 'model_name': 'gpt-3.5-turbo', 'system_fingerprint': None, 'token_usage': {'completion_tokens': 22, 'completion_tokens_details': {'accepted_prediction_tokens': 0, 'audio_tokens': 0, 'reasoning_tokens': 0, 'rejected_prediction_tokens': 0}, 'prompt_tokens': 152, 'prompt_tokens_details': {'audio_tokens': 0, 'cached_tokens': 0}, 'total_tokens': 174}}, id='run-652b50a3-2fb4-482f-8aa2-3081b5e33aed-0', tool_calls=[{'name': 'tavily_search_results_json', 'args': {'query': 'current weather in Louisiana'}, 'id': 'call_3gWu4R70dAolWLBZeg4Vb6jc'}]), ToolMessage(content='[{\\'url\\': \\'https://www.weatherapi.com/\\', \\'content\\': \"{\\'location\\': {\\'name\\': \\'Louisiana\\', \\'region\\': \\'Missouri\\', \\'country\\': \\'USA United States of America\\', \\'lat\\': 39.4411, \\'lon\\': -91.0551, \\'tz_id\\': \\'America/Chicago\\', \\'localtime_epoch\\': 1744198771, \\'localtime\\': \\'2025-04-09 06:39\\'}, \\'current\\': {\\'last_updated_epoch\\': 1744198200, \\'last_updated\\': \\'2025-04-09 06:30\\', \\'temp_c\\': 5.5, \\'temp_f\\': 41.9, \\'is_day\\': 1, \\'condition\\': {\\'text\\': \\'Overcast\\', \\'icon\\': \\'//cdn.weatherapi.com/weather/64x64/day/122.png\\', \\'code\\': 1009}, \\'wind_mph\\': 14.5, \\'wind_kph\\': 23.4, \\'wind_degree\\': 161, \\'wind_dir\\': \\'SSE\\', \\'pressure_mb\\': 1017.0, \\'pressure_in\\': 30.02, \\'precip_mm\\': 0.0, \\'precip_in\\': 0.0, \\'humidity\\': 68, \\'cloud\\': 100, \\'feelslike_c\\': 1.3, \\'feelslike_f\\': 34.4, \\'windchill_c\\': -0.0, \\'windchill_f\\': 32.0, \\'heatindex_c\\': 4.5, \\'heatindex_f\\': 40.0, \\'dewpoint_c\\': 0.2, \\'dewpoint_f\\': 32.4, \\'vis_km\\': 16.0, \\'vis_miles\\': 9.0, \\'uv\\': 0.0, \\'gust_mph\\': 22.7, \\'gust_kph\\': 36.6}}\"}, {\\'url\\': \\'https://www.weather25.com/north-america/usa/louisiana?page=month&month=April\\', \\'content\\': \\'Louisiana weather in April 2025\\\\n\\\\nThe average weather in Louisiana in April\\\\n\\\\nThe temperatures in Louisiana in April are comfortable with low of 18°C and and high up to 25°C.\\\\n\\\\nYou can expect about 3 to 8 days of rain in Louisiana during the month of April. It’s a good idea to bring along your umbrella so that you don’t get caught in poor weather.\\\\n\\\\nOur weather forecast can give you a great sense of what weather to expect in Louisiana in April 2025. [...] Month | Temperatures | Rainy Days | Dry Days | Snowy Days | Rainfall | Weather | More details\\\\nJanuary | 16°/9° | 4 | 27 | 0 | 53mm | Good | Louisiana in January\\\\nFebruary | 19°/12° | 4 | 24 | 0 | 60mm | Good | Louisiana in February\\\\nMarch | 22°/15° | 4 | 27 | 0 | 65mm | Good | Louisiana in March\\\\nApril | 25°/18° | 4 | 26 | 0 | 56mm | Perfect | Louisiana in April\\\\nMay | 29°/21° | 7 | 24 | 0 | 85mm | Ok | Louisiana in May\\\\nJune | 32°/25° | 10 | 20 | 0 | 136mm | Ok | Louisiana in June [...] Sun | Mon | Tue | Wed | Thu | Fri | Sat\\\\n |  | 125°/16° | 224°/16° | 326°/16° | 426°/18° | 527°/18°\\\\n627°/18° | 725°/17° | 825°/17° | 926°/16° | 1030°/16° | 1127°/18° | 1220°/12°\\\\n1325°/13° | 1427°/16° | 1527°/17° | 1626°/17° | 1728°/19° | 1828°/18° | 1929°/20°\\\\n2031°/21° | 2130°/21° | 2230°/21° | 2325°/15° | 2428°/18° | 2528°/18° | 2627°/19°\\\\n2728°/18° | 2829°/18° | 2927°/19° | 3027°/18° |  |  | \\\\nExplore the weather in Louisiana in other months\\\\n\\\\nLouisiana annual weather\\'}]', name='tavily_search_results_json', id='e59706e2-17c9-4a54-9483-d3daae6355e1', tool_call_id='call_3gWu4R70dAolWLBZeg4Vb6jc')]}, next=('llm',), config={'configurable': {'thread_id': '3', 'thread_ts': '1f015375-3868-664f-8003-f44e129a4612'}}, metadata={'source': 'loop', 'step': 3, 'writes': {'action': {'messages': [ToolMessage(content='[{\\'url\\': \\'https://www.weatherapi.com/\\', \\'content\\': \"{\\'location\\': {\\'name\\': \\'Louisiana\\', \\'region\\': \\'Missouri\\', \\'country\\': \\'USA United States of America\\', \\'lat\\': 39.4411, \\'lon\\': -91.0551, \\'tz_id\\': \\'America/Chicago\\', \\'localtime_epoch\\': 1744198771, \\'localtime\\': \\'2025-04-09 06:39\\'}, \\'current\\': {\\'last_updated_epoch\\': 1744198200, \\'last_updated\\': \\'2025-04-09 06:30\\', \\'temp_c\\': 5.5, \\'temp_f\\': 41.9, \\'is_day\\': 1, \\'condition\\': {\\'text\\': \\'Overcast\\', \\'icon\\': \\'//cdn.weatherapi.com/weather/64x64/day/122.png\\', \\'code\\': 1009}, \\'wind_mph\\': 14.5, \\'wind_kph\\': 23.4, \\'wind_degree\\': 161, \\'wind_dir\\': \\'SSE\\', \\'pressure_mb\\': 1017.0, \\'pressure_in\\': 30.02, \\'precip_mm\\': 0.0, \\'precip_in\\': 0.0, \\'humidity\\': 68, \\'cloud\\': 100, \\'feelslike_c\\': 1.3, \\'feelslike_f\\': 34.4, \\'windchill_c\\': -0.0, \\'windchill_f\\': 32.0, \\'heatindex_c\\': 4.5, \\'heatindex_f\\': 40.0, \\'dewpoint_c\\': 0.2, \\'dewpoint_f\\': 32.4, \\'vis_km\\': 16.0, \\'vis_miles\\': 9.0, \\'uv\\': 0.0, \\'gust_mph\\': 22.7, \\'gust_kph\\': 36.6}}\"}, {\\'url\\': \\'https://www.weather25.com/north-america/usa/louisiana?page=month&month=April\\', \\'content\\': \\'Louisiana weather in April 2025\\\\n\\\\nThe average weather in Louisiana in April\\\\n\\\\nThe temperatures in Louisiana in April are comfortable with low of 18°C and and high up to 25°C.\\\\n\\\\nYou can expect about 3 to 8 days of rain in Louisiana during the month of April. It’s a good idea to bring along your umbrella so that you don’t get caught in poor weather.\\\\n\\\\nOur weather forecast can give you a great sense of what weather to expect in Louisiana in April 2025. [...] Month | Temperatures | Rainy Days | Dry Days | Snowy Days | Rainfall | Weather | More details\\\\nJanuary | 16°/9° | 4 | 27 | 0 | 53mm | Good | Louisiana in January\\\\nFebruary | 19°/12° | 4 | 24 | 0 | 60mm | Good | Louisiana in February\\\\nMarch | 22°/15° | 4 | 27 | 0 | 65mm | Good | Louisiana in March\\\\nApril | 25°/18° | 4 | 26 | 0 | 56mm | Perfect | Louisiana in April\\\\nMay | 29°/21° | 7 | 24 | 0 | 85mm | Ok | Louisiana in May\\\\nJune | 32°/25° | 10 | 20 | 0 | 136mm | Ok | Louisiana in June [...] Sun | Mon | Tue | Wed | Thu | Fri | Sat\\\\n |  | 125°/16° | 224°/16° | 326°/16° | 426°/18° | 527°/18°\\\\n627°/18° | 725°/17° | 825°/17° | 926°/16° | 1030°/16° | 1127°/18° | 1220°/12°\\\\n1325°/13° | 1427°/16° | 1527°/17° | 1626°/17° | 1728°/19° | 1828°/18° | 1929°/20°\\\\n2031°/21° | 2130°/21° | 2230°/21° | 2325°/15° | 2428°/18° | 2528°/18° | 2627°/19°\\\\n2728°/18° | 2829°/18° | 2927°/19° | 3027°/18° |  |  | \\\\nExplore the weather in Louisiana in other months\\\\n\\\\nLouisiana annual weather\\'}]', name='tavily_search_results_json', id='e59706e2-17c9-4a54-9483-d3daae6355e1', tool_call_id='call_3gWu4R70dAolWLBZeg4Vb6jc')]}}}, created_at='2025-04-09T11:39:41.719476+00:00', parent_config={'configurable': {'thread_id': '3', 'thread_ts': '1f015375-15c7-696c-8002-de67d03ef252'}})\n",
      "--\n",
      "StateSnapshot(values={'messages': [HumanMessage(content='Whats the weather in LA?', id='4b78221b-4b7b-4307-9cf1-e300c7d1d6da'), AIMessage(content='', additional_kwargs={'tool_calls': [{'function': {'arguments': '{\"query\":\"weather in Los Angeles\"}', 'name': 'tavily_search_results_json'}, 'id': 'call_3gWu4R70dAolWLBZeg4Vb6jc', 'type': 'function'}]}, response_metadata={'finish_reason': 'tool_calls', 'logprobs': None, 'model_name': 'gpt-3.5-turbo', 'system_fingerprint': None, 'token_usage': {'completion_tokens': 22, 'completion_tokens_details': {'accepted_prediction_tokens': 0, 'audio_tokens': 0, 'reasoning_tokens': 0, 'rejected_prediction_tokens': 0}, 'prompt_tokens': 152, 'prompt_tokens_details': {'audio_tokens': 0, 'cached_tokens': 0}, 'total_tokens': 174}}, id='run-652b50a3-2fb4-482f-8aa2-3081b5e33aed-0', tool_calls=[{'name': 'tavily_search_results_json', 'args': {'query': 'current weather in Louisiana'}, 'id': 'call_3gWu4R70dAolWLBZeg4Vb6jc'}])]}, next=('action',), config={'configurable': {'thread_id': '3', 'thread_ts': '1f015375-15c7-696c-8002-de67d03ef252'}}, metadata={'source': 'update', 'step': 2, 'writes': {'llm': {'messages': [HumanMessage(content='Whats the weather in LA?', id='4b78221b-4b7b-4307-9cf1-e300c7d1d6da'), AIMessage(content='', additional_kwargs={'tool_calls': [{'function': {'arguments': '{\"query\":\"weather in Los Angeles\"}', 'name': 'tavily_search_results_json'}, 'id': 'call_3gWu4R70dAolWLBZeg4Vb6jc', 'type': 'function'}]}, response_metadata={'finish_reason': 'tool_calls', 'logprobs': None, 'model_name': 'gpt-3.5-turbo', 'system_fingerprint': None, 'token_usage': {'completion_tokens': 22, 'completion_tokens_details': {'accepted_prediction_tokens': 0, 'audio_tokens': 0, 'reasoning_tokens': 0, 'rejected_prediction_tokens': 0}, 'prompt_tokens': 152, 'prompt_tokens_details': {'audio_tokens': 0, 'cached_tokens': 0}, 'total_tokens': 174}}, id='run-652b50a3-2fb4-482f-8aa2-3081b5e33aed-0', tool_calls=[{'name': 'tavily_search_results_json', 'args': {'query': 'current weather in Louisiana'}, 'id': 'call_3gWu4R70dAolWLBZeg4Vb6jc'}])]}}}, created_at='2025-04-09T11:39:38.088476+00:00', parent_config={'configurable': {'thread_id': '3', 'thread_ts': '1f015375-157c-6451-8001-7ee8ef16937a'}})\n",
      "--\n",
      "StateSnapshot(values={'messages': [HumanMessage(content='Whats the weather in LA?', id='4b78221b-4b7b-4307-9cf1-e300c7d1d6da'), AIMessage(content='', additional_kwargs={'tool_calls': [{'function': {'arguments': '{\"query\":\"weather in Los Angeles\"}', 'name': 'tavily_search_results_json'}, 'id': 'call_3gWu4R70dAolWLBZeg4Vb6jc', 'type': 'function'}]}, response_metadata={'finish_reason': 'tool_calls', 'logprobs': None, 'model_name': 'gpt-3.5-turbo', 'system_fingerprint': None, 'token_usage': {'completion_tokens': 22, 'completion_tokens_details': {'accepted_prediction_tokens': 0, 'audio_tokens': 0, 'reasoning_tokens': 0, 'rejected_prediction_tokens': 0}, 'prompt_tokens': 152, 'prompt_tokens_details': {'audio_tokens': 0, 'cached_tokens': 0}, 'total_tokens': 174}}, id='run-652b50a3-2fb4-482f-8aa2-3081b5e33aed-0', tool_calls=[{'name': 'tavily_search_results_json', 'args': {'query': 'weather in Los Angeles'}, 'id': 'call_3gWu4R70dAolWLBZeg4Vb6jc'}])]}, next=('action',), config={'configurable': {'thread_id': '3', 'thread_ts': '1f015375-157c-6451-8001-7ee8ef16937a'}}, metadata={'source': 'loop', 'step': 1, 'writes': {'llm': {'messages': [AIMessage(content='', additional_kwargs={'tool_calls': [{'function': {'arguments': '{\"query\":\"weather in Los Angeles\"}', 'name': 'tavily_search_results_json'}, 'id': 'call_3gWu4R70dAolWLBZeg4Vb6jc', 'type': 'function'}]}, response_metadata={'finish_reason': 'tool_calls', 'logprobs': None, 'model_name': 'gpt-3.5-turbo', 'system_fingerprint': None, 'token_usage': {'completion_tokens': 22, 'completion_tokens_details': {'accepted_prediction_tokens': 0, 'audio_tokens': 0, 'reasoning_tokens': 0, 'rejected_prediction_tokens': 0}, 'prompt_tokens': 152, 'prompt_tokens_details': {'audio_tokens': 0, 'cached_tokens': 0}, 'total_tokens': 174}}, id='run-652b50a3-2fb4-482f-8aa2-3081b5e33aed-0', tool_calls=[{'name': 'tavily_search_results_json', 'args': {'query': 'weather in Los Angeles'}, 'id': 'call_3gWu4R70dAolWLBZeg4Vb6jc'}])]}}}, created_at='2025-04-09T11:39:38.057615+00:00', parent_config={'configurable': {'thread_id': '3', 'thread_ts': '1f015375-1529-63f2-8000-7147adc2d233'}})\n",
      "--\n",
      "StateSnapshot(values={'messages': [HumanMessage(content='Whats the weather in LA?', id='4b78221b-4b7b-4307-9cf1-e300c7d1d6da')]}, next=('llm',), config={'configurable': {'thread_id': '3', 'thread_ts': '1f015375-1529-63f2-8000-7147adc2d233'}}, metadata={'source': 'loop', 'step': 0, 'writes': None}, created_at='2025-04-09T11:39:38.023608+00:00', parent_config={'configurable': {'thread_id': '3', 'thread_ts': '1f015375-1526-6f4c-bfff-decc9fca4926'}})\n",
      "--\n",
      "StateSnapshot(values={'messages': []}, next=('__start__',), config={'configurable': {'thread_id': '3', 'thread_ts': '1f015375-1526-6f4c-bfff-decc9fca4926'}}, metadata={'source': 'input', 'step': -1, 'writes': {'messages': [HumanMessage(content='Whats the weather in LA?')]}}, created_at='2025-04-09T11:39:38.022678+00:00', parent_config=None)\n",
      "--\n"
     ]
    }
   ],
   "source": [
    "states = []\n",
    "for state in abot.graph.get_state_history(thread):\n",
    "    print(state)\n",
    "    print('--')\n",
    "    states.append(state)"
   ]
  },
  {
   "cell_type": "markdown",
   "id": "449896c8-6ec6-4166-b640-9cd1530336a0",
   "metadata": {},
   "source": [
    "To fetch the same state as was filmed, the offset below is changed to `-3` from `-1`. This accounts for the initial state `__start__` and the first state that are now stored to state memory with the latest version of software."
   ]
  },
  {
   "cell_type": "code",
   "execution_count": 24,
   "id": "4871f644-b131-4065-b7ce-b82c20a41f11",
   "metadata": {
    "height": 30
   },
   "outputs": [],
   "source": [
    "to_replay = states[-3]"
   ]
  },
  {
   "cell_type": "code",
   "execution_count": 25,
   "id": "8c3d8070-3f36-4cf0-a677-508e54359c8f",
   "metadata": {
    "height": 30
   },
   "outputs": [
    {
     "data": {
      "text/plain": [
       "StateSnapshot(values={'messages': [HumanMessage(content='Whats the weather in LA?', id='4b78221b-4b7b-4307-9cf1-e300c7d1d6da'), AIMessage(content='', additional_kwargs={'tool_calls': [{'function': {'arguments': '{\"query\":\"weather in Los Angeles\"}', 'name': 'tavily_search_results_json'}, 'id': 'call_3gWu4R70dAolWLBZeg4Vb6jc', 'type': 'function'}]}, response_metadata={'finish_reason': 'tool_calls', 'logprobs': None, 'model_name': 'gpt-3.5-turbo', 'system_fingerprint': None, 'token_usage': {'completion_tokens': 22, 'completion_tokens_details': {'accepted_prediction_tokens': 0, 'audio_tokens': 0, 'reasoning_tokens': 0, 'rejected_prediction_tokens': 0}, 'prompt_tokens': 152, 'prompt_tokens_details': {'audio_tokens': 0, 'cached_tokens': 0}, 'total_tokens': 174}}, id='run-652b50a3-2fb4-482f-8aa2-3081b5e33aed-0', tool_calls=[{'name': 'tavily_search_results_json', 'args': {'query': 'weather in Los Angeles'}, 'id': 'call_3gWu4R70dAolWLBZeg4Vb6jc'}])]}, next=('action',), config={'configurable': {'thread_id': '3', 'thread_ts': '1f015375-157c-6451-8001-7ee8ef16937a'}}, metadata={'source': 'loop', 'step': 1, 'writes': {'llm': {'messages': [AIMessage(content='', additional_kwargs={'tool_calls': [{'function': {'arguments': '{\"query\":\"weather in Los Angeles\"}', 'name': 'tavily_search_results_json'}, 'id': 'call_3gWu4R70dAolWLBZeg4Vb6jc', 'type': 'function'}]}, response_metadata={'finish_reason': 'tool_calls', 'logprobs': None, 'model_name': 'gpt-3.5-turbo', 'system_fingerprint': None, 'token_usage': {'completion_tokens': 22, 'completion_tokens_details': {'accepted_prediction_tokens': 0, 'audio_tokens': 0, 'reasoning_tokens': 0, 'rejected_prediction_tokens': 0}, 'prompt_tokens': 152, 'prompt_tokens_details': {'audio_tokens': 0, 'cached_tokens': 0}, 'total_tokens': 174}}, id='run-652b50a3-2fb4-482f-8aa2-3081b5e33aed-0', tool_calls=[{'name': 'tavily_search_results_json', 'args': {'query': 'weather in Los Angeles'}, 'id': 'call_3gWu4R70dAolWLBZeg4Vb6jc'}])]}}}, created_at='2025-04-09T11:39:38.057615+00:00', parent_config={'configurable': {'thread_id': '3', 'thread_ts': '1f015375-1529-63f2-8000-7147adc2d233'}})"
      ]
     },
     "execution_count": 25,
     "metadata": {},
     "output_type": "execute_result"
    }
   ],
   "source": [
    "to_replay"
   ]
  },
  {
   "cell_type": "code",
   "execution_count": 26,
   "id": "98f3be1d-cc4c-41fa-9863-3e386e88e305",
   "metadata": {
    "height": 79
   },
   "outputs": [
    {
     "name": "stdout",
     "output_type": "stream",
     "text": [
      "Calling: {'name': 'tavily_search_results_json', 'args': {'query': 'weather in Los Angeles'}, 'id': 'call_3gWu4R70dAolWLBZeg4Vb6jc'}\n",
      "Back to the model!\n",
      "{'messages': [ToolMessage(content='[{\\'url\\': \\'https://weathershogun.com/weather/usa/ca/los-angeles/451/april/2025-04-09\\', \\'content\\': \\'Los Angeles, California Weather: Wednesday, April 9, 2025. Sunny weather, clear skies and sunny weather. Day 70°. Night 57°.\\'}, {\\'url\\': \\'https://en.climate-data.org/north-america/united-states-of-america/california/los-angeles-714829/t/april-4/\\', \\'content\\': \"| 23.3 °C\\\\n(73.9) °F\\\\n| 25.2 °C\\\\n(77.4) °F\\\\n| 28.1 °C\\\\n(82.6) °F\\\\n| 31.3 °C\\\\n(88.3) °F\\\\n| 31.9 °C\\\\n(89.5) °F\\\\n| 31 °C\\\\n(87.7) °F\\\\n| 27.2 °C\\\\n(81) °F\\\\n| 23.1 °C\\\\n(73.5) °F\\\\n| 18.8 °C\\\\n(65.9) °F\\\\n|\\\\n| Precipitation / Rainfall mm (in) | 84\\\\n(3)\\\\n| 89\\\\n(3)\\\\n| 54\\\\n(2)\\\\n| 19\\\\n(0)\\\\n| 11\\\\n(0)\\\\n| 3\\\\n(0)\\\\n| 2\\\\n(0)\\\\n| 0\\\\n(0)\\\\n| 4\\\\n(0)\\\\n| 17\\\\n(0)\\\\n| 21\\\\n(0)\\\\n| 53\\\\n(2)\\\\n|\\\\n| Humidity(%) | 52% | 57% | 59% | 55% | 56% | 55% | 52% | 49% | 49% | 49% | 46% | 53% |\\\\n| Rainy days (d) | 4 | 5 | 4 | 2 | 1 | 0 | 0 | 0 | 1 | 2 | 2 | 4 | [...] (64.7) °F\\\\n| 21 °C\\\\n(69.9) °F\\\\n| 24.1 °C\\\\n(75.4) °F\\\\n| 24.5 °C\\\\n(76.1) °F\\\\n| 23.2 °C\\\\n(73.8) °F\\\\n| 19.5 °C\\\\n(67.2) °F\\\\n| 15.4 °C\\\\n(59.7) °F\\\\n| 11.6 °C\\\\n(52.8) °F\\\\n|\\\\n| Min. Temperature °C (°F) | 6.7 °C\\\\n(44.1) °F\\\\n| 6.8 °C\\\\n(44.2) °F\\\\n| 8.3 °C\\\\n(47) °F\\\\n| 9.7 °C\\\\n(49.5) °F\\\\n| 12.3 °C\\\\n(54.1) °F\\\\n| 15 °C\\\\n(58.9) °F\\\\n| 17.9 °C\\\\n(64.3) °F\\\\n| 18.2 °C\\\\n(64.8) °F\\\\n| 17 °C\\\\n(62.6) °F\\\\n| 13.6 °C\\\\n(56.5) °F\\\\n| 9.8 °C\\\\n(49.7) °F\\\\n| 6.5 °C\\\\n(43.8) °F\\\\n|\\\\n| Max. Temperature °C (°F) | 19.5 °C\\\\n(67.2) °F\\\\n| 19.4 °C\\\\n(66.9) °F\\\\n| 21.4 °C\\\\n(70.5) °F [...] April in Los Angeles brings mild and pleasant temperatures, making it a great time to visit. The average temperature during this month is around 60.4°F (15.8°C). On warmer days, the highs can reach up to about 73.9°F (23.3°C), perfect for enjoying outdoor activities like hiking or visiting the beach. During the cooler nights, temperatures might drop to approximately 49.5°F (9.7°C), so it\\'s wise to have a light jacket handy for evening outings.\"}]', name='tavily_search_results_json', id='a0d1ff62-7adc-4dec-8ca5-6ca92a598bac', tool_call_id='call_3gWu4R70dAolWLBZeg4Vb6jc')]}\n",
      "{'messages': [HumanMessage(content='Whats the weather in LA?', id='4b78221b-4b7b-4307-9cf1-e300c7d1d6da'), AIMessage(content='', additional_kwargs={'tool_calls': [{'function': {'arguments': '{\"query\":\"weather in Los Angeles\"}', 'name': 'tavily_search_results_json'}, 'id': 'call_3gWu4R70dAolWLBZeg4Vb6jc', 'type': 'function'}]}, response_metadata={'finish_reason': 'tool_calls', 'logprobs': None, 'model_name': 'gpt-3.5-turbo', 'system_fingerprint': None, 'token_usage': {'completion_tokens': 22, 'completion_tokens_details': {'accepted_prediction_tokens': 0, 'audio_tokens': 0, 'reasoning_tokens': 0, 'rejected_prediction_tokens': 0}, 'prompt_tokens': 152, 'prompt_tokens_details': {'audio_tokens': 0, 'cached_tokens': 0}, 'total_tokens': 174}}, id='run-652b50a3-2fb4-482f-8aa2-3081b5e33aed-0', tool_calls=[{'name': 'tavily_search_results_json', 'args': {'query': 'weather in Los Angeles'}, 'id': 'call_3gWu4R70dAolWLBZeg4Vb6jc'}]), ToolMessage(content='[{\\'url\\': \\'https://weathershogun.com/weather/usa/ca/los-angeles/451/april/2025-04-09\\', \\'content\\': \\'Los Angeles, California Weather: Wednesday, April 9, 2025. Sunny weather, clear skies and sunny weather. Day 70°. Night 57°.\\'}, {\\'url\\': \\'https://en.climate-data.org/north-america/united-states-of-america/california/los-angeles-714829/t/april-4/\\', \\'content\\': \"| 23.3 °C\\\\n(73.9) °F\\\\n| 25.2 °C\\\\n(77.4) °F\\\\n| 28.1 °C\\\\n(82.6) °F\\\\n| 31.3 °C\\\\n(88.3) °F\\\\n| 31.9 °C\\\\n(89.5) °F\\\\n| 31 °C\\\\n(87.7) °F\\\\n| 27.2 °C\\\\n(81) °F\\\\n| 23.1 °C\\\\n(73.5) °F\\\\n| 18.8 °C\\\\n(65.9) °F\\\\n|\\\\n| Precipitation / Rainfall mm (in) | 84\\\\n(3)\\\\n| 89\\\\n(3)\\\\n| 54\\\\n(2)\\\\n| 19\\\\n(0)\\\\n| 11\\\\n(0)\\\\n| 3\\\\n(0)\\\\n| 2\\\\n(0)\\\\n| 0\\\\n(0)\\\\n| 4\\\\n(0)\\\\n| 17\\\\n(0)\\\\n| 21\\\\n(0)\\\\n| 53\\\\n(2)\\\\n|\\\\n| Humidity(%) | 52% | 57% | 59% | 55% | 56% | 55% | 52% | 49% | 49% | 49% | 46% | 53% |\\\\n| Rainy days (d) | 4 | 5 | 4 | 2 | 1 | 0 | 0 | 0 | 1 | 2 | 2 | 4 | [...] (64.7) °F\\\\n| 21 °C\\\\n(69.9) °F\\\\n| 24.1 °C\\\\n(75.4) °F\\\\n| 24.5 °C\\\\n(76.1) °F\\\\n| 23.2 °C\\\\n(73.8) °F\\\\n| 19.5 °C\\\\n(67.2) °F\\\\n| 15.4 °C\\\\n(59.7) °F\\\\n| 11.6 °C\\\\n(52.8) °F\\\\n|\\\\n| Min. Temperature °C (°F) | 6.7 °C\\\\n(44.1) °F\\\\n| 6.8 °C\\\\n(44.2) °F\\\\n| 8.3 °C\\\\n(47) °F\\\\n| 9.7 °C\\\\n(49.5) °F\\\\n| 12.3 °C\\\\n(54.1) °F\\\\n| 15 °C\\\\n(58.9) °F\\\\n| 17.9 °C\\\\n(64.3) °F\\\\n| 18.2 °C\\\\n(64.8) °F\\\\n| 17 °C\\\\n(62.6) °F\\\\n| 13.6 °C\\\\n(56.5) °F\\\\n| 9.8 °C\\\\n(49.7) °F\\\\n| 6.5 °C\\\\n(43.8) °F\\\\n|\\\\n| Max. Temperature °C (°F) | 19.5 °C\\\\n(67.2) °F\\\\n| 19.4 °C\\\\n(66.9) °F\\\\n| 21.4 °C\\\\n(70.5) °F [...] April in Los Angeles brings mild and pleasant temperatures, making it a great time to visit. The average temperature during this month is around 60.4°F (15.8°C). On warmer days, the highs can reach up to about 73.9°F (23.3°C), perfect for enjoying outdoor activities like hiking or visiting the beach. During the cooler nights, temperatures might drop to approximately 49.5°F (9.7°C), so it\\'s wise to have a light jacket handy for evening outings.\"}]', name='tavily_search_results_json', id='a0d1ff62-7adc-4dec-8ca5-6ca92a598bac', tool_call_id='call_3gWu4R70dAolWLBZeg4Vb6jc'), AIMessage(content='The weather in Los Angeles today is sunny with clear skies. The daytime temperature is 70°F (21°C), and it will drop to 57°F (14°C) at night.', response_metadata={'token_usage': {'completion_tokens': 40, 'prompt_tokens': 1134, 'total_tokens': 1174, 'prompt_tokens_details': {'cached_tokens': 0, 'audio_tokens': 0}, 'completion_tokens_details': {'reasoning_tokens': 0, 'audio_tokens': 0, 'accepted_prediction_tokens': 0, 'rejected_prediction_tokens': 0}}, 'model_name': 'gpt-3.5-turbo', 'system_fingerprint': None, 'finish_reason': 'stop', 'logprobs': None}, id='run-f0908ff8-6d94-4fda-b152-6664786ca948-0')]}\n",
      "{'messages': [AIMessage(content='The weather in Los Angeles today is sunny with clear skies. The daytime temperature is 70°F (21°C), and it will drop to 57°F (14°C) at night.', response_metadata={'token_usage': {'completion_tokens': 40, 'prompt_tokens': 1134, 'total_tokens': 1174, 'prompt_tokens_details': {'cached_tokens': 0, 'audio_tokens': 0}, 'completion_tokens_details': {'reasoning_tokens': 0, 'audio_tokens': 0, 'accepted_prediction_tokens': 0, 'rejected_prediction_tokens': 0}}, 'model_name': 'gpt-3.5-turbo', 'system_fingerprint': None, 'finish_reason': 'stop', 'logprobs': None}, id='run-f0908ff8-6d94-4fda-b152-6664786ca948-0')]}\n"
     ]
    }
   ],
   "source": [
    "for event in abot.graph.stream(None, to_replay.config):\n",
    "    for k, v in event.items():\n",
    "        print(v)"
   ]
  },
  {
   "cell_type": "markdown",
   "id": "005353dc-630b-4b40-ab19-56c57ac06611",
   "metadata": {},
   "source": [
    "## Go back in time and edit"
   ]
  },
  {
   "cell_type": "code",
   "execution_count": 27,
   "id": "0ad8a6cc-65d4-4ce7-87aa-4e67d7c23d7b",
   "metadata": {
    "height": 30
   },
   "outputs": [
    {
     "data": {
      "text/plain": [
       "StateSnapshot(values={'messages': [HumanMessage(content='Whats the weather in LA?', id='4b78221b-4b7b-4307-9cf1-e300c7d1d6da'), AIMessage(content='', additional_kwargs={'tool_calls': [{'function': {'arguments': '{\"query\":\"weather in Los Angeles\"}', 'name': 'tavily_search_results_json'}, 'id': 'call_3gWu4R70dAolWLBZeg4Vb6jc', 'type': 'function'}]}, response_metadata={'finish_reason': 'tool_calls', 'logprobs': None, 'model_name': 'gpt-3.5-turbo', 'system_fingerprint': None, 'token_usage': {'completion_tokens': 22, 'completion_tokens_details': {'accepted_prediction_tokens': 0, 'audio_tokens': 0, 'reasoning_tokens': 0, 'rejected_prediction_tokens': 0}, 'prompt_tokens': 152, 'prompt_tokens_details': {'audio_tokens': 0, 'cached_tokens': 0}, 'total_tokens': 174}}, id='run-652b50a3-2fb4-482f-8aa2-3081b5e33aed-0', tool_calls=[{'name': 'tavily_search_results_json', 'args': {'query': 'weather in Los Angeles'}, 'id': 'call_3gWu4R70dAolWLBZeg4Vb6jc'}])]}, next=('action',), config={'configurable': {'thread_id': '3', 'thread_ts': '1f015375-157c-6451-8001-7ee8ef16937a'}}, metadata={'source': 'loop', 'step': 1, 'writes': {'llm': {'messages': [AIMessage(content='', additional_kwargs={'tool_calls': [{'function': {'arguments': '{\"query\":\"weather in Los Angeles\"}', 'name': 'tavily_search_results_json'}, 'id': 'call_3gWu4R70dAolWLBZeg4Vb6jc', 'type': 'function'}]}, response_metadata={'finish_reason': 'tool_calls', 'logprobs': None, 'model_name': 'gpt-3.5-turbo', 'system_fingerprint': None, 'token_usage': {'completion_tokens': 22, 'completion_tokens_details': {'accepted_prediction_tokens': 0, 'audio_tokens': 0, 'reasoning_tokens': 0, 'rejected_prediction_tokens': 0}, 'prompt_tokens': 152, 'prompt_tokens_details': {'audio_tokens': 0, 'cached_tokens': 0}, 'total_tokens': 174}}, id='run-652b50a3-2fb4-482f-8aa2-3081b5e33aed-0', tool_calls=[{'name': 'tavily_search_results_json', 'args': {'query': 'weather in Los Angeles'}, 'id': 'call_3gWu4R70dAolWLBZeg4Vb6jc'}])]}}}, created_at='2025-04-09T11:39:38.057615+00:00', parent_config={'configurable': {'thread_id': '3', 'thread_ts': '1f015375-1529-63f2-8000-7147adc2d233'}})"
      ]
     },
     "execution_count": 27,
     "metadata": {},
     "output_type": "execute_result"
    }
   ],
   "source": [
    "to_replay"
   ]
  },
  {
   "cell_type": "code",
   "execution_count": 28,
   "id": "592b5e62-a203-433c-92a0-3783f490cde1",
   "metadata": {
    "height": 96
   },
   "outputs": [],
   "source": [
    "_id = to_replay.values['messages'][-1].tool_calls[0]['id']\n",
    "to_replay.values['messages'][-1].tool_calls = [{'name': 'tavily_search_results_json',\n",
    "  'args': {'query': 'current weather in LA, accuweather'},\n",
    "  'id': _id}]"
   ]
  },
  {
   "cell_type": "code",
   "execution_count": 29,
   "id": "14fa923c-7e4f-42d1-965f-0f8ccd50fbd7",
   "metadata": {
    "height": 45
   },
   "outputs": [
    {
     "name": "stdout",
     "output_type": "stream",
     "text": [
      "{'messages': [HumanMessage(content='Whats the weather in LA?', id='4b78221b-4b7b-4307-9cf1-e300c7d1d6da'), AIMessage(content='', additional_kwargs={'tool_calls': [{'function': {'arguments': '{\"query\":\"weather in Los Angeles\"}', 'name': 'tavily_search_results_json'}, 'id': 'call_3gWu4R70dAolWLBZeg4Vb6jc', 'type': 'function'}]}, response_metadata={'finish_reason': 'tool_calls', 'logprobs': None, 'model_name': 'gpt-3.5-turbo', 'system_fingerprint': None, 'token_usage': {'completion_tokens': 22, 'completion_tokens_details': {'accepted_prediction_tokens': 0, 'audio_tokens': 0, 'reasoning_tokens': 0, 'rejected_prediction_tokens': 0}, 'prompt_tokens': 152, 'prompt_tokens_details': {'audio_tokens': 0, 'cached_tokens': 0}, 'total_tokens': 174}}, id='run-652b50a3-2fb4-482f-8aa2-3081b5e33aed-0', tool_calls=[{'name': 'tavily_search_results_json', 'args': {'query': 'current weather in LA, accuweather'}, 'id': 'call_3gWu4R70dAolWLBZeg4Vb6jc'}])]}\n"
     ]
    }
   ],
   "source": [
    "branch_state = abot.graph.update_state(to_replay.config, to_replay.values)"
   ]
  },
  {
   "cell_type": "code",
   "execution_count": 30,
   "id": "570c6245-2837-4ac5-983b-95f61f3ac10d",
   "metadata": {
    "height": 96
   },
   "outputs": [
    {
     "name": "stdout",
     "output_type": "stream",
     "text": [
      "Calling: {'name': 'tavily_search_results_json', 'args': {'query': 'current weather in LA, accuweather'}, 'id': 'call_3gWu4R70dAolWLBZeg4Vb6jc'}\n",
      "Back to the model!\n",
      "{'messages': [ToolMessage(content='[{\\'url\\': \\'https://www.weatherapi.com/\\', \\'content\\': \"{\\'location\\': {\\'name\\': \\'Los Angeles\\', \\'region\\': \\'California\\', \\'country\\': \\'United States of America\\', \\'lat\\': 34.0522, \\'lon\\': -118.2428, \\'tz_id\\': \\'America/Los_Angeles\\', \\'localtime_epoch\\': 1744199175, \\'localtime\\': \\'2025-04-09 04:46\\'}, \\'current\\': {\\'last_updated_epoch\\': 1744199100, \\'last_updated\\': \\'2025-04-09 04:45\\', \\'temp_c\\': 14.4, \\'temp_f\\': 57.9, \\'is_day\\': 0, \\'condition\\': {\\'text\\': \\'Clear\\', \\'icon\\': \\'//cdn.weatherapi.com/weather/64x64/night/113.png\\', \\'code\\': 1000}, \\'wind_mph\\': 2.2, \\'wind_kph\\': 3.6, \\'wind_degree\\': 202, \\'wind_dir\\': \\'SSW\\', \\'pressure_mb\\': 1017.0, \\'pressure_in\\': 30.03, \\'precip_mm\\': 0.0, \\'precip_in\\': 0.0, \\'humidity\\': 84, \\'cloud\\': 0, \\'feelslike_c\\': 15.1, \\'feelslike_f\\': 59.2, \\'windchill_c\\': 14.1, \\'windchill_f\\': 57.4, \\'heatindex_c\\': 14.1, \\'heatindex_f\\': 57.4, \\'dewpoint_c\\': 11.5, \\'dewpoint_f\\': 52.7, \\'vis_km\\': 16.0, \\'vis_miles\\': 9.0, \\'uv\\': 0.0, \\'gust_mph\\': 6.7, \\'gust_kph\\': 10.8}}\"}, {\\'url\\': \\'https://www.accuweather.com/en/us/los-angeles-ca/90012/current-weather/347625?lang=en-us&partner=web_scorebook_adc\\', \\'content\\': \\'Los Angeles, CA Current Weather | AccuWeather\\\\nGo Back\\\\nFebruary frenzy: Multiple winter storms with snow, ice and rain to blast US.\\\\nQuick-hitting weekend storm to bring another wintry blow to Northeast, including millions in NYC and Boston. See the forecast\\\\nLos Angeles, CA =============== 54°F \\\\nLocation \\\\nLocation News Videos\\\\nUse Current Location\\\\nRecent\\\\nLos Angeles California 54°\\\\nNo results found.\\\\nTry searching for a city, zip code or point of interest. [...] Probability of Precipitation0%\\\\nProbability of Thunderstorms0%\\\\nPrecipitation0.00 in\\\\nCloud Cover64%\\\\nEvening\\\\nOvernight\\\\nAccuWeather NOW [...] Current Weather\\\\n10:33 PM\\\\n54°F\\\\nMostly clear\\\\nRealFeel® 55°\\\\nCool\\\\nRealFeel Guide\\\\nCool\\\\n53° to 62°\\\\nLight jacket or sweater may be appropriate.\\\\nLEARN MORE\\\\nRealFeel®\\\\n55°\\\\nWind\\\\nSSW 2 mph\\\\nWind Gusts\\\\n3 mph\\\\nHumidity\\\\n88%\\\\nIndoor Humidity\\\\n52% (Ideal Humidity)\\\\nDew Point\\\\n50° F\\\\nPressure\\\\n↑ 30.09 in\\\\nCloud Cover\\\\n23%\\\\nVisibility\\\\n10 mi\\\\nCloud Ceiling\\\\n40000 ft\\\\nNight\\\\n2/7\\\\n49°Lo\\\\nRealFeel® 48°\\\\nChilly\\\\nRealFeel Guide\\\\nChilly\\\\n40° to 52°\\\\nJacket or sweater is recommended.\\\\nLEARN MORE\\\\nPartly cloudy\\\\nWindSE 5 mph\\\\nWind Gusts12 mph\\'}]', name='tavily_search_results_json', id='d4efe016-61f0-4980-8489-352af2e9b498', tool_call_id='call_3gWu4R70dAolWLBZeg4Vb6jc')]}\n",
      "{'messages': [HumanMessage(content='Whats the weather in LA?', id='4b78221b-4b7b-4307-9cf1-e300c7d1d6da'), AIMessage(content='', additional_kwargs={'tool_calls': [{'function': {'arguments': '{\"query\":\"weather in Los Angeles\"}', 'name': 'tavily_search_results_json'}, 'id': 'call_3gWu4R70dAolWLBZeg4Vb6jc', 'type': 'function'}]}, response_metadata={'finish_reason': 'tool_calls', 'logprobs': None, 'model_name': 'gpt-3.5-turbo', 'system_fingerprint': None, 'token_usage': {'completion_tokens': 22, 'completion_tokens_details': {'accepted_prediction_tokens': 0, 'audio_tokens': 0, 'reasoning_tokens': 0, 'rejected_prediction_tokens': 0}, 'prompt_tokens': 152, 'prompt_tokens_details': {'audio_tokens': 0, 'cached_tokens': 0}, 'total_tokens': 174}}, id='run-652b50a3-2fb4-482f-8aa2-3081b5e33aed-0', tool_calls=[{'name': 'tavily_search_results_json', 'args': {'query': 'current weather in LA, accuweather'}, 'id': 'call_3gWu4R70dAolWLBZeg4Vb6jc'}]), ToolMessage(content='[{\\'url\\': \\'https://www.weatherapi.com/\\', \\'content\\': \"{\\'location\\': {\\'name\\': \\'Los Angeles\\', \\'region\\': \\'California\\', \\'country\\': \\'United States of America\\', \\'lat\\': 34.0522, \\'lon\\': -118.2428, \\'tz_id\\': \\'America/Los_Angeles\\', \\'localtime_epoch\\': 1744199175, \\'localtime\\': \\'2025-04-09 04:46\\'}, \\'current\\': {\\'last_updated_epoch\\': 1744199100, \\'last_updated\\': \\'2025-04-09 04:45\\', \\'temp_c\\': 14.4, \\'temp_f\\': 57.9, \\'is_day\\': 0, \\'condition\\': {\\'text\\': \\'Clear\\', \\'icon\\': \\'//cdn.weatherapi.com/weather/64x64/night/113.png\\', \\'code\\': 1000}, \\'wind_mph\\': 2.2, \\'wind_kph\\': 3.6, \\'wind_degree\\': 202, \\'wind_dir\\': \\'SSW\\', \\'pressure_mb\\': 1017.0, \\'pressure_in\\': 30.03, \\'precip_mm\\': 0.0, \\'precip_in\\': 0.0, \\'humidity\\': 84, \\'cloud\\': 0, \\'feelslike_c\\': 15.1, \\'feelslike_f\\': 59.2, \\'windchill_c\\': 14.1, \\'windchill_f\\': 57.4, \\'heatindex_c\\': 14.1, \\'heatindex_f\\': 57.4, \\'dewpoint_c\\': 11.5, \\'dewpoint_f\\': 52.7, \\'vis_km\\': 16.0, \\'vis_miles\\': 9.0, \\'uv\\': 0.0, \\'gust_mph\\': 6.7, \\'gust_kph\\': 10.8}}\"}, {\\'url\\': \\'https://www.accuweather.com/en/us/los-angeles-ca/90012/current-weather/347625?lang=en-us&partner=web_scorebook_adc\\', \\'content\\': \\'Los Angeles, CA Current Weather | AccuWeather\\\\nGo Back\\\\nFebruary frenzy: Multiple winter storms with snow, ice and rain to blast US.\\\\nQuick-hitting weekend storm to bring another wintry blow to Northeast, including millions in NYC and Boston. See the forecast\\\\nLos Angeles, CA =============== 54°F \\\\nLocation \\\\nLocation News Videos\\\\nUse Current Location\\\\nRecent\\\\nLos Angeles California 54°\\\\nNo results found.\\\\nTry searching for a city, zip code or point of interest. [...] Probability of Precipitation0%\\\\nProbability of Thunderstorms0%\\\\nPrecipitation0.00 in\\\\nCloud Cover64%\\\\nEvening\\\\nOvernight\\\\nAccuWeather NOW [...] Current Weather\\\\n10:33 PM\\\\n54°F\\\\nMostly clear\\\\nRealFeel® 55°\\\\nCool\\\\nRealFeel Guide\\\\nCool\\\\n53° to 62°\\\\nLight jacket or sweater may be appropriate.\\\\nLEARN MORE\\\\nRealFeel®\\\\n55°\\\\nWind\\\\nSSW 2 mph\\\\nWind Gusts\\\\n3 mph\\\\nHumidity\\\\n88%\\\\nIndoor Humidity\\\\n52% (Ideal Humidity)\\\\nDew Point\\\\n50° F\\\\nPressure\\\\n↑ 30.09 in\\\\nCloud Cover\\\\n23%\\\\nVisibility\\\\n10 mi\\\\nCloud Ceiling\\\\n40000 ft\\\\nNight\\\\n2/7\\\\n49°Lo\\\\nRealFeel® 48°\\\\nChilly\\\\nRealFeel Guide\\\\nChilly\\\\n40° to 52°\\\\nJacket or sweater is recommended.\\\\nLEARN MORE\\\\nPartly cloudy\\\\nWindSE 5 mph\\\\nWind Gusts12 mph\\'}]', name='tavily_search_results_json', id='d4efe016-61f0-4980-8489-352af2e9b498', tool_call_id='call_3gWu4R70dAolWLBZeg4Vb6jc'), AIMessage(content='The current weather in Los Angeles is 57.9°F with clear skies. The wind speed is 3.6 kph coming from the SSW direction. The humidity is at 84%.', response_metadata={'token_usage': {'completion_tokens': 42, 'prompt_tokens': 984, 'total_tokens': 1026, 'prompt_tokens_details': {'cached_tokens': 0, 'audio_tokens': 0}, 'completion_tokens_details': {'reasoning_tokens': 0, 'audio_tokens': 0, 'accepted_prediction_tokens': 0, 'rejected_prediction_tokens': 0}}, 'model_name': 'gpt-3.5-turbo', 'system_fingerprint': None, 'finish_reason': 'stop', 'logprobs': None}, id='run-9146468f-86f3-436a-93a0-fe537dd32e30-0')]}\n",
      "{'messages': [AIMessage(content='The current weather in Los Angeles is 57.9°F with clear skies. The wind speed is 3.6 kph coming from the SSW direction. The humidity is at 84%.', response_metadata={'token_usage': {'completion_tokens': 42, 'prompt_tokens': 984, 'total_tokens': 1026, 'prompt_tokens_details': {'cached_tokens': 0, 'audio_tokens': 0}, 'completion_tokens_details': {'reasoning_tokens': 0, 'audio_tokens': 0, 'accepted_prediction_tokens': 0, 'rejected_prediction_tokens': 0}}, 'model_name': 'gpt-3.5-turbo', 'system_fingerprint': None, 'finish_reason': 'stop', 'logprobs': None}, id='run-9146468f-86f3-436a-93a0-fe537dd32e30-0')]}\n"
     ]
    }
   ],
   "source": [
    "for event in abot.graph.stream(None, branch_state):\n",
    "    for k, v in event.items():\n",
    "        if k != \"__end__\":\n",
    "            print(v)"
   ]
  },
  {
   "cell_type": "markdown",
   "id": "f1016ce7-368d-4922-9044-fcdfd47c273b",
   "metadata": {},
   "source": [
    "## Add message to a state at a given time"
   ]
  },
  {
   "cell_type": "code",
   "execution_count": 31,
   "id": "6b910915-b087-4d35-afff-0ec30a5852f1",
   "metadata": {
    "height": 30
   },
   "outputs": [
    {
     "data": {
      "text/plain": [
       "StateSnapshot(values={'messages': [HumanMessage(content='Whats the weather in LA?', id='4b78221b-4b7b-4307-9cf1-e300c7d1d6da'), AIMessage(content='', additional_kwargs={'tool_calls': [{'function': {'arguments': '{\"query\":\"weather in Los Angeles\"}', 'name': 'tavily_search_results_json'}, 'id': 'call_3gWu4R70dAolWLBZeg4Vb6jc', 'type': 'function'}]}, response_metadata={'finish_reason': 'tool_calls', 'logprobs': None, 'model_name': 'gpt-3.5-turbo', 'system_fingerprint': None, 'token_usage': {'completion_tokens': 22, 'completion_tokens_details': {'accepted_prediction_tokens': 0, 'audio_tokens': 0, 'reasoning_tokens': 0, 'rejected_prediction_tokens': 0}, 'prompt_tokens': 152, 'prompt_tokens_details': {'audio_tokens': 0, 'cached_tokens': 0}, 'total_tokens': 174}}, id='run-652b50a3-2fb4-482f-8aa2-3081b5e33aed-0', tool_calls=[{'name': 'tavily_search_results_json', 'args': {'query': 'current weather in LA, accuweather'}, 'id': 'call_3gWu4R70dAolWLBZeg4Vb6jc'}])]}, next=('action',), config={'configurable': {'thread_id': '3', 'thread_ts': '1f015375-157c-6451-8001-7ee8ef16937a'}}, metadata={'source': 'loop', 'step': 1, 'writes': {'llm': {'messages': [AIMessage(content='', additional_kwargs={'tool_calls': [{'function': {'arguments': '{\"query\":\"weather in Los Angeles\"}', 'name': 'tavily_search_results_json'}, 'id': 'call_3gWu4R70dAolWLBZeg4Vb6jc', 'type': 'function'}]}, response_metadata={'finish_reason': 'tool_calls', 'logprobs': None, 'model_name': 'gpt-3.5-turbo', 'system_fingerprint': None, 'token_usage': {'completion_tokens': 22, 'completion_tokens_details': {'accepted_prediction_tokens': 0, 'audio_tokens': 0, 'reasoning_tokens': 0, 'rejected_prediction_tokens': 0}, 'prompt_tokens': 152, 'prompt_tokens_details': {'audio_tokens': 0, 'cached_tokens': 0}, 'total_tokens': 174}}, id='run-652b50a3-2fb4-482f-8aa2-3081b5e33aed-0', tool_calls=[{'name': 'tavily_search_results_json', 'args': {'query': 'weather in Los Angeles'}, 'id': 'call_3gWu4R70dAolWLBZeg4Vb6jc'}])]}}}, created_at='2025-04-09T11:39:38.057615+00:00', parent_config={'configurable': {'thread_id': '3', 'thread_ts': '1f015375-1529-63f2-8000-7147adc2d233'}})"
      ]
     },
     "execution_count": 31,
     "metadata": {},
     "output_type": "execute_result"
    }
   ],
   "source": [
    "to_replay"
   ]
  },
  {
   "cell_type": "code",
   "execution_count": 32,
   "id": "c4feb6cc-5129-4a99-bb45-851bc07b5709",
   "metadata": {
    "height": 45
   },
   "outputs": [],
   "source": [
    "_id = to_replay.values['messages'][-1].tool_calls[0]['id']"
   ]
  },
  {
   "cell_type": "code",
   "execution_count": 33,
   "id": "e85a02b4-96cc-4b01-8792-397a774eb499",
   "metadata": {
    "height": 98
   },
   "outputs": [],
   "source": [
    "state_update = {\"messages\": [ToolMessage(\n",
    "    tool_call_id=_id,\n",
    "    name=\"tavily_search_results_json\",\n",
    "    content=\"54 degree celcius\",\n",
    ")]}"
   ]
  },
  {
   "cell_type": "code",
   "execution_count": 34,
   "id": "ae8b86a6-5e20-4252-b1d8-009b8318345a",
   "metadata": {
    "height": 81
   },
   "outputs": [],
   "source": [
    "branch_and_add = abot.graph.update_state(\n",
    "    to_replay.config, \n",
    "    state_update, \n",
    "    as_node=\"action\")"
   ]
  },
  {
   "cell_type": "code",
   "execution_count": 35,
   "id": "af925917-b746-48c9-ac74-62fefbe5246c",
   "metadata": {
    "height": 79
   },
   "outputs": [
    {
     "name": "stdout",
     "output_type": "stream",
     "text": [
      "{'messages': [HumanMessage(content='Whats the weather in LA?', id='4b78221b-4b7b-4307-9cf1-e300c7d1d6da'), AIMessage(content='', additional_kwargs={'tool_calls': [{'function': {'arguments': '{\"query\":\"weather in Los Angeles\"}', 'name': 'tavily_search_results_json'}, 'id': 'call_3gWu4R70dAolWLBZeg4Vb6jc', 'type': 'function'}]}, response_metadata={'finish_reason': 'tool_calls', 'logprobs': None, 'model_name': 'gpt-3.5-turbo', 'system_fingerprint': None, 'token_usage': {'completion_tokens': 22, 'completion_tokens_details': {'accepted_prediction_tokens': 0, 'audio_tokens': 0, 'reasoning_tokens': 0, 'rejected_prediction_tokens': 0}, 'prompt_tokens': 152, 'prompt_tokens_details': {'audio_tokens': 0, 'cached_tokens': 0}, 'total_tokens': 174}}, id='run-652b50a3-2fb4-482f-8aa2-3081b5e33aed-0', tool_calls=[{'name': 'tavily_search_results_json', 'args': {'query': 'weather in Los Angeles'}, 'id': 'call_3gWu4R70dAolWLBZeg4Vb6jc'}]), ToolMessage(content='54 degree celcius', name='tavily_search_results_json', id='6a95ce2b-3e7a-4ff2-a5ef-9cdb280b4dd0', tool_call_id='call_3gWu4R70dAolWLBZeg4Vb6jc'), AIMessage(content='The weather in Los Angeles is currently 54 degrees Celsius.', response_metadata={'token_usage': {'completion_tokens': 14, 'prompt_tokens': 190, 'total_tokens': 204, 'prompt_tokens_details': {'cached_tokens': 0, 'audio_tokens': 0}, 'completion_tokens_details': {'reasoning_tokens': 0, 'audio_tokens': 0, 'accepted_prediction_tokens': 0, 'rejected_prediction_tokens': 0}}, 'model_name': 'gpt-3.5-turbo', 'system_fingerprint': None, 'finish_reason': 'stop', 'logprobs': None}, id='run-dd39c025-1671-494c-b186-916d8d8503e2-0')]}\n",
      "{'messages': [AIMessage(content='The weather in Los Angeles is currently 54 degrees Celsius.', response_metadata={'token_usage': {'completion_tokens': 14, 'prompt_tokens': 190, 'total_tokens': 204, 'prompt_tokens_details': {'cached_tokens': 0, 'audio_tokens': 0}, 'completion_tokens_details': {'reasoning_tokens': 0, 'audio_tokens': 0, 'accepted_prediction_tokens': 0, 'rejected_prediction_tokens': 0}}, 'model_name': 'gpt-3.5-turbo', 'system_fingerprint': None, 'finish_reason': 'stop', 'logprobs': None}, id='run-dd39c025-1671-494c-b186-916d8d8503e2-0')]}\n"
     ]
    }
   ],
   "source": [
    "for event in abot.graph.stream(None, branch_and_add):\n",
    "    for k, v in event.items():\n",
    "        print(v)"
   ]
  },
  {
   "cell_type": "markdown",
   "id": "a6b1de51-f1dd-4719-89e6-01c21d2b304e",
   "metadata": {},
   "source": [
    "# Extra Practice"
   ]
  },
  {
   "cell_type": "markdown",
   "id": "31e06033-59fd-4d6b-8891-fb8bc2d7a037",
   "metadata": {},
   "source": [
    "## Build a small graph\n",
    "This is a small simple graph you can tinker with if you want more insight into controlling state memory."
   ]
  },
  {
   "cell_type": "code",
   "execution_count": 36,
   "id": "7614683e-1c13-4518-b464-263fb91be761",
   "metadata": {
    "height": 64
   },
   "outputs": [],
   "source": [
    "from dotenv import load_dotenv\n",
    "\n",
    "_ = load_dotenv()"
   ]
  },
  {
   "cell_type": "code",
   "execution_count": 37,
   "id": "efbef86a-75fe-416f-99ab-70b181d934dc",
   "metadata": {
    "height": 96
   },
   "outputs": [],
   "source": [
    "from langgraph.graph import StateGraph, END\n",
    "from typing import TypedDict, Annotated\n",
    "import operator\n",
    "from langgraph.checkpoint.sqlite import SqliteSaver"
   ]
  },
  {
   "cell_type": "markdown",
   "id": "67c972f7-5a14-49da-9d82-37105a6637ed",
   "metadata": {},
   "source": [
    "Define a simple 2 node graph with the following state:\n",
    "-`lnode`: last node\n",
    "-`scratch`: a scratchpad location\n",
    "-`count` : a counter that is incremented each step"
   ]
  },
  {
   "cell_type": "code",
   "execution_count": 38,
   "id": "b846f637-5e98-4a7d-9ca0-5144302b7cef",
   "metadata": {
    "height": 81
   },
   "outputs": [],
   "source": [
    "class AgentState(TypedDict):\n",
    "    lnode: str\n",
    "    scratch: str\n",
    "    count: Annotated[int, operator.add]"
   ]
  },
  {
   "cell_type": "code",
   "execution_count": 39,
   "id": "b8bb1c6d-41b7-4f5b-807b-ecbdec82d8d6",
   "metadata": {
    "height": 183
   },
   "outputs": [],
   "source": [
    "def node1(state: AgentState):\n",
    "    print(f\"node1, count:{state['count']}\")\n",
    "    return {\"lnode\": \"node_1\",\n",
    "            \"count\": 1,\n",
    "           }\n",
    "def node2(state: AgentState):\n",
    "    print(f\"node2, count:{state['count']}\")\n",
    "    return {\"lnode\": \"node_2\",\n",
    "            \"count\": 1,\n",
    "           }"
   ]
  },
  {
   "cell_type": "markdown",
   "id": "6adc403b-10d2-4a6c-bd21-c84bb8e0c8fc",
   "metadata": {},
   "source": [
    "The graph goes N1->N2->N1... but breaks after count reaches 3."
   ]
  },
  {
   "cell_type": "code",
   "execution_count": 40,
   "id": "b2c6d249-4793-41c5-8e80-40f1eedc4baf",
   "metadata": {
    "height": 47
   },
   "outputs": [],
   "source": [
    "def should_continue(state):\n",
    "    return state[\"count\"] < 3"
   ]
  },
  {
   "cell_type": "code",
   "execution_count": 41,
   "id": "4e3721d9-4508-48fa-9be0-93af20144072",
   "metadata": {
    "height": 181
   },
   "outputs": [],
   "source": [
    "builder = StateGraph(AgentState)\n",
    "builder.add_node(\"Node1\", node1)\n",
    "builder.add_node(\"Node2\", node2)\n",
    "\n",
    "builder.add_edge(\"Node1\", \"Node2\")\n",
    "builder.add_conditional_edges(\"Node2\", \n",
    "                              should_continue, \n",
    "                              {True: \"Node1\", False: END})\n",
    "builder.set_entry_point(\"Node1\")"
   ]
  },
  {
   "cell_type": "code",
   "execution_count": 42,
   "id": "8d35d70c-daeb-49c1-9b7c-90cc2a7ca142",
   "metadata": {
    "height": 62
   },
   "outputs": [],
   "source": [
    "memory = SqliteSaver.from_conn_string(\":memory:\")\n",
    "graph = builder.compile(checkpointer=memory)"
   ]
  },
  {
   "cell_type": "markdown",
   "id": "c57051f5-f7fb-4be5-a2f5-21cb1aa4fecb",
   "metadata": {},
   "source": [
    "### Run it!\n",
    "Now, set the thread and run!"
   ]
  },
  {
   "cell_type": "code",
   "execution_count": 43,
   "id": "edba3a1a-84a7-45eb-a6ee-74a612b68d54",
   "metadata": {
    "height": 62
   },
   "outputs": [
    {
     "name": "stdout",
     "output_type": "stream",
     "text": [
      "node1, count:0\n",
      "node2, count:1\n",
      "node1, count:2\n",
      "node2, count:3\n"
     ]
    },
    {
     "data": {
      "text/plain": [
       "{'lnode': 'node_2', 'scratch': 'hi', 'count': 4}"
      ]
     },
     "execution_count": 43,
     "metadata": {},
     "output_type": "execute_result"
    }
   ],
   "source": [
    "thread = {\"configurable\": {\"thread_id\": str(1)}}\n",
    "graph.invoke({\"count\":0, \"scratch\":\"hi\"},thread)"
   ]
  },
  {
   "cell_type": "markdown",
   "id": "2ce7b035-bfdb-4642-8750-47d188277423",
   "metadata": {},
   "source": [
    "### Look at current state"
   ]
  },
  {
   "cell_type": "markdown",
   "id": "43324904-a6f4-4299-86de-e0218e4cb225",
   "metadata": {},
   "source": [
    "Get the current state. Note the `values` which are the AgentState. Note the `config` and the `thread_ts`. You will be using those to refer to snapshots below."
   ]
  },
  {
   "cell_type": "code",
   "execution_count": 44,
   "id": "f2513b41-31b2-46e6-84f6-0c519f697973",
   "metadata": {
    "height": 30
   },
   "outputs": [
    {
     "data": {
      "text/plain": [
       "StateSnapshot(values={'lnode': 'node_2', 'scratch': 'hi', 'count': 4}, next=(), config={'configurable': {'thread_id': '1', 'thread_ts': '1f015375-859d-65de-8004-3a9a3d49f031'}}, metadata={'source': 'loop', 'step': 4, 'writes': {'Node2': {'count': 1, 'lnode': 'node_2'}}}, created_at='2025-04-09T11:39:49.815228+00:00', parent_config={'configurable': {'thread_id': '1', 'thread_ts': '1f015375-859a-6503-8003-ab355569b9b9'}})"
      ]
     },
     "execution_count": 44,
     "metadata": {},
     "output_type": "execute_result"
    }
   ],
   "source": [
    "graph.get_state(thread)"
   ]
  },
  {
   "cell_type": "markdown",
   "id": "7f7be4ae-24f0-4362-bd99-55ad38fe0112",
   "metadata": {},
   "source": [
    "View all the statesnapshots in memory. You can use the displayed `count` agentstate variable to help track what you see. Notice the most recent snapshots are returned by the iterator first. Also note that there is a handy `step` variable in the metadata that counts the number of steps in the graph execution. This is a bit detailed - but you can also notice that the *parent_config* is the *config* of the previous node. At initial startup, additional states are inserted into memory to create a parent. This is something to check when you branch or *time travel* below."
   ]
  },
  {
   "cell_type": "markdown",
   "id": "18647be0-c7c6-4ec5-9454-54a034fcd053",
   "metadata": {},
   "source": [
    "### Look at state history"
   ]
  },
  {
   "cell_type": "code",
   "execution_count": 45,
   "id": "686fa197-c97f-4ae6-82d2-938bbe5542c1",
   "metadata": {
    "height": 62
   },
   "outputs": [
    {
     "name": "stdout",
     "output_type": "stream",
     "text": [
      "StateSnapshot(values={'lnode': 'node_2', 'scratch': 'hi', 'count': 4}, next=(), config={'configurable': {'thread_id': '1', 'thread_ts': '1f015375-859d-65de-8004-3a9a3d49f031'}}, metadata={'source': 'loop', 'step': 4, 'writes': {'Node2': {'count': 1, 'lnode': 'node_2'}}}, created_at='2025-04-09T11:39:49.815228+00:00', parent_config={'configurable': {'thread_id': '1', 'thread_ts': '1f015375-859a-6503-8003-ab355569b9b9'}}) \n",
      "\n",
      "StateSnapshot(values={'lnode': 'node_1', 'scratch': 'hi', 'count': 3}, next=('Node2',), config={'configurable': {'thread_id': '1', 'thread_ts': '1f015375-859a-6503-8003-ab355569b9b9'}}, metadata={'source': 'loop', 'step': 3, 'writes': {'Node1': {'count': 1, 'lnode': 'node_1'}}}, created_at='2025-04-09T11:39:49.813973+00:00', parent_config={'configurable': {'thread_id': '1', 'thread_ts': '1f015375-8597-6582-8002-3eb4f15aa6af'}}) \n",
      "\n",
      "StateSnapshot(values={'lnode': 'node_2', 'scratch': 'hi', 'count': 2}, next=('Node1',), config={'configurable': {'thread_id': '1', 'thread_ts': '1f015375-8597-6582-8002-3eb4f15aa6af'}}, metadata={'source': 'loop', 'step': 2, 'writes': {'Node2': {'count': 1, 'lnode': 'node_2'}}}, created_at='2025-04-09T11:39:49.812752+00:00', parent_config={'configurable': {'thread_id': '1', 'thread_ts': '1f015375-8592-66f3-8001-9c10871eab04'}}) \n",
      "\n",
      "StateSnapshot(values={'lnode': 'node_1', 'scratch': 'hi', 'count': 1}, next=('Node2',), config={'configurable': {'thread_id': '1', 'thread_ts': '1f015375-8592-66f3-8001-9c10871eab04'}}, metadata={'source': 'loop', 'step': 1, 'writes': {'Node1': {'count': 1, 'lnode': 'node_1'}}}, created_at='2025-04-09T11:39:49.810755+00:00', parent_config={'configurable': {'thread_id': '1', 'thread_ts': '1f015375-858e-6bee-8000-aa958edaa41a'}}) \n",
      "\n",
      "StateSnapshot(values={'scratch': 'hi', 'count': 0}, next=('Node1',), config={'configurable': {'thread_id': '1', 'thread_ts': '1f015375-858e-6bee-8000-aa958edaa41a'}}, metadata={'source': 'loop', 'step': 0, 'writes': None}, created_at='2025-04-09T11:39:49.809242+00:00', parent_config={'configurable': {'thread_id': '1', 'thread_ts': '1f015375-858b-6a8b-bfff-594868ef048c'}}) \n",
      "\n",
      "StateSnapshot(values={'count': 0}, next=('__start__',), config={'configurable': {'thread_id': '1', 'thread_ts': '1f015375-858b-6a8b-bfff-594868ef048c'}}, metadata={'source': 'input', 'step': -1, 'writes': {'count': 0, 'scratch': 'hi'}}, created_at='2025-04-09T11:39:49.807978+00:00', parent_config=None) \n",
      "\n"
     ]
    }
   ],
   "source": [
    "for state in graph.get_state_history(thread):\n",
    "    print(state, \"\\n\")"
   ]
  },
  {
   "cell_type": "markdown",
   "id": "dd7850ff-0748-43d7-8956-074fa9fd819f",
   "metadata": {},
   "source": [
    "Store just the `config` into an list. Note the sequence of counts on the right. `get_state_history` returns the most recent snapshots first."
   ]
  },
  {
   "cell_type": "code",
   "execution_count": 46,
   "id": "9f68e604-4f53-46c0-8f06-e7726ec9dcf6",
   "metadata": {
    "height": 96
   },
   "outputs": [
    {
     "name": "stdout",
     "output_type": "stream",
     "text": [
      "{'configurable': {'thread_id': '1', 'thread_ts': '1f015375-859d-65de-8004-3a9a3d49f031'}} 4\n",
      "{'configurable': {'thread_id': '1', 'thread_ts': '1f015375-859a-6503-8003-ab355569b9b9'}} 3\n",
      "{'configurable': {'thread_id': '1', 'thread_ts': '1f015375-8597-6582-8002-3eb4f15aa6af'}} 2\n",
      "{'configurable': {'thread_id': '1', 'thread_ts': '1f015375-8592-66f3-8001-9c10871eab04'}} 1\n",
      "{'configurable': {'thread_id': '1', 'thread_ts': '1f015375-858e-6bee-8000-aa958edaa41a'}} 0\n",
      "{'configurable': {'thread_id': '1', 'thread_ts': '1f015375-858b-6a8b-bfff-594868ef048c'}} 0\n"
     ]
    }
   ],
   "source": [
    "states = []\n",
    "for state in graph.get_state_history(thread):\n",
    "    states.append(state.config)\n",
    "    print(state.config, state.values['count'])"
   ]
  },
  {
   "cell_type": "markdown",
   "id": "90790095-4080-4e76-b538-47caac7d9699",
   "metadata": {},
   "source": [
    "Grab an early state."
   ]
  },
  {
   "cell_type": "code",
   "execution_count": 47,
   "id": "e1db574e-f158-44cf-b921-f1f4466c314d",
   "metadata": {
    "height": 30
   },
   "outputs": [
    {
     "data": {
      "text/plain": [
       "{'configurable': {'thread_id': '1',\n",
       "  'thread_ts': '1f015375-8592-66f3-8001-9c10871eab04'}}"
      ]
     },
     "execution_count": 47,
     "metadata": {},
     "output_type": "execute_result"
    }
   ],
   "source": [
    "states[-3]"
   ]
  },
  {
   "cell_type": "markdown",
   "id": "2cc233eb-f388-4ecd-bfb5-dac3568d37ce",
   "metadata": {},
   "source": [
    "This is the state after Node1 completed for the first time. Note `next` is `Node2`and `count` is 1."
   ]
  },
  {
   "cell_type": "code",
   "execution_count": 48,
   "id": "240f5039-7916-4c2a-88d5-d363b2898e70",
   "metadata": {
    "height": 30
   },
   "outputs": [
    {
     "data": {
      "text/plain": [
       "StateSnapshot(values={'lnode': 'node_1', 'scratch': 'hi', 'count': 1}, next=('Node2',), config={'configurable': {'thread_id': '1', 'thread_ts': '1f015375-8592-66f3-8001-9c10871eab04'}}, metadata={'source': 'loop', 'step': 1, 'writes': {'Node1': {'count': 1, 'lnode': 'node_1'}}}, created_at='2025-04-09T11:39:49.810755+00:00', parent_config={'configurable': {'thread_id': '1', 'thread_ts': '1f015375-858e-6bee-8000-aa958edaa41a'}})"
      ]
     },
     "execution_count": 48,
     "metadata": {},
     "output_type": "execute_result"
    }
   ],
   "source": [
    "graph.get_state(states[-3])"
   ]
  },
  {
   "cell_type": "markdown",
   "id": "4872468e-4d23-4840-ae14-c06c1ab4f161",
   "metadata": {},
   "source": [
    "### Go Back in Time\n",
    "Use that state in `invoke` to go back in time. Notice it uses states[-3] as *current_state* and continues to node2,"
   ]
  },
  {
   "cell_type": "code",
   "execution_count": 49,
   "id": "e3049179-b901-4557-a9c4-78afb3d53d27",
   "metadata": {
    "height": 30
   },
   "outputs": [
    {
     "name": "stdout",
     "output_type": "stream",
     "text": [
      "node2, count:1\n",
      "node1, count:2\n",
      "node2, count:3\n"
     ]
    },
    {
     "data": {
      "text/plain": [
       "{'lnode': 'node_2', 'scratch': 'hi', 'count': 4}"
      ]
     },
     "execution_count": 49,
     "metadata": {},
     "output_type": "execute_result"
    }
   ],
   "source": [
    "graph.invoke(None, states[-3])"
   ]
  },
  {
   "cell_type": "markdown",
   "id": "5bf7789a-df3d-4c7e-8899-d96a99d45717",
   "metadata": {},
   "source": [
    "Notice the new states are now in state history. Notice the counts on the far right."
   ]
  },
  {
   "cell_type": "code",
   "execution_count": 50,
   "id": "37fa44ec-9bd1-484b-a415-cc5f50b6e799",
   "metadata": {
    "height": 79
   },
   "outputs": [
    {
     "name": "stdout",
     "output_type": "stream",
     "text": [
      "{'configurable': {'thread_id': '1', 'thread_ts': '1f015375-86cc-6b5e-8004-c1a67aa8cd9c'}} 4\n",
      "{'configurable': {'thread_id': '1', 'thread_ts': '1f015375-86c9-6e89-8003-935160e14688'}} 3\n",
      "{'configurable': {'thread_id': '1', 'thread_ts': '1f015375-86c6-63ee-8002-a3520d65e662'}} 2\n",
      "{'configurable': {'thread_id': '1', 'thread_ts': '1f015375-859d-65de-8004-3a9a3d49f031'}} 4\n",
      "{'configurable': {'thread_id': '1', 'thread_ts': '1f015375-859a-6503-8003-ab355569b9b9'}} 3\n",
      "{'configurable': {'thread_id': '1', 'thread_ts': '1f015375-8597-6582-8002-3eb4f15aa6af'}} 2\n",
      "{'configurable': {'thread_id': '1', 'thread_ts': '1f015375-8592-66f3-8001-9c10871eab04'}} 1\n",
      "{'configurable': {'thread_id': '1', 'thread_ts': '1f015375-858e-6bee-8000-aa958edaa41a'}} 0\n",
      "{'configurable': {'thread_id': '1', 'thread_ts': '1f015375-858b-6a8b-bfff-594868ef048c'}} 0\n"
     ]
    }
   ],
   "source": [
    "thread = {\"configurable\": {\"thread_id\": str(1)}}\n",
    "for state in graph.get_state_history(thread):\n",
    "    print(state.config, state.values['count'])"
   ]
  },
  {
   "cell_type": "markdown",
   "id": "d3c8d305-6752-4cf6-a8cb-7babf3bbd643",
   "metadata": {},
   "source": [
    "You can see the details below. Lots of text, but try to find the node that start the new branch. Notice the parent *config* is not the previous entry in the stack, but is the entry from state[-3]."
   ]
  },
  {
   "cell_type": "code",
   "execution_count": 51,
   "id": "07d25697-fcf0-4a26-9485-3e195b0af225",
   "metadata": {
    "height": 79
   },
   "outputs": [
    {
     "name": "stdout",
     "output_type": "stream",
     "text": [
      "StateSnapshot(values={'lnode': 'node_2', 'scratch': 'hi', 'count': 4}, next=(), config={'configurable': {'thread_id': '1', 'thread_ts': '1f015375-86cc-6b5e-8004-c1a67aa8cd9c'}}, metadata={'source': 'loop', 'step': 4, 'writes': {'Node2': {'count': 1, 'lnode': 'node_2'}}}, created_at='2025-04-09T11:39:49.939481+00:00', parent_config={'configurable': {'thread_id': '1', 'thread_ts': '1f015375-86c9-6e89-8003-935160e14688'}}) \n",
      "\n",
      "StateSnapshot(values={'lnode': 'node_1', 'scratch': 'hi', 'count': 3}, next=('Node2',), config={'configurable': {'thread_id': '1', 'thread_ts': '1f015375-86c9-6e89-8003-935160e14688'}}, metadata={'source': 'loop', 'step': 3, 'writes': {'Node1': {'count': 1, 'lnode': 'node_1'}}}, created_at='2025-04-09T11:39:49.938334+00:00', parent_config={'configurable': {'thread_id': '1', 'thread_ts': '1f015375-86c6-63ee-8002-a3520d65e662'}}) \n",
      "\n",
      "StateSnapshot(values={'lnode': 'node_2', 'scratch': 'hi', 'count': 2}, next=('Node1',), config={'configurable': {'thread_id': '1', 'thread_ts': '1f015375-86c6-63ee-8002-a3520d65e662'}}, metadata={'source': 'loop', 'step': 2, 'writes': {'Node2': {'count': 1, 'lnode': 'node_2'}}}, created_at='2025-04-09T11:39:49.936828+00:00', parent_config={'configurable': {'thread_id': '1', 'thread_ts': '1f015375-8592-66f3-8001-9c10871eab04'}}) \n",
      "\n",
      "StateSnapshot(values={'lnode': 'node_2', 'scratch': 'hi', 'count': 4}, next=(), config={'configurable': {'thread_id': '1', 'thread_ts': '1f015375-859d-65de-8004-3a9a3d49f031'}}, metadata={'source': 'loop', 'step': 4, 'writes': {'Node2': {'count': 1, 'lnode': 'node_2'}}}, created_at='2025-04-09T11:39:49.815228+00:00', parent_config={'configurable': {'thread_id': '1', 'thread_ts': '1f015375-859a-6503-8003-ab355569b9b9'}}) \n",
      "\n",
      "StateSnapshot(values={'lnode': 'node_1', 'scratch': 'hi', 'count': 3}, next=('Node2',), config={'configurable': {'thread_id': '1', 'thread_ts': '1f015375-859a-6503-8003-ab355569b9b9'}}, metadata={'source': 'loop', 'step': 3, 'writes': {'Node1': {'count': 1, 'lnode': 'node_1'}}}, created_at='2025-04-09T11:39:49.813973+00:00', parent_config={'configurable': {'thread_id': '1', 'thread_ts': '1f015375-8597-6582-8002-3eb4f15aa6af'}}) \n",
      "\n",
      "StateSnapshot(values={'lnode': 'node_2', 'scratch': 'hi', 'count': 2}, next=('Node1',), config={'configurable': {'thread_id': '1', 'thread_ts': '1f015375-8597-6582-8002-3eb4f15aa6af'}}, metadata={'source': 'loop', 'step': 2, 'writes': {'Node2': {'count': 1, 'lnode': 'node_2'}}}, created_at='2025-04-09T11:39:49.812752+00:00', parent_config={'configurable': {'thread_id': '1', 'thread_ts': '1f015375-8592-66f3-8001-9c10871eab04'}}) \n",
      "\n",
      "StateSnapshot(values={'lnode': 'node_1', 'scratch': 'hi', 'count': 1}, next=('Node2',), config={'configurable': {'thread_id': '1', 'thread_ts': '1f015375-8592-66f3-8001-9c10871eab04'}}, metadata={'source': 'loop', 'step': 1, 'writes': {'Node1': {'count': 1, 'lnode': 'node_1'}}}, created_at='2025-04-09T11:39:49.810755+00:00', parent_config={'configurable': {'thread_id': '1', 'thread_ts': '1f015375-858e-6bee-8000-aa958edaa41a'}}) \n",
      "\n",
      "StateSnapshot(values={'scratch': 'hi', 'count': 0}, next=('Node1',), config={'configurable': {'thread_id': '1', 'thread_ts': '1f015375-858e-6bee-8000-aa958edaa41a'}}, metadata={'source': 'loop', 'step': 0, 'writes': None}, created_at='2025-04-09T11:39:49.809242+00:00', parent_config={'configurable': {'thread_id': '1', 'thread_ts': '1f015375-858b-6a8b-bfff-594868ef048c'}}) \n",
      "\n",
      "StateSnapshot(values={'count': 0}, next=('__start__',), config={'configurable': {'thread_id': '1', 'thread_ts': '1f015375-858b-6a8b-bfff-594868ef048c'}}, metadata={'source': 'input', 'step': -1, 'writes': {'count': 0, 'scratch': 'hi'}}, created_at='2025-04-09T11:39:49.807978+00:00', parent_config=None) \n",
      "\n"
     ]
    }
   ],
   "source": [
    "thread = {\"configurable\": {\"thread_id\": str(1)}}\n",
    "for state in graph.get_state_history(thread):\n",
    "    print(state,\"\\n\")"
   ]
  },
  {
   "cell_type": "markdown",
   "id": "d4653f91-761c-4185-8ca2-83de758308c7",
   "metadata": {},
   "source": [
    "### Modify State\n",
    "Let's start by starting a fresh thread and running to clean out history."
   ]
  },
  {
   "cell_type": "code",
   "execution_count": 52,
   "id": "0eaf346c-ce22-4b6a-b18f-d200dfd991de",
   "metadata": {
    "height": 62
   },
   "outputs": [
    {
     "name": "stdout",
     "output_type": "stream",
     "text": [
      "node1, count:0\n",
      "node2, count:1\n",
      "node1, count:2\n",
      "node2, count:3\n"
     ]
    },
    {
     "data": {
      "text/plain": [
       "{'lnode': 'node_2', 'scratch': 'hi', 'count': 4}"
      ]
     },
     "execution_count": 52,
     "metadata": {},
     "output_type": "execute_result"
    }
   ],
   "source": [
    "thread2 = {\"configurable\": {\"thread_id\": str(2)}}\n",
    "graph.invoke({\"count\":0, \"scratch\":\"hi\"},thread2)"
   ]
  },
  {
   "cell_type": "code",
   "execution_count": 53,
   "id": "90fc1797-25e6-4931-b173-2e520b71c372",
   "metadata": {
    "height": 64
   },
   "outputs": [
    {
     "data": {
      "image/png": "[encoded data removed]",
      "text/plain": [
       "<IPython.core.display.Image object>"
      ]
     },
     "execution_count": 53,
     "metadata": {},
     "output_type": "execute_result"
    }
   ],
   "source": [
    "from IPython.display import Image\n",
    "\n",
    "Image(graph.get_graph().draw_png())"
   ]
  },
  {
   "cell_type": "code",
   "execution_count": 54,
   "id": "4ede9215-3133-4ad9-8dd5-6a8288ebe055",
   "metadata": {
    "height": 96
   },
   "outputs": [
    {
     "name": "stdout",
     "output_type": "stream",
     "text": [
      "{'configurable': {'thread_id': '2', 'thread_ts': '1f015375-86fd-6084-8004-234258dda025'}} 4\n",
      "{'configurable': {'thread_id': '2', 'thread_ts': '1f015375-86fa-61d9-8003-75184182984e'}} 3\n",
      "{'configurable': {'thread_id': '2', 'thread_ts': '1f015375-86f8-60be-8002-653db34b618a'}} 2\n",
      "{'configurable': {'thread_id': '2', 'thread_ts': '1f015375-86f4-6a9c-8001-8f79c98fc2eb'}} 1\n",
      "{'configurable': {'thread_id': '2', 'thread_ts': '1f015375-86ef-655f-8000-2a883ddc97fa'}} 0\n",
      "{'configurable': {'thread_id': '2', 'thread_ts': '1f015375-86ed-631e-bfff-4487a89e72c0'}} 0\n"
     ]
    }
   ],
   "source": [
    "states2 = []\n",
    "for state in graph.get_state_history(thread2):\n",
    "    states2.append(state.config)\n",
    "    print(state.config, state.values['count'])   "
   ]
  },
  {
   "cell_type": "markdown",
   "id": "23ab2c5f-cb1d-4851-8925-ce0af1f12a40",
   "metadata": {},
   "source": [
    "Start by grabbing a state."
   ]
  },
  {
   "cell_type": "code",
   "execution_count": 55,
   "id": "65313f6a-c7a9-49e3-aab2-0eb905e74a91",
   "metadata": {
    "height": 47
   },
   "outputs": [
    {
     "data": {
      "text/plain": [
       "StateSnapshot(values={'lnode': 'node_1', 'scratch': 'hi', 'count': 1}, next=('Node2',), config={'configurable': {'thread_id': '2', 'thread_ts': '1f015375-86f4-6a9c-8001-8f79c98fc2eb'}}, metadata={'source': 'loop', 'step': 1, 'writes': {'Node1': {'count': 1, 'lnode': 'node_1'}}}, created_at='2025-04-09T11:39:49.955840+00:00', parent_config={'configurable': {'thread_id': '2', 'thread_ts': '1f015375-86ef-655f-8000-2a883ddc97fa'}})"
      ]
     },
     "execution_count": 55,
     "metadata": {},
     "output_type": "execute_result"
    }
   ],
   "source": [
    "save_state = graph.get_state(states2[-3])\n",
    "save_state"
   ]
  },
  {
   "cell_type": "markdown",
   "id": "c81b354b-8c2d-4150-9150-ac9d8486af02",
   "metadata": {},
   "source": [
    "Now modify the values. One subtle item to note: Recall when agent state was defined, `count` used `operator.add` to indicate that values are *added* to the current value. Here, `-3` will be added to the current count value rather than replace it."
   ]
  },
  {
   "cell_type": "code",
   "execution_count": 56,
   "id": "dae6527b-912f-4f86-a07b-1fae684aaa77",
   "metadata": {
    "height": 64
   },
   "outputs": [
    {
     "data": {
      "text/plain": [
       "StateSnapshot(values={'lnode': 'node_1', 'scratch': 'hello', 'count': -3}, next=('Node2',), config={'configurable': {'thread_id': '2', 'thread_ts': '1f015375-86f4-6a9c-8001-8f79c98fc2eb'}}, metadata={'source': 'loop', 'step': 1, 'writes': {'Node1': {'count': 1, 'lnode': 'node_1'}}}, created_at='2025-04-09T11:39:49.955840+00:00', parent_config={'configurable': {'thread_id': '2', 'thread_ts': '1f015375-86ef-655f-8000-2a883ddc97fa'}})"
      ]
     },
     "execution_count": 56,
     "metadata": {},
     "output_type": "execute_result"
    }
   ],
   "source": [
    "save_state.values[\"count\"] = -3\n",
    "save_state.values[\"scratch\"] = \"hello\"\n",
    "save_state"
   ]
  },
  {
   "cell_type": "markdown",
   "id": "904bb1eb-2e39-472f-ae56-d8e95e2f1ab6",
   "metadata": {},
   "source": [
    "Now update the state. This creates a new entry at the *top*, or *latest* entry in memory. This will become the current state."
   ]
  },
  {
   "cell_type": "code",
   "execution_count": 57,
   "id": "bcd78670-b119-45fa-934b-2ce2d477b4c2",
   "metadata": {
    "height": 45
   },
   "outputs": [
    {
     "data": {
      "text/plain": [
       "{'configurable': {'thread_id': '2',\n",
       "  'thread_ts': '1f015375-8774-6cd7-8005-b008801633a4'}}"
      ]
     },
     "execution_count": 57,
     "metadata": {},
     "output_type": "execute_result"
    }
   ],
   "source": [
    "graph.update_state(thread2,save_state.values)"
   ]
  },
  {
   "cell_type": "markdown",
   "id": "1bb3beed-1c44-4364-bde9-b29ea5e8ca30",
   "metadata": {},
   "source": [
    "Current state is at the top. You can match the `thread_ts`.\n",
    "Notice the `parent_config`, `thread_ts` of the new node - it is the previous node."
   ]
  },
  {
   "cell_type": "code",
   "execution_count": 58,
   "id": "231c7011-afe4-44bf-9e19-16220004912f",
   "metadata": {
    "height": 96
   },
   "outputs": [
    {
     "name": "stdout",
     "output_type": "stream",
     "text": [
      "StateSnapshot(values={'lnode': 'node_1', 'scratch': 'hello', 'count': 1}, next=('Node1',), config={'configurable': {'thread_id': '2', 'thread_ts': '1f015375-8774-6cd7-8005-b008801633a4'}}, metadata={'source': 'update', 'step': 5, 'writes': {'Node2': {'count': -3, 'lnode': 'node_1', 'scratch': 'hello'}}}, created_at='2025-04-09T11:39:50.008333+00:00', parent_config={'configurable': {'thread_id': '2', 'thread_ts': '1f015375-86fd-6084-8004-234258dda025'}}) \n",
      "\n",
      "StateSnapshot(values={'lnode': 'node_2', 'scratch': 'hi', 'count': 4}, next=(), config={'configurable': {'thread_id': '2', 'thread_ts': '1f015375-86fd-6084-8004-234258dda025'}}, metadata={'source': 'loop', 'step': 4, 'writes': {'Node2': {'count': 1, 'lnode': 'node_2'}}}, created_at='2025-04-09T11:39:49.959273+00:00', parent_config={'configurable': {'thread_id': '2', 'thread_ts': '1f015375-86fa-61d9-8003-75184182984e'}}) \n",
      "\n",
      "StateSnapshot(values={'lnode': 'node_1', 'scratch': 'hi', 'count': 3}, next=('Node2',), config={'configurable': {'thread_id': '2', 'thread_ts': '1f015375-86fa-61d9-8003-75184182984e'}}, metadata={'source': 'loop', 'step': 3, 'writes': {'Node1': {'count': 1, 'lnode': 'node_1'}}}, created_at='2025-04-09T11:39:49.958079+00:00', parent_config={'configurable': {'thread_id': '2', 'thread_ts': '1f015375-86f8-60be-8002-653db34b618a'}}) \n",
      "\n"
     ]
    }
   ],
   "source": [
    "for i, state in enumerate(graph.get_state_history(thread2)):\n",
    "    if i >= 3:  #print latest 3\n",
    "        break\n",
    "    print(state, '\\n')"
   ]
  },
  {
   "cell_type": "markdown",
   "id": "62d34cd8-99b6-4224-b345-fe8475f2a602",
   "metadata": {},
   "source": [
    "### Try again with `as_node`\n",
    "When writing using `update_state()`, you want to define to the graph logic which node should be assumed as the writer. What this does is allow th graph logic to find the node on the graph. After writing the values, the `next()` value is computed by travesing the graph using the new state. In this case, the state we have was written by `Node1`. The graph can then compute the next state as being `Node2`. Note that in some graphs, this may involve going through conditional edges!  Let's try this out."
   ]
  },
  {
   "cell_type": "code",
   "execution_count": 59,
   "id": "7bfda2f6-5887-40fa-a733-a4357ad857d8",
   "metadata": {
    "height": 45
   },
   "outputs": [
    {
     "data": {
      "text/plain": [
       "{'configurable': {'thread_id': '2',\n",
       "  'thread_ts': '1f015375-878a-6873-8006-cb22a995b9dc'}}"
      ]
     },
     "execution_count": 59,
     "metadata": {},
     "output_type": "execute_result"
    }
   ],
   "source": [
    "graph.update_state(thread2,save_state.values, as_node=\"Node1\")"
   ]
  },
  {
   "cell_type": "code",
   "execution_count": 60,
   "id": "0788ac0f-5f64-49b2-b335-3094bbb19143",
   "metadata": {
    "height": 96
   },
   "outputs": [
    {
     "name": "stdout",
     "output_type": "stream",
     "text": [
      "StateSnapshot(values={'lnode': 'node_1', 'scratch': 'hello', 'count': -2}, next=('Node2',), config={'configurable': {'thread_id': '2', 'thread_ts': '1f015375-878a-6873-8006-cb22a995b9dc'}}, metadata={'source': 'update', 'step': 6, 'writes': {'Node1': {'count': -3, 'lnode': 'node_1', 'scratch': 'hello'}}}, created_at='2025-04-09T11:39:50.017224+00:00', parent_config={'configurable': {'thread_id': '2', 'thread_ts': '1f015375-8774-6cd7-8005-b008801633a4'}}) \n",
      "\n",
      "StateSnapshot(values={'lnode': 'node_1', 'scratch': 'hello', 'count': 1}, next=('Node1',), config={'configurable': {'thread_id': '2', 'thread_ts': '1f015375-8774-6cd7-8005-b008801633a4'}}, metadata={'source': 'update', 'step': 5, 'writes': {'Node2': {'count': -3, 'lnode': 'node_1', 'scratch': 'hello'}}}, created_at='2025-04-09T11:39:50.008333+00:00', parent_config={'configurable': {'thread_id': '2', 'thread_ts': '1f015375-86fd-6084-8004-234258dda025'}}) \n",
      "\n",
      "StateSnapshot(values={'lnode': 'node_2', 'scratch': 'hi', 'count': 4}, next=(), config={'configurable': {'thread_id': '2', 'thread_ts': '1f015375-86fd-6084-8004-234258dda025'}}, metadata={'source': 'loop', 'step': 4, 'writes': {'Node2': {'count': 1, 'lnode': 'node_2'}}}, created_at='2025-04-09T11:39:49.959273+00:00', parent_config={'configurable': {'thread_id': '2', 'thread_ts': '1f015375-86fa-61d9-8003-75184182984e'}}) \n",
      "\n"
     ]
    }
   ],
   "source": [
    "for i, state in enumerate(graph.get_state_history(thread2)):\n",
    "    if i >= 3:  #print latest 3\n",
    "        break\n",
    "    print(state, '\\n')"
   ]
  },
  {
   "cell_type": "markdown",
   "id": "18a8f52e-d1a6-46a0-a519-6fda0cb91624",
   "metadata": {},
   "source": [
    "`invoke` will run from the current state if not given a particular `thread_ts`. This is now the entry that was just added."
   ]
  },
  {
   "cell_type": "code",
   "execution_count": 61,
   "id": "9650d355-07c1-4a7d-a21d-4231673a7ee9",
   "metadata": {
    "height": 30
   },
   "outputs": [
    {
     "name": "stdout",
     "output_type": "stream",
     "text": [
      "node2, count:-2\n",
      "node1, count:-1\n",
      "node2, count:0\n",
      "node1, count:1\n",
      "node2, count:2\n"
     ]
    },
    {
     "data": {
      "text/plain": [
       "{'lnode': 'node_2', 'scratch': 'hello', 'count': 3}"
      ]
     },
     "execution_count": 61,
     "metadata": {},
     "output_type": "execute_result"
    }
   ],
   "source": [
    "graph.invoke(None,thread2)"
   ]
  },
  {
   "cell_type": "markdown",
   "id": "c59d3069-8fe7-4a05-9bfd-8e3a2e4590ad",
   "metadata": {},
   "source": [
    "Print out the state history, notice the `scratch` value change on the latest entries."
   ]
  },
  {
   "cell_type": "code",
   "execution_count": 62,
   "id": "35088704-2b18-4d44-ba0e-dccbfde6ed9e",
   "metadata": {
    "height": 62
   },
   "outputs": [
    {
     "name": "stdout",
     "output_type": "stream",
     "text": [
      "StateSnapshot(values={'lnode': 'node_2', 'scratch': 'hello', 'count': 3}, next=(), config={'configurable': {'thread_id': '2', 'thread_ts': '1f015375-87b1-6782-800b-bbc292ab65b8'}}, metadata={'source': 'loop', 'step': 11, 'writes': {'Node2': {'count': 1, 'lnode': 'node_2'}}}, created_at='2025-04-09T11:39:50.033180+00:00', parent_config={'configurable': {'thread_id': '2', 'thread_ts': '1f015375-87ae-6cb3-800a-b34fedd8682d'}}) \n",
      "\n",
      "StateSnapshot(values={'lnode': 'node_1', 'scratch': 'hello', 'count': 2}, next=('Node2',), config={'configurable': {'thread_id': '2', 'thread_ts': '1f015375-87ae-6cb3-800a-b34fedd8682d'}}, metadata={'source': 'loop', 'step': 10, 'writes': {'Node1': {'count': 1, 'lnode': 'node_1'}}}, created_at='2025-04-09T11:39:50.032081+00:00', parent_config={'configurable': {'thread_id': '2', 'thread_ts': '1f015375-87ac-650d-8009-1963bae48a63'}}) \n",
      "\n",
      "StateSnapshot(values={'lnode': 'node_2', 'scratch': 'hello', 'count': 1}, next=('Node1',), config={'configurable': {'thread_id': '2', 'thread_ts': '1f015375-87ac-650d-8009-1963bae48a63'}}, metadata={'source': 'loop', 'step': 9, 'writes': {'Node2': {'count': 1, 'lnode': 'node_2'}}}, created_at='2025-04-09T11:39:50.031069+00:00', parent_config={'configurable': {'thread_id': '2', 'thread_ts': '1f015375-87a8-67d2-8008-b4f17c89285f'}}) \n",
      "\n",
      "StateSnapshot(values={'lnode': 'node_1', 'scratch': 'hello', 'count': 0}, next=('Node2',), config={'configurable': {'thread_id': '2', 'thread_ts': '1f015375-87a8-67d2-8008-b4f17c89285f'}}, metadata={'source': 'loop', 'step': 8, 'writes': {'Node1': {'count': 1, 'lnode': 'node_1'}}}, created_at='2025-04-09T11:39:50.029500+00:00', parent_config={'configurable': {'thread_id': '2', 'thread_ts': '1f015375-87a6-6118-8007-9eced9064467'}}) \n",
      "\n",
      "StateSnapshot(values={'lnode': 'node_2', 'scratch': 'hello', 'count': -1}, next=('Node1',), config={'configurable': {'thread_id': '2', 'thread_ts': '1f015375-87a6-6118-8007-9eced9064467'}}, metadata={'source': 'loop', 'step': 7, 'writes': {'Node2': {'count': 1, 'lnode': 'node_2'}}}, created_at='2025-04-09T11:39:50.028509+00:00', parent_config={'configurable': {'thread_id': '2', 'thread_ts': '1f015375-878a-6873-8006-cb22a995b9dc'}}) \n",
      "\n",
      "StateSnapshot(values={'lnode': 'node_1', 'scratch': 'hello', 'count': -2}, next=('Node2',), config={'configurable': {'thread_id': '2', 'thread_ts': '1f015375-878a-6873-8006-cb22a995b9dc'}}, metadata={'source': 'update', 'step': 6, 'writes': {'Node1': {'count': -3, 'lnode': 'node_1', 'scratch': 'hello'}}}, created_at='2025-04-09T11:39:50.017224+00:00', parent_config={'configurable': {'thread_id': '2', 'thread_ts': '1f015375-8774-6cd7-8005-b008801633a4'}}) \n",
      "\n",
      "StateSnapshot(values={'lnode': 'node_1', 'scratch': 'hello', 'count': 1}, next=('Node1',), config={'configurable': {'thread_id': '2', 'thread_ts': '1f015375-8774-6cd7-8005-b008801633a4'}}, metadata={'source': 'update', 'step': 5, 'writes': {'Node2': {'count': -3, 'lnode': 'node_1', 'scratch': 'hello'}}}, created_at='2025-04-09T11:39:50.008333+00:00', parent_config={'configurable': {'thread_id': '2', 'thread_ts': '1f015375-86fd-6084-8004-234258dda025'}}) \n",
      "\n",
      "StateSnapshot(values={'lnode': 'node_2', 'scratch': 'hi', 'count': 4}, next=(), config={'configurable': {'thread_id': '2', 'thread_ts': '1f015375-86fd-6084-8004-234258dda025'}}, metadata={'source': 'loop', 'step': 4, 'writes': {'Node2': {'count': 1, 'lnode': 'node_2'}}}, created_at='2025-04-09T11:39:49.959273+00:00', parent_config={'configurable': {'thread_id': '2', 'thread_ts': '1f015375-86fa-61d9-8003-75184182984e'}}) \n",
      "\n",
      "StateSnapshot(values={'lnode': 'node_1', 'scratch': 'hi', 'count': 3}, next=('Node2',), config={'configurable': {'thread_id': '2', 'thread_ts': '1f015375-86fa-61d9-8003-75184182984e'}}, metadata={'source': 'loop', 'step': 3, 'writes': {'Node1': {'count': 1, 'lnode': 'node_1'}}}, created_at='2025-04-09T11:39:49.958079+00:00', parent_config={'configurable': {'thread_id': '2', 'thread_ts': '1f015375-86f8-60be-8002-653db34b618a'}}) \n",
      "\n",
      "StateSnapshot(values={'lnode': 'node_2', 'scratch': 'hi', 'count': 2}, next=('Node1',), config={'configurable': {'thread_id': '2', 'thread_ts': '1f015375-86f8-60be-8002-653db34b618a'}}, metadata={'source': 'loop', 'step': 2, 'writes': {'Node2': {'count': 1, 'lnode': 'node_2'}}}, created_at='2025-04-09T11:39:49.957229+00:00', parent_config={'configurable': {'thread_id': '2', 'thread_ts': '1f015375-86f4-6a9c-8001-8f79c98fc2eb'}}) \n",
      "\n",
      "StateSnapshot(values={'lnode': 'node_1', 'scratch': 'hi', 'count': 1}, next=('Node2',), config={'configurable': {'thread_id': '2', 'thread_ts': '1f015375-86f4-6a9c-8001-8f79c98fc2eb'}}, metadata={'source': 'loop', 'step': 1, 'writes': {'Node1': {'count': 1, 'lnode': 'node_1'}}}, created_at='2025-04-09T11:39:49.955840+00:00', parent_config={'configurable': {'thread_id': '2', 'thread_ts': '1f015375-86ef-655f-8000-2a883ddc97fa'}}) \n",
      "\n",
      "StateSnapshot(values={'scratch': 'hi', 'count': 0}, next=('Node1',), config={'configurable': {'thread_id': '2', 'thread_ts': '1f015375-86ef-655f-8000-2a883ddc97fa'}}, metadata={'source': 'loop', 'step': 0, 'writes': None}, created_at='2025-04-09T11:39:49.953665+00:00', parent_config={'configurable': {'thread_id': '2', 'thread_ts': '1f015375-86ed-631e-bfff-4487a89e72c0'}}) \n",
      "\n",
      "StateSnapshot(values={'count': 0}, next=('__start__',), config={'configurable': {'thread_id': '2', 'thread_ts': '1f015375-86ed-631e-bfff-4487a89e72c0'}}, metadata={'source': 'input', 'step': -1, 'writes': {'count': 0, 'scratch': 'hi'}}, created_at='2025-04-09T11:39:49.952786+00:00', parent_config=None) \n",
      "\n"
     ]
    }
   ],
   "source": [
    "for state in graph.get_state_history(thread2):\n",
    "    print(state,\"\\n\")"
   ]
  },
  {
   "cell_type": "markdown",
   "id": "a5ea1bba-cf12-4493-948b-08b300054742",
   "metadata": {},
   "source": [
    "Continue to experiment!"
   ]
  },
  {
   "cell_type": "code",
   "execution_count": null,
   "id": "393f7f1f-68b4-4462-bfa5-b6472ef1304a",
   "metadata": {
    "height": 30
   },
   "outputs": [],
   "source": []
  },
  {
   "cell_type": "code",
   "execution_count": null,
   "id": "43ac0aa9-baa7-4b58-889d-2118cc00c6b5",
   "metadata": {
    "height": 30
   },
   "outputs": [],
   "source": []
  },
  {
   "cell_type": "code",
   "execution_count": null,
   "id": "ed6098b9-e2a9-4767-8cb5-346db835c8d2",
   "metadata": {
    "height": 30
   },
   "outputs": [],
   "source": []
  },
  {
   "cell_type": "code",
   "execution_count": null,
   "id": "2d23cf2a-a179-44dc-9ae3-2eddda4b67b4",
   "metadata": {
    "height": 30
   },
   "outputs": [],
   "source": []
  },
  {
   "cell_type": "code",
   "execution_count": null,
   "id": "14a6005b-0221-4f5e-9be0-0580c1d03126",
   "metadata": {
    "height": 30
   },
   "outputs": [],
   "source": []
  },
  {
   "cell_type": "code",
   "execution_count": null,
   "id": "41c1ec12-f1c8-41ae-bb3e-5f28997b9b99",
   "metadata": {
    "height": 30
   },
   "outputs": [],
   "source": []
  },
  {
   "cell_type": "code",
   "execution_count": null,
   "id": "5c8c07d7-be17-4c17-82c5-6fe1db028b8b",
   "metadata": {
    "height": 30
   },
   "outputs": [],
   "source": []
  },
  {
   "cell_type": "code",
   "execution_count": null,
   "id": "04592c8e-1cfe-4b26-93b5-caf1ed1e7d24",
   "metadata": {
    "height": 30
   },
   "outputs": [],
   "source": []
  },
  {
   "cell_type": "code",
   "execution_count": null,
   "id": "6181c4a9-0e71-4f67-b71f-18a225e37202",
   "metadata": {
    "height": 30
   },
   "outputs": [],
   "source": []
  },
  {
   "cell_type": "code",
   "execution_count": null,
   "id": "e1c478a9-7bfe-49e2-8a7d-1536271f45a6",
   "metadata": {
    "height": 30
   },
   "outputs": [],
   "source": []
  },
  {
   "cell_type": "code",
   "execution_count": null,
   "id": "0a6d6771-3fad-4f37-9b32-45b36ad85c59",
   "metadata": {
    "height": 30
   },
   "outputs": [],
   "source": []
  },
  {
   "cell_type": "code",
   "execution_count": null,
   "id": "a3629eb3-655d-467a-b413-63f547c2de08",
   "metadata": {
    "height": 30
   },
   "outputs": [],
   "source": []
  },
  {
   "cell_type": "code",
   "execution_count": null,
   "id": "f772f251-2b61-4d10-97c5-61cef9207a76",
   "metadata": {
    "height": 30
   },
   "outputs": [],
   "source": []
  },
  {
   "cell_type": "code",
   "execution_count": null,
   "id": "0de92979-7ac5-4a7c-91c1-10806b7d529c",
   "metadata": {
    "height": 30
   },
   "outputs": [],
   "source": []
  },
  {
   "cell_type": "code",
   "execution_count": null,
   "id": "479c4325-f625-4bbf-9d74-cc58f10763f2",
   "metadata": {
    "height": 30
   },
   "outputs": [],
   "source": []
  },
  {
   "cell_type": "code",
   "execution_count": null,
   "id": "c4070be7-72da-42f9-a25d-8a6c628788b8",
   "metadata": {
    "height": 30
   },
   "outputs": [],
   "source": []
  },
  {
   "cell_type": "code",
   "execution_count": null,
   "id": "9289efbe-7033-4f32-8482-2039c5f9db90",
   "metadata": {
    "height": 30
   },
   "outputs": [],
   "source": []
  },
  {
   "cell_type": "code",
   "execution_count": null,
   "id": "25e480bb-22ab-4acb-a42c-71da3d04a5b1",
   "metadata": {
    "height": 30
   },
   "outputs": [],
   "source": []
  },
  {
   "cell_type": "code",
   "execution_count": null,
   "id": "90dea35c-7483-4b3d-b5e3-76eb3a0fe536",
   "metadata": {
    "height": 30
   },
   "outputs": [],
   "source": []
  },
  {
   "cell_type": "code",
   "execution_count": null,
   "id": "e9ac5730-a9d5-4ea4-8546-ebcb265cf1da",
   "metadata": {
    "height": 30
   },
   "outputs": [],
   "source": []
  },
  {
   "cell_type": "code",
   "execution_count": null,
   "id": "96e1f28b-46d8-4bcd-b2e4-730376ee7ccf",
   "metadata": {
    "height": 30
   },
   "outputs": [],
   "source": []
  },
  {
   "cell_type": "code",
   "execution_count": null,
   "id": "22ac7020-b4f4-4bd2-a875-ccee93f83d83",
   "metadata": {
    "height": 30
   },
   "outputs": [],
   "source": []
  },
  {
   "cell_type": "code",
   "execution_count": null,
   "id": "61f79eb9-d1c9-44b0-9efd-a8f9b380332a",
   "metadata": {
    "height": 30
   },
   "outputs": [],
   "source": []
  },
  {
   "cell_type": "code",
   "execution_count": null,
   "id": "ce509206-bde1-43e4-a88f-8a565539d357",
   "metadata": {
    "height": 30
   },
   "outputs": [],
   "source": []
  },
  {
   "cell_type": "code",
   "execution_count": null,
   "id": "bdba1590-9e7b-4c0f-9492-81a07d286c55",
   "metadata": {
    "height": 30
   },
   "outputs": [],
   "source": []
  },
  {
   "cell_type": "code",
   "execution_count": null,
   "id": "aa8fe4a8-5372-479d-b248-af7a295c86c1",
   "metadata": {
    "height": 30
   },
   "outputs": [],
   "source": []
  },
  {
   "cell_type": "code",
   "execution_count": null,
   "id": "7514720a-14bc-4552-ade5-fa03f86f4c73",
   "metadata": {
    "height": 30
   },
   "outputs": [],
   "source": []
  }
 ],
 "metadata": {
  "kernelspec": {
   "display_name": "Python 3 (ipykernel)",
   "language": "python",
   "name": "python3"
  },
  "language_info": {
   "codemirror_mode": {
    "name": "ipython",
    "version": 3
   },
   "file_extension": ".py",
   "mimetype": "text/x-python",
   "name": "python",
   "nbconvert_exporter": "python",
   "pygments_lexer": "ipython3",
   "version": "3.11.9"
  }
 },
 "nbformat": 4,
 "nbformat_minor": 5
}
